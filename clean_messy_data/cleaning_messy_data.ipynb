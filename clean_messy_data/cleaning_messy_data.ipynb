{
 "cells": [
  {
   "cell_type": "markdown",
   "metadata": {},
   "source": [
    "# Mission: To Build the Most Complete Collection of Recipes"
   ]
  },
  {
   "cell_type": "markdown",
   "metadata": {},
   "source": [
    "HealthyDonald's is a new fast-food chain making waves across Asia, Europe, and the US.\n",
    "\n",
    "They aim to gain more insights into the unique food cultures around the globe. To achieve this, they set out to build the most complete collection of recipes from all over the world.\n",
    "\n",
    "[They started with this dataset](https://github.com/fictivekin/openrecipes) — one of the largest recipe collections available on GitHub.\n",
    "\n",
    "**Now, it's time to tidy up this somewhat chaotic dataset.**\n",
    "\n",
    "In this Jupyter notebook, you can find the exact steps I took to clean up this data. No fancy edits from the first time I wrote the code.\n",
    "\n",
    "What could improve this cleanup even more? Perhaps using an ML model to discern, based on the descriptions, whether a dish is best suited for breakfast, dinner, or lunch.\n",
    "\n",
    "*For now, enjoy the stream of consciousness...*"
   ]
  },
  {
   "cell_type": "markdown",
   "metadata": {},
   "source": [
    "![Data cleaning](cleaning_messy_data.png)"
   ]
  },
  {
   "cell_type": "code",
   "execution_count": 1,
   "metadata": {},
   "outputs": [],
   "source": [
    "import numpy as np\n",
    "import pandas as pd"
   ]
  },
  {
   "cell_type": "code",
   "execution_count": 2,
   "metadata": {},
   "outputs": [],
   "source": [
    "#This is the only edit I made\n",
    "\n",
    "import warnings\n",
    "warnings.filterwarnings(\"ignore\")"
   ]
  },
  {
   "cell_type": "code",
   "execution_count": 5,
   "metadata": {},
   "outputs": [],
   "source": [
    "with open (r'your_path') as f:\n",
    "    data = (line.strip() for line in f)\n",
    "    data_json = \"[{0}]\".format(','.join(data))\n",
    "recipes = pd.read_json(data_json)"
   ]
  },
  {
   "cell_type": "markdown",
   "metadata": {},
   "source": [
    "## Trying to understand what I'm dealing with"
   ]
  },
  {
   "cell_type": "code",
   "execution_count": 6,
   "metadata": {},
   "outputs": [
    {
     "data": {
      "text/html": [
       "<div>\n",
       "<style scoped>\n",
       "    .dataframe tbody tr th:only-of-type {\n",
       "        vertical-align: middle;\n",
       "    }\n",
       "\n",
       "    .dataframe tbody tr th {\n",
       "        vertical-align: top;\n",
       "    }\n",
       "\n",
       "    .dataframe thead th {\n",
       "        text-align: right;\n",
       "    }\n",
       "</style>\n",
       "<table border=\"1\" class=\"dataframe\">\n",
       "  <thead>\n",
       "    <tr style=\"text-align: right;\">\n",
       "      <th></th>\n",
       "      <th>_id</th>\n",
       "      <th>name</th>\n",
       "      <th>ingredients</th>\n",
       "      <th>url</th>\n",
       "      <th>image</th>\n",
       "      <th>ts</th>\n",
       "      <th>cookTime</th>\n",
       "      <th>source</th>\n",
       "      <th>recipeYield</th>\n",
       "      <th>datePublished</th>\n",
       "      <th>prepTime</th>\n",
       "      <th>description</th>\n",
       "      <th>totalTime</th>\n",
       "      <th>creator</th>\n",
       "      <th>recipeCategory</th>\n",
       "      <th>dateModified</th>\n",
       "      <th>recipeInstructions</th>\n",
       "    </tr>\n",
       "  </thead>\n",
       "  <tbody>\n",
       "    <tr>\n",
       "      <th>0</th>\n",
       "      <td>{'$oid': '5160756b96cc62079cc2db15'}</td>\n",
       "      <td>Drop Biscuits and Sausage Gravy</td>\n",
       "      <td>Biscuits\\n3 cups All-purpose Flour\\n2 Tablespo...</td>\n",
       "      <td>http://thepioneerwoman.com/cooking/2013/03/dro...</td>\n",
       "      <td>http://static.thepioneerwoman.com/cooking/file...</td>\n",
       "      <td>{'$date': 1365276011104}</td>\n",
       "      <td>PT30M</td>\n",
       "      <td>thepioneerwoman</td>\n",
       "      <td>12</td>\n",
       "      <td>2013-03-11</td>\n",
       "      <td>PT10M</td>\n",
       "      <td>Late Saturday afternoon, after Marlboro Man ha...</td>\n",
       "      <td>NaN</td>\n",
       "      <td>NaN</td>\n",
       "      <td>NaN</td>\n",
       "      <td>NaN</td>\n",
       "      <td>NaN</td>\n",
       "    </tr>\n",
       "    <tr>\n",
       "      <th>1</th>\n",
       "      <td>{'$oid': '5160756d96cc62079cc2db16'}</td>\n",
       "      <td>Hot Roast Beef Sandwiches</td>\n",
       "      <td>12 whole Dinner Rolls Or Small Sandwich Buns (...</td>\n",
       "      <td>http://thepioneerwoman.com/cooking/2013/03/hot...</td>\n",
       "      <td>http://static.thepioneerwoman.com/cooking/file...</td>\n",
       "      <td>{'$date': 1365276013902}</td>\n",
       "      <td>PT20M</td>\n",
       "      <td>thepioneerwoman</td>\n",
       "      <td>12</td>\n",
       "      <td>2013-03-13</td>\n",
       "      <td>PT20M</td>\n",
       "      <td>When I was growing up, I participated in my Ep...</td>\n",
       "      <td>NaN</td>\n",
       "      <td>NaN</td>\n",
       "      <td>NaN</td>\n",
       "      <td>NaN</td>\n",
       "      <td>NaN</td>\n",
       "    </tr>\n",
       "    <tr>\n",
       "      <th>2</th>\n",
       "      <td>{'$oid': '5160756f96cc6207a37ff777'}</td>\n",
       "      <td>Morrocan Carrot and Chickpea Salad</td>\n",
       "      <td>Dressing:\\n1 tablespoon cumin seeds\\n1/3 cup /...</td>\n",
       "      <td>http://www.101cookbooks.com/archives/moroccan-...</td>\n",
       "      <td>http://www.101cookbooks.com/mt-static/images/f...</td>\n",
       "      <td>{'$date': 1365276015332}</td>\n",
       "      <td>NaN</td>\n",
       "      <td>101cookbooks</td>\n",
       "      <td>NaN</td>\n",
       "      <td>2013-01-07</td>\n",
       "      <td>PT15M</td>\n",
       "      <td>A beauty of a carrot salad - tricked out with ...</td>\n",
       "      <td>NaN</td>\n",
       "      <td>NaN</td>\n",
       "      <td>NaN</td>\n",
       "      <td>NaN</td>\n",
       "      <td>NaN</td>\n",
       "    </tr>\n",
       "  </tbody>\n",
       "</table>\n",
       "</div>"
      ],
      "text/plain": [
       "                                    _id                                name  \\\n",
       "0  {'$oid': '5160756b96cc62079cc2db15'}     Drop Biscuits and Sausage Gravy   \n",
       "1  {'$oid': '5160756d96cc62079cc2db16'}           Hot Roast Beef Sandwiches   \n",
       "2  {'$oid': '5160756f96cc6207a37ff777'}  Morrocan Carrot and Chickpea Salad   \n",
       "\n",
       "                                         ingredients  \\\n",
       "0  Biscuits\\n3 cups All-purpose Flour\\n2 Tablespo...   \n",
       "1  12 whole Dinner Rolls Or Small Sandwich Buns (...   \n",
       "2  Dressing:\\n1 tablespoon cumin seeds\\n1/3 cup /...   \n",
       "\n",
       "                                                 url  \\\n",
       "0  http://thepioneerwoman.com/cooking/2013/03/dro...   \n",
       "1  http://thepioneerwoman.com/cooking/2013/03/hot...   \n",
       "2  http://www.101cookbooks.com/archives/moroccan-...   \n",
       "\n",
       "                                               image  \\\n",
       "0  http://static.thepioneerwoman.com/cooking/file...   \n",
       "1  http://static.thepioneerwoman.com/cooking/file...   \n",
       "2  http://www.101cookbooks.com/mt-static/images/f...   \n",
       "\n",
       "                         ts cookTime           source recipeYield  \\\n",
       "0  {'$date': 1365276011104}    PT30M  thepioneerwoman          12   \n",
       "1  {'$date': 1365276013902}    PT20M  thepioneerwoman          12   \n",
       "2  {'$date': 1365276015332}      NaN     101cookbooks         NaN   \n",
       "\n",
       "  datePublished prepTime                                        description  \\\n",
       "0    2013-03-11    PT10M  Late Saturday afternoon, after Marlboro Man ha...   \n",
       "1    2013-03-13    PT20M  When I was growing up, I participated in my Ep...   \n",
       "2    2013-01-07    PT15M  A beauty of a carrot salad - tricked out with ...   \n",
       "\n",
       "  totalTime creator recipeCategory dateModified recipeInstructions  \n",
       "0       NaN     NaN            NaN          NaN                NaN  \n",
       "1       NaN     NaN            NaN          NaN                NaN  \n",
       "2       NaN     NaN            NaN          NaN                NaN  "
      ]
     },
     "execution_count": 6,
     "metadata": {},
     "output_type": "execute_result"
    }
   ],
   "source": [
    "recipes.head(3)"
   ]
  },
  {
   "cell_type": "code",
   "execution_count": 7,
   "metadata": {},
   "outputs": [],
   "source": [
    "recipes.name = recipes.name.str.lower()\n",
    "recipes.ingredients = recipes.ingredients.str.lower()"
   ]
  },
  {
   "cell_type": "code",
   "execution_count": 8,
   "metadata": {},
   "outputs": [
    {
     "name": "stdout",
     "output_type": "stream",
     "text": [
      "<class 'pandas.core.frame.DataFrame'>\n",
      "RangeIndex: 173278 entries, 0 to 173277\n",
      "Data columns (total 17 columns):\n",
      " #   Column              Non-Null Count   Dtype \n",
      "---  ------              --------------   ----- \n",
      " 0   _id                 173278 non-null  object\n",
      " 1   name                173278 non-null  object\n",
      " 2   ingredients         173278 non-null  object\n",
      " 3   url                 173278 non-null  object\n",
      " 4   image               158278 non-null  object\n",
      " 5   ts                  173278 non-null  object\n",
      " 6   cookTime            117936 non-null  object\n",
      " 7   source              173278 non-null  object\n",
      " 8   recipeYield         165628 non-null  object\n",
      " 9   datePublished       78110 non-null   object\n",
      " 10  prepTime            130186 non-null  object\n",
      " 11  description         158068 non-null  object\n",
      " 12  totalTime           1570 non-null    object\n",
      " 13  creator             395 non-null     object\n",
      " 14  recipeCategory      388 non-null     object\n",
      " 15  dateModified        161 non-null     object\n",
      " 16  recipeInstructions  4 non-null       object\n",
      "dtypes: object(17)\n",
      "memory usage: 22.5+ MB\n"
     ]
    }
   ],
   "source": [
    "recipes.info()"
   ]
  },
  {
   "cell_type": "markdown",
   "metadata": {},
   "source": [
    "## Clean the 'id' column"
   ]
  },
  {
   "cell_type": "code",
   "execution_count": 9,
   "metadata": {},
   "outputs": [],
   "source": [
    "recipes['_id'] = recipes['_id'].astype(str)\n",
    "recipes['_id'] = recipes['_id'].str[10:-2]"
   ]
  },
  {
   "cell_type": "code",
   "execution_count": 11,
   "metadata": {},
   "outputs": [],
   "source": [
    "recipes.drop(['totalTime', 'creator', 'recipeCategory',\n",
    "              'dateModified', 'recipeInstructions'],\n",
    "              inplace=True, axis=1)"
   ]
  },
  {
   "cell_type": "code",
   "execution_count": 12,
   "metadata": {},
   "outputs": [
    {
     "data": {
      "text/plain": [
       "_id                  0\n",
       "name                 0\n",
       "ingredients          0\n",
       "url                  0\n",
       "image            15000\n",
       "ts                   0\n",
       "cookTime         55342\n",
       "source               0\n",
       "recipeYield       7650\n",
       "datePublished    95168\n",
       "prepTime         43092\n",
       "description      15210\n",
       "dtype: int64"
      ]
     },
     "execution_count": 12,
     "metadata": {},
     "output_type": "execute_result"
    }
   ],
   "source": [
    "recipes.isnull().sum()"
   ]
  },
  {
   "cell_type": "markdown",
   "metadata": {},
   "source": [
    "## Time stamp"
   ]
  },
  {
   "cell_type": "code",
   "execution_count": 13,
   "metadata": {},
   "outputs": [],
   "source": [
    "recipes['ts'] = pd.to_datetime(recipes['ts'].apply(lambda x: x['$date']), unit='ms')"
   ]
  },
  {
   "cell_type": "code",
   "execution_count": 14,
   "metadata": {},
   "outputs": [],
   "source": [
    "recipes['day'] = recipes['ts'].dt.day\n",
    "recipes['month'] = recipes['ts'].dt.month\n",
    "recipes['year'] = recipes['ts'].dt.year\n",
    "recipes['time_stamp'] = pd.to_datetime(recipes[['year', 'month', 'day']])"
   ]
  },
  {
   "cell_type": "code",
   "execution_count": 15,
   "metadata": {},
   "outputs": [
    {
     "data": {
      "text/html": [
       "<div>\n",
       "<style scoped>\n",
       "    .dataframe tbody tr th:only-of-type {\n",
       "        vertical-align: middle;\n",
       "    }\n",
       "\n",
       "    .dataframe tbody tr th {\n",
       "        vertical-align: top;\n",
       "    }\n",
       "\n",
       "    .dataframe thead th {\n",
       "        text-align: right;\n",
       "    }\n",
       "</style>\n",
       "<table border=\"1\" class=\"dataframe\">\n",
       "  <thead>\n",
       "    <tr style=\"text-align: right;\">\n",
       "      <th></th>\n",
       "      <th>_id</th>\n",
       "      <th>name</th>\n",
       "      <th>ingredients</th>\n",
       "      <th>url</th>\n",
       "      <th>image</th>\n",
       "      <th>cookTime</th>\n",
       "      <th>source</th>\n",
       "      <th>recipeYield</th>\n",
       "      <th>prepTime</th>\n",
       "      <th>description</th>\n",
       "      <th>time_stamp</th>\n",
       "    </tr>\n",
       "  </thead>\n",
       "  <tbody>\n",
       "    <tr>\n",
       "      <th>0</th>\n",
       "      <td>5160756b96cc62079cc2db15</td>\n",
       "      <td>drop biscuits and sausage gravy</td>\n",
       "      <td>biscuits\\n3 cups all-purpose flour\\n2 tablespo...</td>\n",
       "      <td>http://thepioneerwoman.com/cooking/2013/03/dro...</td>\n",
       "      <td>http://static.thepioneerwoman.com/cooking/file...</td>\n",
       "      <td>PT30M</td>\n",
       "      <td>thepioneerwoman</td>\n",
       "      <td>12</td>\n",
       "      <td>PT10M</td>\n",
       "      <td>Late Saturday afternoon, after Marlboro Man ha...</td>\n",
       "      <td>2013-04-06</td>\n",
       "    </tr>\n",
       "    <tr>\n",
       "      <th>1</th>\n",
       "      <td>5160756d96cc62079cc2db16</td>\n",
       "      <td>hot roast beef sandwiches</td>\n",
       "      <td>12 whole dinner rolls or small sandwich buns (...</td>\n",
       "      <td>http://thepioneerwoman.com/cooking/2013/03/hot...</td>\n",
       "      <td>http://static.thepioneerwoman.com/cooking/file...</td>\n",
       "      <td>PT20M</td>\n",
       "      <td>thepioneerwoman</td>\n",
       "      <td>12</td>\n",
       "      <td>PT20M</td>\n",
       "      <td>When I was growing up, I participated in my Ep...</td>\n",
       "      <td>2013-04-06</td>\n",
       "    </tr>\n",
       "  </tbody>\n",
       "</table>\n",
       "</div>"
      ],
      "text/plain": [
       "                        _id                             name  \\\n",
       "0  5160756b96cc62079cc2db15  drop biscuits and sausage gravy   \n",
       "1  5160756d96cc62079cc2db16        hot roast beef sandwiches   \n",
       "\n",
       "                                         ingredients  \\\n",
       "0  biscuits\\n3 cups all-purpose flour\\n2 tablespo...   \n",
       "1  12 whole dinner rolls or small sandwich buns (...   \n",
       "\n",
       "                                                 url  \\\n",
       "0  http://thepioneerwoman.com/cooking/2013/03/dro...   \n",
       "1  http://thepioneerwoman.com/cooking/2013/03/hot...   \n",
       "\n",
       "                                               image cookTime  \\\n",
       "0  http://static.thepioneerwoman.com/cooking/file...    PT30M   \n",
       "1  http://static.thepioneerwoman.com/cooking/file...    PT20M   \n",
       "\n",
       "            source recipeYield prepTime  \\\n",
       "0  thepioneerwoman          12    PT10M   \n",
       "1  thepioneerwoman          12    PT20M   \n",
       "\n",
       "                                         description time_stamp  \n",
       "0  Late Saturday afternoon, after Marlboro Man ha... 2013-04-06  \n",
       "1  When I was growing up, I participated in my Ep... 2013-04-06  "
      ]
     },
     "execution_count": 15,
     "metadata": {},
     "output_type": "execute_result"
    }
   ],
   "source": [
    "recipes.drop(['year', 'month', 'day', 'ts', 'datePublished'], inplace=True,\n",
    "             axis=1)\n",
    "recipes.head(2)"
   ]
  },
  {
   "cell_type": "code",
   "execution_count": 16,
   "metadata": {},
   "outputs": [],
   "source": [
    "recipes.drop('recipeYield', inplace=True, axis=1)"
   ]
  },
  {
   "cell_type": "markdown",
   "metadata": {},
   "source": [
    "# Prep Time"
   ]
  },
  {
   "cell_type": "code",
   "execution_count": 17,
   "metadata": {},
   "outputs": [],
   "source": [
    "len_prep = recipes['prepTime'].str.len()"
   ]
  },
  {
   "cell_type": "code",
   "execution_count": 18,
   "metadata": {},
   "outputs": [
    {
     "data": {
      "text/plain": [
       "17.0"
      ]
     },
     "execution_count": 18,
     "metadata": {},
     "output_type": "execute_result"
    }
   ],
   "source": [
    "len_prep.max()"
   ]
  },
  {
   "cell_type": "code",
   "execution_count": 19,
   "metadata": {},
   "outputs": [
    {
     "data": {
      "text/html": [
       "<div>\n",
       "<style scoped>\n",
       "    .dataframe tbody tr th:only-of-type {\n",
       "        vertical-align: middle;\n",
       "    }\n",
       "\n",
       "    .dataframe tbody tr th {\n",
       "        vertical-align: top;\n",
       "    }\n",
       "\n",
       "    .dataframe thead th {\n",
       "        text-align: right;\n",
       "    }\n",
       "</style>\n",
       "<table border=\"1\" class=\"dataframe\">\n",
       "  <thead>\n",
       "    <tr style=\"text-align: right;\">\n",
       "      <th></th>\n",
       "      <th>_id</th>\n",
       "      <th>name</th>\n",
       "      <th>ingredients</th>\n",
       "      <th>url</th>\n",
       "      <th>image</th>\n",
       "      <th>cookTime</th>\n",
       "      <th>source</th>\n",
       "      <th>prepTime</th>\n",
       "      <th>description</th>\n",
       "      <th>time_stamp</th>\n",
       "    </tr>\n",
       "  </thead>\n",
       "  <tbody>\n",
       "    <tr>\n",
       "      <th>2387</th>\n",
       "      <td>51607e5096cc6208e46ae3bb</td>\n",
       "      <td>filled meringue coffee cake</td>\n",
       "      <td></td>\n",
       "      <td>http://delishhh.com/2011/03/27/filled-meringue...</td>\n",
       "      <td>http://farm6.static.flickr.com/5062/5564739251...</td>\n",
       "      <td>NaN</td>\n",
       "      <td>delishhh</td>\n",
       "      <td>2 hour 30 minutes</td>\n",
       "      <td>It is that time of the month again; here is th...</td>\n",
       "      <td>2013-04-06</td>\n",
       "    </tr>\n",
       "  </tbody>\n",
       "</table>\n",
       "</div>"
      ],
      "text/plain": [
       "                           _id                         name ingredients  \\\n",
       "2387  51607e5096cc6208e46ae3bb  filled meringue coffee cake               \n",
       "\n",
       "                                                    url  \\\n",
       "2387  http://delishhh.com/2011/03/27/filled-meringue...   \n",
       "\n",
       "                                                  image cookTime    source  \\\n",
       "2387  http://farm6.static.flickr.com/5062/5564739251...      NaN  delishhh   \n",
       "\n",
       "               prepTime                                        description  \\\n",
       "2387  2 hour 30 minutes  It is that time of the month again; here is th...   \n",
       "\n",
       "     time_stamp  \n",
       "2387 2013-04-06  "
      ]
     },
     "execution_count": 19,
     "metadata": {},
     "output_type": "execute_result"
    }
   ],
   "source": [
    "recipes.loc[recipes['prepTime'].str.len() == 17,\n",
    "            :]"
   ]
  },
  {
   "cell_type": "code",
   "execution_count": 20,
   "metadata": {},
   "outputs": [],
   "source": [
    "# noticed that some outliers (very long prepTime)\n",
    "# are in this format '2 hour 30 minutes'\n",
    "\n",
    "is_lower_prep = recipes['prepTime'].str.islower()"
   ]
  },
  {
   "cell_type": "code",
   "execution_count": 21,
   "metadata": {},
   "outputs": [
    {
     "data": {
      "text/plain": [
       "43092"
      ]
     },
     "execution_count": 21,
     "metadata": {},
     "output_type": "execute_result"
    }
   ],
   "source": [
    "is_lower_prep.isnull().sum()"
   ]
  },
  {
   "cell_type": "code",
   "execution_count": 22,
   "metadata": {},
   "outputs": [],
   "source": [
    "is_lower_prep.fillna(False, inplace=True)"
   ]
  },
  {
   "cell_type": "code",
   "execution_count": 23,
   "metadata": {},
   "outputs": [
    {
     "data": {
      "text/plain": [
       "prepTime\n",
       "False    173277\n",
       "True          1\n",
       "Name: count, dtype: int64"
      ]
     },
     "execution_count": 23,
     "metadata": {},
     "output_type": "execute_result"
    }
   ],
   "source": [
    "is_lower_prep.value_counts()"
   ]
  },
  {
   "cell_type": "code",
   "execution_count": 24,
   "metadata": {},
   "outputs": [],
   "source": [
    "# since there's just one outlier I drop it\n",
    "\n",
    "recipes.drop(index=2387, inplace=True)"
   ]
  },
  {
   "cell_type": "code",
   "execution_count": 25,
   "metadata": {},
   "outputs": [],
   "source": [
    "del is_lower_prep"
   ]
  },
  {
   "cell_type": "code",
   "execution_count": 26,
   "metadata": {},
   "outputs": [],
   "source": [
    "# I notice that the most common format is PT13M\n",
    "\n",
    "len_5 = (recipes['prepTime'].str.len() < 6) & (recipes['prepTime'].str.endswith('M'))\n",
    "recipes_5 = pd.DataFrame(recipes.loc[len_5,'prepTime'])"
   ]
  },
  {
   "cell_type": "code",
   "execution_count": 27,
   "metadata": {},
   "outputs": [
    {
     "name": "stdout",
     "output_type": "stream",
     "text": [
      "<class 'pandas.core.frame.DataFrame'>\n",
      "Index: 116539 entries, 0 to 173277\n",
      "Data columns (total 1 columns):\n",
      " #   Column    Non-Null Count   Dtype \n",
      "---  ------    --------------   ----- \n",
      " 0   prepTime  116539 non-null  object\n",
      "dtypes: object(1)\n",
      "memory usage: 1.8+ MB\n"
     ]
    }
   ],
   "source": [
    "recipes_5.info()"
   ]
  },
  {
   "cell_type": "code",
   "execution_count": 28,
   "metadata": {},
   "outputs": [
    {
     "data": {
      "text/html": [
       "<div>\n",
       "<style scoped>\n",
       "    .dataframe tbody tr th:only-of-type {\n",
       "        vertical-align: middle;\n",
       "    }\n",
       "\n",
       "    .dataframe tbody tr th {\n",
       "        vertical-align: top;\n",
       "    }\n",
       "\n",
       "    .dataframe thead th {\n",
       "        text-align: right;\n",
       "    }\n",
       "</style>\n",
       "<table border=\"1\" class=\"dataframe\">\n",
       "  <thead>\n",
       "    <tr style=\"text-align: right;\">\n",
       "      <th></th>\n",
       "      <th>prepTime</th>\n",
       "    </tr>\n",
       "  </thead>\n",
       "  <tbody>\n",
       "    <tr>\n",
       "      <th>173270</th>\n",
       "      <td>PT30M</td>\n",
       "    </tr>\n",
       "    <tr>\n",
       "      <th>173271</th>\n",
       "      <td>PT5M</td>\n",
       "    </tr>\n",
       "    <tr>\n",
       "      <th>173272</th>\n",
       "      <td>PT40M</td>\n",
       "    </tr>\n",
       "    <tr>\n",
       "      <th>173273</th>\n",
       "      <td>PT10M</td>\n",
       "    </tr>\n",
       "    <tr>\n",
       "      <th>173277</th>\n",
       "      <td>PT10M</td>\n",
       "    </tr>\n",
       "  </tbody>\n",
       "</table>\n",
       "</div>"
      ],
      "text/plain": [
       "       prepTime\n",
       "173270    PT30M\n",
       "173271     PT5M\n",
       "173272    PT40M\n",
       "173273    PT10M\n",
       "173277    PT10M"
      ]
     },
     "execution_count": 28,
     "metadata": {},
     "output_type": "execute_result"
    }
   ],
   "source": [
    "recipes_5.tail()"
   ]
  },
  {
   "cell_type": "code",
   "execution_count": 29,
   "metadata": {},
   "outputs": [],
   "source": [
    "recipes_5['prep_t_min'] = recipes_5['prepTime'].str[2:-1]\n",
    "recipes_5['prep_t_min'] = recipes_5['prep_t_min'].astype(int)"
   ]
  },
  {
   "cell_type": "code",
   "execution_count": 31,
   "metadata": {},
   "outputs": [],
   "source": [
    "# I do the same for prep time that end with hours\n",
    "# And no min\n",
    "\n",
    "len_5_h = (recipes['prepTime'].str.len() < 6) & (recipes['prepTime'].str.endswith('H'))\n",
    "recipes_5_h = pd.DataFrame(recipes.loc[len_5_h,'prepTime'])"
   ]
  },
  {
   "cell_type": "code",
   "execution_count": 32,
   "metadata": {},
   "outputs": [
    {
     "name": "stdout",
     "output_type": "stream",
     "text": [
      "<class 'pandas.core.frame.DataFrame'>\n",
      "Index: 5963 entries, 12 to 173274\n",
      "Data columns (total 1 columns):\n",
      " #   Column    Non-Null Count  Dtype \n",
      "---  ------    --------------  ----- \n",
      " 0   prepTime  5963 non-null   object\n",
      "dtypes: object(1)\n",
      "memory usage: 93.2+ KB\n"
     ]
    }
   ],
   "source": [
    "recipes_5_h.info()"
   ]
  },
  {
   "cell_type": "code",
   "execution_count": 33,
   "metadata": {},
   "outputs": [
    {
     "data": {
      "text/html": [
       "<div>\n",
       "<style scoped>\n",
       "    .dataframe tbody tr th:only-of-type {\n",
       "        vertical-align: middle;\n",
       "    }\n",
       "\n",
       "    .dataframe tbody tr th {\n",
       "        vertical-align: top;\n",
       "    }\n",
       "\n",
       "    .dataframe thead th {\n",
       "        text-align: right;\n",
       "    }\n",
       "</style>\n",
       "<table border=\"1\" class=\"dataframe\">\n",
       "  <thead>\n",
       "    <tr style=\"text-align: right;\">\n",
       "      <th></th>\n",
       "      <th>prepTime</th>\n",
       "    </tr>\n",
       "  </thead>\n",
       "  <tbody>\n",
       "    <tr>\n",
       "      <th>173222</th>\n",
       "      <td>PT3H</td>\n",
       "    </tr>\n",
       "    <tr>\n",
       "      <th>173232</th>\n",
       "      <td>PT3H</td>\n",
       "    </tr>\n",
       "    <tr>\n",
       "      <th>173263</th>\n",
       "      <td>PT3H</td>\n",
       "    </tr>\n",
       "    <tr>\n",
       "      <th>173269</th>\n",
       "      <td>PT1H</td>\n",
       "    </tr>\n",
       "    <tr>\n",
       "      <th>173274</th>\n",
       "      <td>PT8H</td>\n",
       "    </tr>\n",
       "  </tbody>\n",
       "</table>\n",
       "</div>"
      ],
      "text/plain": [
       "       prepTime\n",
       "173222     PT3H\n",
       "173232     PT3H\n",
       "173263     PT3H\n",
       "173269     PT1H\n",
       "173274     PT8H"
      ]
     },
     "execution_count": 33,
     "metadata": {},
     "output_type": "execute_result"
    }
   ],
   "source": [
    "recipes_5_h.tail()"
   ]
  },
  {
   "cell_type": "code",
   "execution_count": 34,
   "metadata": {},
   "outputs": [],
   "source": [
    "recipes_5_h['prep_t_min'] = recipes_5_h['prepTime'].str[2:-1]\n",
    "recipes_5_h['prep_t_min'] = recipes_5_h['prep_t_min'].astype(int) * 60"
   ]
  },
  {
   "cell_type": "code",
   "execution_count": 35,
   "metadata": {},
   "outputs": [],
   "source": [
    "len_8 = (recipes['prepTime'].str.len() >= 6) & (recipes['prepTime'].str.endswith('M'))\n",
    "recipes_8 = pd.DataFrame(recipes.loc[len_8,'prepTime'])"
   ]
  },
  {
   "cell_type": "code",
   "execution_count": 36,
   "metadata": {},
   "outputs": [
    {
     "name": "stdout",
     "output_type": "stream",
     "text": [
      "<class 'pandas.core.frame.DataFrame'>\n",
      "Index: 5495 entries, 20 to 173268\n",
      "Data columns (total 1 columns):\n",
      " #   Column    Non-Null Count  Dtype \n",
      "---  ------    --------------  ----- \n",
      " 0   prepTime  5495 non-null   object\n",
      "dtypes: object(1)\n",
      "memory usage: 85.9+ KB\n"
     ]
    }
   ],
   "source": [
    "recipes_8.info()"
   ]
  },
  {
   "cell_type": "code",
   "execution_count": 37,
   "metadata": {},
   "outputs": [],
   "source": [
    "recipes_8['prepTime'] = recipes_8['prepTime'].str[2:]"
   ]
  },
  {
   "cell_type": "code",
   "execution_count": 38,
   "metadata": {},
   "outputs": [
    {
     "data": {
      "text/html": [
       "<div>\n",
       "<style scoped>\n",
       "    .dataframe tbody tr th:only-of-type {\n",
       "        vertical-align: middle;\n",
       "    }\n",
       "\n",
       "    .dataframe tbody tr th {\n",
       "        vertical-align: top;\n",
       "    }\n",
       "\n",
       "    .dataframe thead th {\n",
       "        text-align: right;\n",
       "    }\n",
       "</style>\n",
       "<table border=\"1\" class=\"dataframe\">\n",
       "  <thead>\n",
       "    <tr style=\"text-align: right;\">\n",
       "      <th></th>\n",
       "      <th>prepTime</th>\n",
       "    </tr>\n",
       "  </thead>\n",
       "  <tbody>\n",
       "    <tr>\n",
       "      <th>20</th>\n",
       "      <td>1H40M</td>\n",
       "    </tr>\n",
       "    <tr>\n",
       "      <th>41</th>\n",
       "      <td>1500M</td>\n",
       "    </tr>\n",
       "  </tbody>\n",
       "</table>\n",
       "</div>"
      ],
      "text/plain": [
       "   prepTime\n",
       "20    1H40M\n",
       "41    1500M"
      ]
     },
     "execution_count": 38,
     "metadata": {},
     "output_type": "execute_result"
    }
   ],
   "source": [
    "recipes_8.head(2)"
   ]
  },
  {
   "cell_type": "code",
   "execution_count": 39,
   "metadata": {},
   "outputs": [],
   "source": [
    "find_h = pd.DataFrame(recipes_8['prepTime'].str.find('H'))"
   ]
  },
  {
   "cell_type": "code",
   "execution_count": 40,
   "metadata": {},
   "outputs": [
    {
     "data": {
      "text/plain": [
       "prepTime\n",
       " 1          5470\n",
       "-1            19\n",
       " 2             6\n",
       "Name: count, dtype: int64"
      ]
     },
     "execution_count": 40,
     "metadata": {},
     "output_type": "execute_result"
    }
   ],
   "source": [
    "find_h.value_counts()"
   ]
  },
  {
   "cell_type": "code",
   "execution_count": 41,
   "metadata": {},
   "outputs": [],
   "source": [
    "recipes_8 = pd.merge(recipes_8, find_h, left_index=True, right_index=True)"
   ]
  },
  {
   "cell_type": "code",
   "execution_count": 42,
   "metadata": {},
   "outputs": [
    {
     "data": {
      "text/html": [
       "<div>\n",
       "<style scoped>\n",
       "    .dataframe tbody tr th:only-of-type {\n",
       "        vertical-align: middle;\n",
       "    }\n",
       "\n",
       "    .dataframe tbody tr th {\n",
       "        vertical-align: top;\n",
       "    }\n",
       "\n",
       "    .dataframe thead th {\n",
       "        text-align: right;\n",
       "    }\n",
       "</style>\n",
       "<table border=\"1\" class=\"dataframe\">\n",
       "  <thead>\n",
       "    <tr style=\"text-align: right;\">\n",
       "      <th></th>\n",
       "      <th>prepTime_x</th>\n",
       "      <th>prepTime_y</th>\n",
       "    </tr>\n",
       "  </thead>\n",
       "  <tbody>\n",
       "    <tr>\n",
       "      <th>20</th>\n",
       "      <td>1H40M</td>\n",
       "      <td>1</td>\n",
       "    </tr>\n",
       "  </tbody>\n",
       "</table>\n",
       "</div>"
      ],
      "text/plain": [
       "   prepTime_x  prepTime_y\n",
       "20      1H40M           1"
      ]
     },
     "execution_count": 42,
     "metadata": {},
     "output_type": "execute_result"
    }
   ],
   "source": [
    "recipes_8.head(1)"
   ]
  },
  {
   "cell_type": "code",
   "execution_count": 43,
   "metadata": {},
   "outputs": [],
   "source": [
    "recipes_8.rename(columns={'prepTime_x': 'prept', 'prepTime_y': 'h_ind'}, inplace=True)"
   ]
  },
  {
   "cell_type": "code",
   "execution_count": 44,
   "metadata": {},
   "outputs": [],
   "source": [
    "no_h = recipes_8[recipes_8['h_ind'] == -1]"
   ]
  },
  {
   "cell_type": "code",
   "execution_count": 45,
   "metadata": {},
   "outputs": [],
   "source": [
    "recipes_8.drop(no_h.index, inplace=True)"
   ]
  },
  {
   "cell_type": "code",
   "execution_count": 46,
   "metadata": {},
   "outputs": [
    {
     "data": {
      "text/plain": [
       "h_ind\n",
       "1    5470\n",
       "2       6\n",
       "Name: count, dtype: int64"
      ]
     },
     "execution_count": 46,
     "metadata": {},
     "output_type": "execute_result"
    }
   ],
   "source": [
    "recipes_8['h_ind'].value_counts()"
   ]
  },
  {
   "cell_type": "code",
   "execution_count": 47,
   "metadata": {},
   "outputs": [
    {
     "data": {
      "text/html": [
       "<div>\n",
       "<style scoped>\n",
       "    .dataframe tbody tr th:only-of-type {\n",
       "        vertical-align: middle;\n",
       "    }\n",
       "\n",
       "    .dataframe tbody tr th {\n",
       "        vertical-align: top;\n",
       "    }\n",
       "\n",
       "    .dataframe thead th {\n",
       "        text-align: right;\n",
       "    }\n",
       "</style>\n",
       "<table border=\"1\" class=\"dataframe\">\n",
       "  <thead>\n",
       "    <tr style=\"text-align: right;\">\n",
       "      <th></th>\n",
       "      <th>prept</th>\n",
       "      <th>h_ind</th>\n",
       "    </tr>\n",
       "  </thead>\n",
       "  <tbody>\n",
       "    <tr>\n",
       "      <th>41</th>\n",
       "      <td>1500M</td>\n",
       "      <td>-1</td>\n",
       "    </tr>\n",
       "    <tr>\n",
       "      <th>2141</th>\n",
       "      <td>150M</td>\n",
       "      <td>-1</td>\n",
       "    </tr>\n",
       "    <tr>\n",
       "      <th>2811</th>\n",
       "      <td>150M</td>\n",
       "      <td>-1</td>\n",
       "    </tr>\n",
       "    <tr>\n",
       "      <th>86719</th>\n",
       "      <td>180M</td>\n",
       "      <td>-1</td>\n",
       "    </tr>\n",
       "    <tr>\n",
       "      <th>86721</th>\n",
       "      <td>180M</td>\n",
       "      <td>-1</td>\n",
       "    </tr>\n",
       "  </tbody>\n",
       "</table>\n",
       "</div>"
      ],
      "text/plain": [
       "       prept  h_ind\n",
       "41     1500M     -1\n",
       "2141    150M     -1\n",
       "2811    150M     -1\n",
       "86719   180M     -1\n",
       "86721   180M     -1"
      ]
     },
     "execution_count": 47,
     "metadata": {},
     "output_type": "execute_result"
    }
   ],
   "source": [
    "no_h.head()"
   ]
  },
  {
   "cell_type": "code",
   "execution_count": 48,
   "metadata": {},
   "outputs": [
    {
     "data": {
      "text/plain": [
       "h_ind\n",
       "-1    19\n",
       "Name: count, dtype: int64"
      ]
     },
     "execution_count": 48,
     "metadata": {},
     "output_type": "execute_result"
    }
   ],
   "source": [
    "no_h['h_ind'].value_counts()"
   ]
  },
  {
   "cell_type": "code",
   "execution_count": 49,
   "metadata": {},
   "outputs": [],
   "source": [
    "no_h['time_stamp'] = no_h['prept'].str[:-1]\n",
    "no_h.loc[:, 'time_stamp'] = no_h['time_stamp'].astype(int)"
   ]
  },
  {
   "cell_type": "code",
   "execution_count": 50,
   "metadata": {},
   "outputs": [],
   "source": [
    "recipes_8['time_stamp'] = recipes_8.apply(lambda r: r['prept'][:r['h_ind']], axis=1)\n",
    "recipes_8['time_stamp'] = recipes_8['time_stamp'].astype(int).multiply(60)"
   ]
  },
  {
   "cell_type": "code",
   "execution_count": 51,
   "metadata": {},
   "outputs": [
    {
     "data": {
      "text/html": [
       "<div>\n",
       "<style scoped>\n",
       "    .dataframe tbody tr th:only-of-type {\n",
       "        vertical-align: middle;\n",
       "    }\n",
       "\n",
       "    .dataframe tbody tr th {\n",
       "        vertical-align: top;\n",
       "    }\n",
       "\n",
       "    .dataframe thead th {\n",
       "        text-align: right;\n",
       "    }\n",
       "</style>\n",
       "<table border=\"1\" class=\"dataframe\">\n",
       "  <thead>\n",
       "    <tr style=\"text-align: right;\">\n",
       "      <th></th>\n",
       "      <th>prept</th>\n",
       "      <th>h_ind</th>\n",
       "      <th>time_stamp</th>\n",
       "    </tr>\n",
       "  </thead>\n",
       "  <tbody>\n",
       "    <tr>\n",
       "      <th>20</th>\n",
       "      <td>1H40M</td>\n",
       "      <td>1</td>\n",
       "      <td>60</td>\n",
       "    </tr>\n",
       "    <tr>\n",
       "      <th>433</th>\n",
       "      <td>1H30M</td>\n",
       "      <td>1</td>\n",
       "      <td>60</td>\n",
       "    </tr>\n",
       "    <tr>\n",
       "      <th>528</th>\n",
       "      <td>1H30M</td>\n",
       "      <td>1</td>\n",
       "      <td>60</td>\n",
       "    </tr>\n",
       "    <tr>\n",
       "      <th>592</th>\n",
       "      <td>1H30M</td>\n",
       "      <td>1</td>\n",
       "      <td>60</td>\n",
       "    </tr>\n",
       "    <tr>\n",
       "      <th>608</th>\n",
       "      <td>1H30M</td>\n",
       "      <td>1</td>\n",
       "      <td>60</td>\n",
       "    </tr>\n",
       "  </tbody>\n",
       "</table>\n",
       "</div>"
      ],
      "text/plain": [
       "     prept  h_ind  time_stamp\n",
       "20   1H40M      1          60\n",
       "433  1H30M      1          60\n",
       "528  1H30M      1          60\n",
       "592  1H30M      1          60\n",
       "608  1H30M      1          60"
      ]
     },
     "execution_count": 51,
     "metadata": {},
     "output_type": "execute_result"
    }
   ],
   "source": [
    "recipes_8.head()"
   ]
  },
  {
   "cell_type": "code",
   "execution_count": 52,
   "metadata": {},
   "outputs": [],
   "source": [
    "minutes_r8 = recipes_8.apply(lambda r: r['prept'][(r['h_ind']+1):-1], axis=1).astype(int)\n",
    "\n",
    "recipes_8['time_stamp'] = recipes_8['time_stamp'].add(minutes_r8)"
   ]
  },
  {
   "cell_type": "code",
   "execution_count": 53,
   "metadata": {},
   "outputs": [
    {
     "data": {
      "text/html": [
       "<div>\n",
       "<style scoped>\n",
       "    .dataframe tbody tr th:only-of-type {\n",
       "        vertical-align: middle;\n",
       "    }\n",
       "\n",
       "    .dataframe tbody tr th {\n",
       "        vertical-align: top;\n",
       "    }\n",
       "\n",
       "    .dataframe thead th {\n",
       "        text-align: right;\n",
       "    }\n",
       "</style>\n",
       "<table border=\"1\" class=\"dataframe\">\n",
       "  <thead>\n",
       "    <tr style=\"text-align: right;\">\n",
       "      <th></th>\n",
       "      <th>prept</th>\n",
       "      <th>h_ind</th>\n",
       "      <th>time_stamp</th>\n",
       "    </tr>\n",
       "  </thead>\n",
       "  <tbody>\n",
       "    <tr>\n",
       "      <th>20</th>\n",
       "      <td>1H40M</td>\n",
       "      <td>1</td>\n",
       "      <td>100</td>\n",
       "    </tr>\n",
       "    <tr>\n",
       "      <th>433</th>\n",
       "      <td>1H30M</td>\n",
       "      <td>1</td>\n",
       "      <td>90</td>\n",
       "    </tr>\n",
       "    <tr>\n",
       "      <th>528</th>\n",
       "      <td>1H30M</td>\n",
       "      <td>1</td>\n",
       "      <td>90</td>\n",
       "    </tr>\n",
       "    <tr>\n",
       "      <th>592</th>\n",
       "      <td>1H30M</td>\n",
       "      <td>1</td>\n",
       "      <td>90</td>\n",
       "    </tr>\n",
       "    <tr>\n",
       "      <th>608</th>\n",
       "      <td>1H30M</td>\n",
       "      <td>1</td>\n",
       "      <td>90</td>\n",
       "    </tr>\n",
       "  </tbody>\n",
       "</table>\n",
       "</div>"
      ],
      "text/plain": [
       "     prept  h_ind  time_stamp\n",
       "20   1H40M      1         100\n",
       "433  1H30M      1          90\n",
       "528  1H30M      1          90\n",
       "592  1H30M      1          90\n",
       "608  1H30M      1          90"
      ]
     },
     "execution_count": 53,
     "metadata": {},
     "output_type": "execute_result"
    }
   ],
   "source": [
    "recipes_8.head()"
   ]
  },
  {
   "cell_type": "code",
   "execution_count": 54,
   "metadata": {},
   "outputs": [
    {
     "data": {
      "text/html": [
       "<div>\n",
       "<style scoped>\n",
       "    .dataframe tbody tr th:only-of-type {\n",
       "        vertical-align: middle;\n",
       "    }\n",
       "\n",
       "    .dataframe tbody tr th {\n",
       "        vertical-align: top;\n",
       "    }\n",
       "\n",
       "    .dataframe thead th {\n",
       "        text-align: right;\n",
       "    }\n",
       "</style>\n",
       "<table border=\"1\" class=\"dataframe\">\n",
       "  <thead>\n",
       "    <tr style=\"text-align: right;\">\n",
       "      <th></th>\n",
       "      <th>prepTime</th>\n",
       "      <th>prep_t_min</th>\n",
       "    </tr>\n",
       "  </thead>\n",
       "  <tbody>\n",
       "    <tr>\n",
       "      <th>0</th>\n",
       "      <td>PT10M</td>\n",
       "      <td>10</td>\n",
       "    </tr>\n",
       "    <tr>\n",
       "      <th>1</th>\n",
       "      <td>PT20M</td>\n",
       "      <td>20</td>\n",
       "    </tr>\n",
       "  </tbody>\n",
       "</table>\n",
       "</div>"
      ],
      "text/plain": [
       "  prepTime  prep_t_min\n",
       "0    PT10M          10\n",
       "1    PT20M          20"
      ]
     },
     "execution_count": 54,
     "metadata": {},
     "output_type": "execute_result"
    }
   ],
   "source": [
    "recipes_5.head(2)"
   ]
  },
  {
   "cell_type": "code",
   "execution_count": 55,
   "metadata": {},
   "outputs": [
    {
     "data": {
      "text/html": [
       "<div>\n",
       "<style scoped>\n",
       "    .dataframe tbody tr th:only-of-type {\n",
       "        vertical-align: middle;\n",
       "    }\n",
       "\n",
       "    .dataframe tbody tr th {\n",
       "        vertical-align: top;\n",
       "    }\n",
       "\n",
       "    .dataframe thead th {\n",
       "        text-align: right;\n",
       "    }\n",
       "</style>\n",
       "<table border=\"1\" class=\"dataframe\">\n",
       "  <thead>\n",
       "    <tr style=\"text-align: right;\">\n",
       "      <th></th>\n",
       "      <th>prepTime</th>\n",
       "      <th>prep_t_min</th>\n",
       "    </tr>\n",
       "  </thead>\n",
       "  <tbody>\n",
       "    <tr>\n",
       "      <th>12</th>\n",
       "      <td>PT2H</td>\n",
       "      <td>120</td>\n",
       "    </tr>\n",
       "    <tr>\n",
       "      <th>75</th>\n",
       "      <td>PT3H</td>\n",
       "      <td>180</td>\n",
       "    </tr>\n",
       "  </tbody>\n",
       "</table>\n",
       "</div>"
      ],
      "text/plain": [
       "   prepTime  prep_t_min\n",
       "12     PT2H         120\n",
       "75     PT3H         180"
      ]
     },
     "execution_count": 55,
     "metadata": {},
     "output_type": "execute_result"
    }
   ],
   "source": [
    "recipes_5_h.head(2\n",
    "                 )"
   ]
  },
  {
   "cell_type": "code",
   "execution_count": 56,
   "metadata": {},
   "outputs": [],
   "source": [
    "recipes_5['indx'] = recipes_5.index\n",
    "recipes_5_h['indx'] = recipes_5_h.index"
   ]
  },
  {
   "cell_type": "code",
   "execution_count": 57,
   "metadata": {},
   "outputs": [
    {
     "data": {
      "text/html": [
       "<div>\n",
       "<style scoped>\n",
       "    .dataframe tbody tr th:only-of-type {\n",
       "        vertical-align: middle;\n",
       "    }\n",
       "\n",
       "    .dataframe tbody tr th {\n",
       "        vertical-align: top;\n",
       "    }\n",
       "\n",
       "    .dataframe thead th {\n",
       "        text-align: right;\n",
       "    }\n",
       "</style>\n",
       "<table border=\"1\" class=\"dataframe\">\n",
       "  <thead>\n",
       "    <tr style=\"text-align: right;\">\n",
       "      <th></th>\n",
       "      <th>prepTime</th>\n",
       "      <th>prep_t_min</th>\n",
       "      <th>indx</th>\n",
       "    </tr>\n",
       "  </thead>\n",
       "  <tbody>\n",
       "    <tr>\n",
       "      <th>122497</th>\n",
       "      <td>PT3H</td>\n",
       "      <td>180</td>\n",
       "      <td>173222</td>\n",
       "    </tr>\n",
       "    <tr>\n",
       "      <th>122498</th>\n",
       "      <td>PT3H</td>\n",
       "      <td>180</td>\n",
       "      <td>173232</td>\n",
       "    </tr>\n",
       "    <tr>\n",
       "      <th>122499</th>\n",
       "      <td>PT3H</td>\n",
       "      <td>180</td>\n",
       "      <td>173263</td>\n",
       "    </tr>\n",
       "    <tr>\n",
       "      <th>122500</th>\n",
       "      <td>PT1H</td>\n",
       "      <td>60</td>\n",
       "      <td>173269</td>\n",
       "    </tr>\n",
       "    <tr>\n",
       "      <th>122501</th>\n",
       "      <td>PT8H</td>\n",
       "      <td>480</td>\n",
       "      <td>173274</td>\n",
       "    </tr>\n",
       "  </tbody>\n",
       "</table>\n",
       "</div>"
      ],
      "text/plain": [
       "       prepTime  prep_t_min    indx\n",
       "122497     PT3H         180  173222\n",
       "122498     PT3H         180  173232\n",
       "122499     PT3H         180  173263\n",
       "122500     PT1H          60  173269\n",
       "122501     PT8H         480  173274"
      ]
     },
     "execution_count": 57,
     "metadata": {},
     "output_type": "execute_result"
    }
   ],
   "source": [
    "# Now I merge all the time_stamp of the different\n",
    "# dataframes I created\n",
    "\n",
    "time_prep = pd.merge(recipes_5, recipes_5_h,\n",
    "                     how='outer')\n",
    "time_prep.tail()"
   ]
  },
  {
   "cell_type": "code",
   "execution_count": 58,
   "metadata": {},
   "outputs": [
    {
     "data": {
      "text/plain": [
       "prepTime      0\n",
       "prep_t_min    0\n",
       "indx          0\n",
       "dtype: int64"
      ]
     },
     "execution_count": 58,
     "metadata": {},
     "output_type": "execute_result"
    }
   ],
   "source": [
    "time_prep.isnull().sum()"
   ]
  },
  {
   "cell_type": "code",
   "execution_count": 59,
   "metadata": {},
   "outputs": [
    {
     "data": {
      "text/plain": [
       "True"
      ]
     },
     "execution_count": 59,
     "metadata": {},
     "output_type": "execute_result"
    }
   ],
   "source": [
    "time_prep.shape[0] == recipes_5.shape[0] + recipes_5_h.shape[0]"
   ]
  },
  {
   "cell_type": "code",
   "execution_count": 60,
   "metadata": {},
   "outputs": [
    {
     "data": {
      "text/html": [
       "<div>\n",
       "<style scoped>\n",
       "    .dataframe tbody tr th:only-of-type {\n",
       "        vertical-align: middle;\n",
       "    }\n",
       "\n",
       "    .dataframe tbody tr th {\n",
       "        vertical-align: top;\n",
       "    }\n",
       "\n",
       "    .dataframe thead th {\n",
       "        text-align: right;\n",
       "    }\n",
       "</style>\n",
       "<table border=\"1\" class=\"dataframe\">\n",
       "  <thead>\n",
       "    <tr style=\"text-align: right;\">\n",
       "      <th></th>\n",
       "      <th>prept</th>\n",
       "      <th>h_ind</th>\n",
       "      <th>prep_t_min</th>\n",
       "    </tr>\n",
       "  </thead>\n",
       "  <tbody>\n",
       "    <tr>\n",
       "      <th>20</th>\n",
       "      <td>1H40M</td>\n",
       "      <td>1</td>\n",
       "      <td>100</td>\n",
       "    </tr>\n",
       "    <tr>\n",
       "      <th>433</th>\n",
       "      <td>1H30M</td>\n",
       "      <td>1</td>\n",
       "      <td>90</td>\n",
       "    </tr>\n",
       "    <tr>\n",
       "      <th>528</th>\n",
       "      <td>1H30M</td>\n",
       "      <td>1</td>\n",
       "      <td>90</td>\n",
       "    </tr>\n",
       "    <tr>\n",
       "      <th>592</th>\n",
       "      <td>1H30M</td>\n",
       "      <td>1</td>\n",
       "      <td>90</td>\n",
       "    </tr>\n",
       "    <tr>\n",
       "      <th>608</th>\n",
       "      <td>1H30M</td>\n",
       "      <td>1</td>\n",
       "      <td>90</td>\n",
       "    </tr>\n",
       "  </tbody>\n",
       "</table>\n",
       "</div>"
      ],
      "text/plain": [
       "     prept  h_ind  prep_t_min\n",
       "20   1H40M      1         100\n",
       "433  1H30M      1          90\n",
       "528  1H30M      1          90\n",
       "592  1H30M      1          90\n",
       "608  1H30M      1          90"
      ]
     },
     "execution_count": 60,
     "metadata": {},
     "output_type": "execute_result"
    }
   ],
   "source": [
    "recipes_8.rename(columns={'time_stamp':'prep_t_min'}, inplace=True)\n",
    "recipes_8.head()"
   ]
  },
  {
   "cell_type": "code",
   "execution_count": 61,
   "metadata": {},
   "outputs": [
    {
     "data": {
      "text/html": [
       "<div>\n",
       "<style scoped>\n",
       "    .dataframe tbody tr th:only-of-type {\n",
       "        vertical-align: middle;\n",
       "    }\n",
       "\n",
       "    .dataframe tbody tr th {\n",
       "        vertical-align: top;\n",
       "    }\n",
       "\n",
       "    .dataframe thead th {\n",
       "        text-align: right;\n",
       "    }\n",
       "</style>\n",
       "<table border=\"1\" class=\"dataframe\">\n",
       "  <thead>\n",
       "    <tr style=\"text-align: right;\">\n",
       "      <th></th>\n",
       "      <th>prept</th>\n",
       "      <th>h_ind</th>\n",
       "      <th>time_stamp</th>\n",
       "    </tr>\n",
       "  </thead>\n",
       "  <tbody>\n",
       "    <tr>\n",
       "      <th>41</th>\n",
       "      <td>1500M</td>\n",
       "      <td>-1</td>\n",
       "      <td>1500</td>\n",
       "    </tr>\n",
       "  </tbody>\n",
       "</table>\n",
       "</div>"
      ],
      "text/plain": [
       "    prept  h_ind time_stamp\n",
       "41  1500M     -1       1500"
      ]
     },
     "execution_count": 61,
     "metadata": {},
     "output_type": "execute_result"
    }
   ],
   "source": [
    "no_h.head(1)"
   ]
  },
  {
   "cell_type": "code",
   "execution_count": 62,
   "metadata": {},
   "outputs": [
    {
     "data": {
      "text/html": [
       "<div>\n",
       "<style scoped>\n",
       "    .dataframe tbody tr th:only-of-type {\n",
       "        vertical-align: middle;\n",
       "    }\n",
       "\n",
       "    .dataframe tbody tr th {\n",
       "        vertical-align: top;\n",
       "    }\n",
       "\n",
       "    .dataframe thead th {\n",
       "        text-align: right;\n",
       "    }\n",
       "</style>\n",
       "<table border=\"1\" class=\"dataframe\">\n",
       "  <thead>\n",
       "    <tr style=\"text-align: right;\">\n",
       "      <th></th>\n",
       "      <th>prept</th>\n",
       "      <th>h_ind</th>\n",
       "      <th>prep_t_min</th>\n",
       "    </tr>\n",
       "  </thead>\n",
       "  <tbody>\n",
       "    <tr>\n",
       "      <th>41</th>\n",
       "      <td>1500M</td>\n",
       "      <td>-1</td>\n",
       "      <td>1500</td>\n",
       "    </tr>\n",
       "  </tbody>\n",
       "</table>\n",
       "</div>"
      ],
      "text/plain": [
       "    prept  h_ind prep_t_min\n",
       "41  1500M     -1       1500"
      ]
     },
     "execution_count": 62,
     "metadata": {},
     "output_type": "execute_result"
    }
   ],
   "source": [
    "no_h.rename(columns={'time_stamp':'prep_t_min'}, inplace=True)\n",
    "no_h.head(1)"
   ]
  },
  {
   "cell_type": "code",
   "execution_count": 63,
   "metadata": {},
   "outputs": [],
   "source": [
    "recipes_8['indx'] = recipes_8.index\n",
    "no_h['indx'] = no_h.index"
   ]
  },
  {
   "cell_type": "code",
   "execution_count": 64,
   "metadata": {},
   "outputs": [
    {
     "data": {
      "text/plain": [
       "True"
      ]
     },
     "execution_count": 64,
     "metadata": {},
     "output_type": "execute_result"
    }
   ],
   "source": [
    "time_prep2 = pd.merge(no_h, recipes_8, how='outer')\n",
    "time_prep2.drop(['h_ind','prept'], axis=1, inplace=True)\n",
    "time_prep2.shape[0] == no_h.shape[0] + recipes_8.shape[0]"
   ]
  },
  {
   "cell_type": "code",
   "execution_count": 65,
   "metadata": {},
   "outputs": [
    {
     "data": {
      "text/html": [
       "<div>\n",
       "<style scoped>\n",
       "    .dataframe tbody tr th:only-of-type {\n",
       "        vertical-align: middle;\n",
       "    }\n",
       "\n",
       "    .dataframe tbody tr th {\n",
       "        vertical-align: top;\n",
       "    }\n",
       "\n",
       "    .dataframe thead th {\n",
       "        text-align: right;\n",
       "    }\n",
       "</style>\n",
       "<table border=\"1\" class=\"dataframe\">\n",
       "  <thead>\n",
       "    <tr style=\"text-align: right;\">\n",
       "      <th></th>\n",
       "      <th>prep_t_min</th>\n",
       "      <th>indx</th>\n",
       "    </tr>\n",
       "  </thead>\n",
       "  <tbody>\n",
       "    <tr>\n",
       "      <th>0</th>\n",
       "      <td>1500</td>\n",
       "      <td>41</td>\n",
       "    </tr>\n",
       "  </tbody>\n",
       "</table>\n",
       "</div>"
      ],
      "text/plain": [
       "  prep_t_min  indx\n",
       "0       1500    41"
      ]
     },
     "execution_count": 65,
     "metadata": {},
     "output_type": "execute_result"
    }
   ],
   "source": [
    "time_prep2.head(1)"
   ]
  },
  {
   "cell_type": "code",
   "execution_count": 66,
   "metadata": {},
   "outputs": [
    {
     "data": {
      "text/plain": [
       "True"
      ]
     },
     "execution_count": 66,
     "metadata": {},
     "output_type": "execute_result"
    }
   ],
   "source": [
    "time_prep_final = pd.merge(time_prep, time_prep2, on='indx', how='outer')\n",
    "time_prep_final.shape[0] == time_prep.shape[0] + time_prep2.shape[0]"
   ]
  },
  {
   "cell_type": "code",
   "execution_count": 67,
   "metadata": {},
   "outputs": [
    {
     "data": {
      "text/html": [
       "<div>\n",
       "<style scoped>\n",
       "    .dataframe tbody tr th:only-of-type {\n",
       "        vertical-align: middle;\n",
       "    }\n",
       "\n",
       "    .dataframe tbody tr th {\n",
       "        vertical-align: top;\n",
       "    }\n",
       "\n",
       "    .dataframe thead th {\n",
       "        text-align: right;\n",
       "    }\n",
       "</style>\n",
       "<table border=\"1\" class=\"dataframe\">\n",
       "  <thead>\n",
       "    <tr style=\"text-align: right;\">\n",
       "      <th></th>\n",
       "      <th>prepTime</th>\n",
       "      <th>prep_t_min_x</th>\n",
       "      <th>indx</th>\n",
       "      <th>prep_t_min_y</th>\n",
       "    </tr>\n",
       "  </thead>\n",
       "  <tbody>\n",
       "    <tr>\n",
       "      <th>127994</th>\n",
       "      <td>NaN</td>\n",
       "      <td>NaN</td>\n",
       "      <td>173088</td>\n",
       "      <td>140</td>\n",
       "    </tr>\n",
       "    <tr>\n",
       "      <th>127995</th>\n",
       "      <td>NaN</td>\n",
       "      <td>NaN</td>\n",
       "      <td>173170</td>\n",
       "      <td>130</td>\n",
       "    </tr>\n",
       "    <tr>\n",
       "      <th>127996</th>\n",
       "      <td>NaN</td>\n",
       "      <td>NaN</td>\n",
       "      <td>173268</td>\n",
       "      <td>75</td>\n",
       "    </tr>\n",
       "  </tbody>\n",
       "</table>\n",
       "</div>"
      ],
      "text/plain": [
       "       prepTime  prep_t_min_x    indx prep_t_min_y\n",
       "127994      NaN           NaN  173088          140\n",
       "127995      NaN           NaN  173170          130\n",
       "127996      NaN           NaN  173268           75"
      ]
     },
     "execution_count": 67,
     "metadata": {},
     "output_type": "execute_result"
    }
   ],
   "source": [
    "time_prep_final.tail(3)"
   ]
  },
  {
   "cell_type": "code",
   "execution_count": 68,
   "metadata": {},
   "outputs": [],
   "source": [
    "time_prep_final['prep_t_min_x'].fillna(0, inplace=True)\n",
    "time_prep_final['prep_t_min_y'].fillna(0, inplace=True)\n",
    "time_prep_final['prep_t_min'] = time_prep_final['prep_t_min_x'] + time_prep_final['prep_t_min_y']\n",
    "time_prep_final.drop(['prepTime', 'prep_t_min_x', 'prep_t_min_y'], axis=1, inplace=True)"
   ]
  },
  {
   "cell_type": "code",
   "execution_count": 69,
   "metadata": {},
   "outputs": [],
   "source": [
    "# now I merge everything back to the original dataframe\n",
    "recipes2 = pd.merge(recipes, time_prep_final,\n",
    "                    left_on=recipes.index, right_on='indx',\n",
    "                    how='outer')"
   ]
  },
  {
   "cell_type": "code",
   "execution_count": 70,
   "metadata": {},
   "outputs": [
    {
     "data": {
      "text/html": [
       "<div>\n",
       "<style scoped>\n",
       "    .dataframe tbody tr th:only-of-type {\n",
       "        vertical-align: middle;\n",
       "    }\n",
       "\n",
       "    .dataframe tbody tr th {\n",
       "        vertical-align: top;\n",
       "    }\n",
       "\n",
       "    .dataframe thead th {\n",
       "        text-align: right;\n",
       "    }\n",
       "</style>\n",
       "<table border=\"1\" class=\"dataframe\">\n",
       "  <thead>\n",
       "    <tr style=\"text-align: right;\">\n",
       "      <th></th>\n",
       "      <th>_id</th>\n",
       "      <th>name</th>\n",
       "      <th>ingredients</th>\n",
       "      <th>url</th>\n",
       "      <th>image</th>\n",
       "      <th>cookTime</th>\n",
       "      <th>source</th>\n",
       "      <th>prepTime</th>\n",
       "      <th>description</th>\n",
       "      <th>time_stamp</th>\n",
       "      <th>indx</th>\n",
       "      <th>prep_t_min</th>\n",
       "    </tr>\n",
       "  </thead>\n",
       "  <tbody>\n",
       "    <tr>\n",
       "      <th>2768</th>\n",
       "      <td>5160804496cc6208dde659ff</td>\n",
       "      <td>breakfast tacos with kale-cilantro chimichurri...</td>\n",
       "      <td>sauce:\\n1 cup kale, packed\\n½ cup cilantro, lo...</td>\n",
       "      <td>http://naturallyella.com/2012/04/02/breakfast-...</td>\n",
       "      <td>http://cdn.naturallyella.com/files/2012/04/IMG...</td>\n",
       "      <td>PT30M</td>\n",
       "      <td>naturallyella</td>\n",
       "      <td>PT15M</td>\n",
       "      <td>A great way to bring tacos in to breakfast.</td>\n",
       "      <td>2013-04-06</td>\n",
       "      <td>2769</td>\n",
       "      <td>15.0</td>\n",
       "    </tr>\n",
       "    <tr>\n",
       "      <th>2769</th>\n",
       "      <td>5160804596cc6208c17937ed</td>\n",
       "      <td>pasta with purple sprouting broccoli</td>\n",
       "      <td>1kg/2¼lb purple sprouting broccoli\\n1 medium s...</td>\n",
       "      <td>http://www.bbc.co.uk/food/recipes/pastawithpur...</td>\n",
       "      <td>http://ichef.bbci.co.uk/food/ic/food_16x9_448/...</td>\n",
       "      <td>PT30M</td>\n",
       "      <td>bbcfood</td>\n",
       "      <td>PT30M</td>\n",
       "      <td>Purple sprouting broccoli can be a cheap and c...</td>\n",
       "      <td>2013-04-06</td>\n",
       "      <td>2770</td>\n",
       "      <td>30.0</td>\n",
       "    </tr>\n",
       "    <tr>\n",
       "      <th>2770</th>\n",
       "      <td>5160804896cc6208c17937ee</td>\n",
       "      <td>yorkshire curd tart</td>\n",
       "      <td>250g/9oz plain flour\\n100g/3½oz caster sugar\\n...</td>\n",
       "      <td>http://www.bbc.co.uk/food/recipes/yorkshire_cu...</td>\n",
       "      <td>None</td>\n",
       "      <td>PT1H</td>\n",
       "      <td>bbcfood</td>\n",
       "      <td>PT1H</td>\n",
       "      <td>An oldie, but a goodie. Lemon and nutmeg reall...</td>\n",
       "      <td>2013-04-06</td>\n",
       "      <td>2771</td>\n",
       "      <td>60.0</td>\n",
       "    </tr>\n",
       "  </tbody>\n",
       "</table>\n",
       "</div>"
      ],
      "text/plain": [
       "                           _id  \\\n",
       "2768  5160804496cc6208dde659ff   \n",
       "2769  5160804596cc6208c17937ed   \n",
       "2770  5160804896cc6208c17937ee   \n",
       "\n",
       "                                                   name  \\\n",
       "2768  breakfast tacos with kale-cilantro chimichurri...   \n",
       "2769               pasta with purple sprouting broccoli   \n",
       "2770                                yorkshire curd tart   \n",
       "\n",
       "                                            ingredients  \\\n",
       "2768  sauce:\\n1 cup kale, packed\\n½ cup cilantro, lo...   \n",
       "2769  1kg/2¼lb purple sprouting broccoli\\n1 medium s...   \n",
       "2770  250g/9oz plain flour\\n100g/3½oz caster sugar\\n...   \n",
       "\n",
       "                                                    url  \\\n",
       "2768  http://naturallyella.com/2012/04/02/breakfast-...   \n",
       "2769  http://www.bbc.co.uk/food/recipes/pastawithpur...   \n",
       "2770  http://www.bbc.co.uk/food/recipes/yorkshire_cu...   \n",
       "\n",
       "                                                  image cookTime  \\\n",
       "2768  http://cdn.naturallyella.com/files/2012/04/IMG...    PT30M   \n",
       "2769  http://ichef.bbci.co.uk/food/ic/food_16x9_448/...    PT30M   \n",
       "2770                                               None     PT1H   \n",
       "\n",
       "             source prepTime  \\\n",
       "2768  naturallyella    PT15M   \n",
       "2769        bbcfood    PT30M   \n",
       "2770        bbcfood     PT1H   \n",
       "\n",
       "                                            description time_stamp  indx  \\\n",
       "2768        A great way to bring tacos in to breakfast. 2013-04-06  2769   \n",
       "2769  Purple sprouting broccoli can be a cheap and c... 2013-04-06  2770   \n",
       "2770  An oldie, but a goodie. Lemon and nutmeg reall... 2013-04-06  2771   \n",
       "\n",
       "      prep_t_min  \n",
       "2768        15.0  \n",
       "2769        30.0  \n",
       "2770        60.0  "
      ]
     },
     "execution_count": 70,
     "metadata": {},
     "output_type": "execute_result"
    }
   ],
   "source": [
    "recipes2.loc[2768:2770, :]"
   ]
  },
  {
   "cell_type": "code",
   "execution_count": 71,
   "metadata": {},
   "outputs": [],
   "source": [
    "recipes2.drop(['prepTime', 'indx'], axis=1, inplace=True)\n",
    "recipes2['prep_t_min'] = recipes2['prep_t_min'].replace(0, np.nan)"
   ]
  },
  {
   "cell_type": "code",
   "execution_count": 72,
   "metadata": {},
   "outputs": [],
   "source": [
    "del recipes_5\n",
    "del recipes_5_h\n",
    "del recipes_8\n",
    "del no_h\n",
    "del time_prep_final\n",
    "del time_prep\n",
    "del time_prep2"
   ]
  },
  {
   "cell_type": "markdown",
   "metadata": {},
   "source": [
    "## Cook time"
   ]
  },
  {
   "cell_type": "code",
   "execution_count": 73,
   "metadata": {},
   "outputs": [],
   "source": [
    "len_ct = recipes2['cookTime'].str.len()"
   ]
  },
  {
   "cell_type": "code",
   "execution_count": 74,
   "metadata": {},
   "outputs": [
    {
     "data": {
      "text/plain": [
       "9.0"
      ]
     },
     "execution_count": 74,
     "metadata": {},
     "output_type": "execute_result"
    }
   ],
   "source": [
    "len_ct.max()"
   ]
  },
  {
   "cell_type": "code",
   "execution_count": 75,
   "metadata": {},
   "outputs": [
    {
     "data": {
      "text/plain": [
       "2214      PT216H15M\n",
       "5545      PT120H30M\n",
       "5729      PT216H30M\n",
       "166153    PT144H20M\n",
       "Name: cookTime, dtype: object"
      ]
     },
     "execution_count": 75,
     "metadata": {},
     "output_type": "execute_result"
    }
   ],
   "source": [
    "recipes2.loc[recipes2['cookTime'].str.len() == 9, 'cookTime']"
   ]
  },
  {
   "cell_type": "code",
   "execution_count": 76,
   "metadata": {},
   "outputs": [
    {
     "data": {
      "text/plain": [
       "Series([], Name: cookTime, dtype: object)"
      ]
     },
     "execution_count": 76,
     "metadata": {},
     "output_type": "execute_result"
    }
   ],
   "source": [
    "is_low = recipes2['cookTime'].str.islower()\n",
    "is_low.fillna(False, inplace=True)\n",
    "recipes2.loc[is_low, 'cookTime']"
   ]
  },
  {
   "cell_type": "code",
   "execution_count": 77,
   "metadata": {},
   "outputs": [
    {
     "data": {
      "text/html": [
       "<div>\n",
       "<style scoped>\n",
       "    .dataframe tbody tr th:only-of-type {\n",
       "        vertical-align: middle;\n",
       "    }\n",
       "\n",
       "    .dataframe tbody tr th {\n",
       "        vertical-align: top;\n",
       "    }\n",
       "\n",
       "    .dataframe thead th {\n",
       "        text-align: right;\n",
       "    }\n",
       "</style>\n",
       "<table border=\"1\" class=\"dataframe\">\n",
       "  <thead>\n",
       "    <tr style=\"text-align: right;\">\n",
       "      <th></th>\n",
       "      <th>cookTime</th>\n",
       "    </tr>\n",
       "  </thead>\n",
       "  <tbody>\n",
       "    <tr>\n",
       "      <th>173273</th>\n",
       "      <td>PT5M</td>\n",
       "    </tr>\n",
       "    <tr>\n",
       "      <th>173276</th>\n",
       "      <td>PT25M</td>\n",
       "    </tr>\n",
       "  </tbody>\n",
       "</table>\n",
       "</div>"
      ],
      "text/plain": [
       "       cookTime\n",
       "173273     PT5M\n",
       "173276    PT25M"
      ]
     },
     "execution_count": 77,
     "metadata": {},
     "output_type": "execute_result"
    }
   ],
   "source": [
    "pt_in = recipes2['cookTime'].str.startswith('PT')\n",
    "pt_in.fillna(False, inplace=True)\n",
    "cook_time = pd.DataFrame(recipes2.loc[pt_in, 'cookTime'])\n",
    "cook_time.tail(2)"
   ]
  },
  {
   "cell_type": "code",
   "execution_count": 78,
   "metadata": {},
   "outputs": [
    {
     "data": {
      "text/html": [
       "<div>\n",
       "<style scoped>\n",
       "    .dataframe tbody tr th:only-of-type {\n",
       "        vertical-align: middle;\n",
       "    }\n",
       "\n",
       "    .dataframe tbody tr th {\n",
       "        vertical-align: top;\n",
       "    }\n",
       "\n",
       "    .dataframe thead th {\n",
       "        text-align: right;\n",
       "    }\n",
       "</style>\n",
       "<table border=\"1\" class=\"dataframe\">\n",
       "  <thead>\n",
       "    <tr style=\"text-align: right;\">\n",
       "      <th></th>\n",
       "      <th>cookTime</th>\n",
       "    </tr>\n",
       "  </thead>\n",
       "  <tbody>\n",
       "    <tr>\n",
       "      <th>173273</th>\n",
       "      <td>5M</td>\n",
       "    </tr>\n",
       "    <tr>\n",
       "      <th>173276</th>\n",
       "      <td>25M</td>\n",
       "    </tr>\n",
       "  </tbody>\n",
       "</table>\n",
       "</div>"
      ],
      "text/plain": [
       "       cookTime\n",
       "173273       5M\n",
       "173276      25M"
      ]
     },
     "execution_count": 78,
     "metadata": {},
     "output_type": "execute_result"
    }
   ],
   "source": [
    "cook_time['cookTime'] = cook_time['cookTime'].str.replace('PT', '')\n",
    "cook_time.tail(2)"
   ]
  },
  {
   "cell_type": "code",
   "execution_count": 79,
   "metadata": {},
   "outputs": [
    {
     "data": {
      "text/html": [
       "<div>\n",
       "<style scoped>\n",
       "    .dataframe tbody tr th:only-of-type {\n",
       "        vertical-align: middle;\n",
       "    }\n",
       "\n",
       "    .dataframe tbody tr th {\n",
       "        vertical-align: top;\n",
       "    }\n",
       "\n",
       "    .dataframe thead th {\n",
       "        text-align: right;\n",
       "    }\n",
       "</style>\n",
       "<table border=\"1\" class=\"dataframe\">\n",
       "  <thead>\n",
       "    <tr style=\"text-align: right;\">\n",
       "      <th></th>\n",
       "      <th>cookTime</th>\n",
       "      <th>where_m</th>\n",
       "      <th>where_h</th>\n",
       "    </tr>\n",
       "  </thead>\n",
       "  <tbody>\n",
       "    <tr>\n",
       "      <th>173273</th>\n",
       "      <td>5M</td>\n",
       "      <td>1.0</td>\n",
       "      <td>NaN</td>\n",
       "    </tr>\n",
       "    <tr>\n",
       "      <th>173276</th>\n",
       "      <td>25M</td>\n",
       "      <td>2.0</td>\n",
       "      <td>NaN</td>\n",
       "    </tr>\n",
       "  </tbody>\n",
       "</table>\n",
       "</div>"
      ],
      "text/plain": [
       "       cookTime  where_m  where_h\n",
       "173273       5M      1.0      NaN\n",
       "173276      25M      2.0      NaN"
      ]
     },
     "execution_count": 79,
     "metadata": {},
     "output_type": "execute_result"
    }
   ],
   "source": [
    "cook_time['where_m'] = cook_time['cookTime'].str.find('M')\n",
    "cook_time['where_m'].replace(-1, np.nan, inplace=True)\n",
    "cook_time['where_h'] = cook_time['cookTime'].str.find('H')\n",
    "cook_time['where_h'].replace(-1, np.nan, inplace=True)\n",
    "cook_time.tail(2)"
   ]
  },
  {
   "cell_type": "code",
   "execution_count": 80,
   "metadata": {},
   "outputs": [],
   "source": [
    "only_h = cook_time[(cook_time['where_m'].isnull() == True) & (cook_time['where_h'].isnull() == False)]"
   ]
  },
  {
   "cell_type": "code",
   "execution_count": 81,
   "metadata": {},
   "outputs": [
    {
     "data": {
      "text/html": [
       "<div>\n",
       "<style scoped>\n",
       "    .dataframe tbody tr th:only-of-type {\n",
       "        vertical-align: middle;\n",
       "    }\n",
       "\n",
       "    .dataframe tbody tr th {\n",
       "        vertical-align: top;\n",
       "    }\n",
       "\n",
       "    .dataframe thead th {\n",
       "        text-align: right;\n",
       "    }\n",
       "</style>\n",
       "<table border=\"1\" class=\"dataframe\">\n",
       "  <thead>\n",
       "    <tr style=\"text-align: right;\">\n",
       "      <th></th>\n",
       "      <th>cookTime</th>\n",
       "      <th>where_m</th>\n",
       "      <th>where_h</th>\n",
       "    </tr>\n",
       "  </thead>\n",
       "  <tbody>\n",
       "    <tr>\n",
       "      <th>173252</th>\n",
       "      <td>4H</td>\n",
       "      <td>NaN</td>\n",
       "      <td>1.0</td>\n",
       "    </tr>\n",
       "    <tr>\n",
       "      <th>173259</th>\n",
       "      <td>4H</td>\n",
       "      <td>NaN</td>\n",
       "      <td>1.0</td>\n",
       "    </tr>\n",
       "  </tbody>\n",
       "</table>\n",
       "</div>"
      ],
      "text/plain": [
       "       cookTime  where_m  where_h\n",
       "173252       4H      NaN      1.0\n",
       "173259       4H      NaN      1.0"
      ]
     },
     "execution_count": 81,
     "metadata": {},
     "output_type": "execute_result"
    }
   ],
   "source": [
    "only_h.tail(2)"
   ]
  },
  {
   "cell_type": "code",
   "execution_count": 82,
   "metadata": {},
   "outputs": [
    {
     "data": {
      "text/html": [
       "<div>\n",
       "<style scoped>\n",
       "    .dataframe tbody tr th:only-of-type {\n",
       "        vertical-align: middle;\n",
       "    }\n",
       "\n",
       "    .dataframe tbody tr th {\n",
       "        vertical-align: top;\n",
       "    }\n",
       "\n",
       "    .dataframe thead th {\n",
       "        text-align: right;\n",
       "    }\n",
       "</style>\n",
       "<table border=\"1\" class=\"dataframe\">\n",
       "  <thead>\n",
       "    <tr style=\"text-align: right;\">\n",
       "      <th></th>\n",
       "      <th>cookTime</th>\n",
       "      <th>where_m</th>\n",
       "      <th>where_h</th>\n",
       "      <th>cook_t_min</th>\n",
       "    </tr>\n",
       "  </thead>\n",
       "  <tbody>\n",
       "    <tr>\n",
       "      <th>10</th>\n",
       "      <td>3H</td>\n",
       "      <td>NaN</td>\n",
       "      <td>1.0</td>\n",
       "      <td>180</td>\n",
       "    </tr>\n",
       "    <tr>\n",
       "      <th>42</th>\n",
       "      <td>1H</td>\n",
       "      <td>NaN</td>\n",
       "      <td>1.0</td>\n",
       "      <td>60</td>\n",
       "    </tr>\n",
       "  </tbody>\n",
       "</table>\n",
       "</div>"
      ],
      "text/plain": [
       "   cookTime  where_m  where_h  cook_t_min\n",
       "10       3H      NaN      1.0         180\n",
       "42       1H      NaN      1.0          60"
      ]
     },
     "execution_count": 82,
     "metadata": {},
     "output_type": "execute_result"
    }
   ],
   "source": [
    "only_h = only_h.copy()\n",
    "only_h.loc[:, 'cook_t_min'] = only_h.loc[:, 'cookTime'].str[:-1].astype(int) * 60\n",
    "only_h.head(2)"
   ]
  },
  {
   "cell_type": "code",
   "execution_count": 83,
   "metadata": {},
   "outputs": [],
   "source": [
    "only_h.drop(['cookTime', 'where_m', 'where_h'], axis=1, inplace=True)"
   ]
  },
  {
   "cell_type": "code",
   "execution_count": 84,
   "metadata": {},
   "outputs": [
    {
     "data": {
      "text/html": [
       "<div>\n",
       "<style scoped>\n",
       "    .dataframe tbody tr th:only-of-type {\n",
       "        vertical-align: middle;\n",
       "    }\n",
       "\n",
       "    .dataframe tbody tr th {\n",
       "        vertical-align: top;\n",
       "    }\n",
       "\n",
       "    .dataframe thead th {\n",
       "        text-align: right;\n",
       "    }\n",
       "</style>\n",
       "<table border=\"1\" class=\"dataframe\">\n",
       "  <thead>\n",
       "    <tr style=\"text-align: right;\">\n",
       "      <th></th>\n",
       "      <th>cook_t_min</th>\n",
       "    </tr>\n",
       "  </thead>\n",
       "  <tbody>\n",
       "    <tr>\n",
       "      <th>173252</th>\n",
       "      <td>240</td>\n",
       "    </tr>\n",
       "    <tr>\n",
       "      <th>173259</th>\n",
       "      <td>240</td>\n",
       "    </tr>\n",
       "  </tbody>\n",
       "</table>\n",
       "</div>"
      ],
      "text/plain": [
       "        cook_t_min\n",
       "173252         240\n",
       "173259         240"
      ]
     },
     "execution_count": 84,
     "metadata": {},
     "output_type": "execute_result"
    }
   ],
   "source": [
    "only_h.tail(2)"
   ]
  },
  {
   "cell_type": "code",
   "execution_count": 85,
   "metadata": {},
   "outputs": [
    {
     "data": {
      "text/html": [
       "<div>\n",
       "<style scoped>\n",
       "    .dataframe tbody tr th:only-of-type {\n",
       "        vertical-align: middle;\n",
       "    }\n",
       "\n",
       "    .dataframe tbody tr th {\n",
       "        vertical-align: top;\n",
       "    }\n",
       "\n",
       "    .dataframe thead th {\n",
       "        text-align: right;\n",
       "    }\n",
       "</style>\n",
       "<table border=\"1\" class=\"dataframe\">\n",
       "  <thead>\n",
       "    <tr style=\"text-align: right;\">\n",
       "      <th></th>\n",
       "      <th>cook_t_min</th>\n",
       "    </tr>\n",
       "  </thead>\n",
       "  <tbody>\n",
       "    <tr>\n",
       "      <th>173273</th>\n",
       "      <td>5</td>\n",
       "    </tr>\n",
       "    <tr>\n",
       "      <th>173276</th>\n",
       "      <td>25</td>\n",
       "    </tr>\n",
       "  </tbody>\n",
       "</table>\n",
       "</div>"
      ],
      "text/plain": [
       "        cook_t_min\n",
       "173273           5\n",
       "173276          25"
      ]
     },
     "execution_count": 85,
     "metadata": {},
     "output_type": "execute_result"
    }
   ],
   "source": [
    "only_m = cook_time[(cook_time['where_m'].isnull() == False) & (cook_time['where_h'].isnull() == True)]\n",
    "only_m = only_m.copy()\n",
    "only_m.loc[:, 'cook_t_min'] = only_m.loc[:, 'cookTime'].str[:-1].astype(int)\n",
    "only_m.drop(['cookTime', 'where_m', 'where_h'], axis=1, inplace=True)\n",
    "only_m.tail(2)"
   ]
  },
  {
   "cell_type": "code",
   "execution_count": 86,
   "metadata": {},
   "outputs": [
    {
     "data": {
      "text/html": [
       "<div>\n",
       "<style scoped>\n",
       "    .dataframe tbody tr th:only-of-type {\n",
       "        vertical-align: middle;\n",
       "    }\n",
       "\n",
       "    .dataframe tbody tr th {\n",
       "        vertical-align: top;\n",
       "    }\n",
       "\n",
       "    .dataframe thead th {\n",
       "        text-align: right;\n",
       "    }\n",
       "</style>\n",
       "<table border=\"1\" class=\"dataframe\">\n",
       "  <thead>\n",
       "    <tr style=\"text-align: right;\">\n",
       "      <th></th>\n",
       "      <th>cookTime</th>\n",
       "      <th>where_m</th>\n",
       "      <th>where_h</th>\n",
       "    </tr>\n",
       "  </thead>\n",
       "  <tbody>\n",
       "    <tr>\n",
       "      <th>173135</th>\n",
       "      <td>2H30M</td>\n",
       "      <td>4.0</td>\n",
       "      <td>1.0</td>\n",
       "    </tr>\n",
       "    <tr>\n",
       "      <th>173200</th>\n",
       "      <td>1H10M</td>\n",
       "      <td>4.0</td>\n",
       "      <td>1.0</td>\n",
       "    </tr>\n",
       "  </tbody>\n",
       "</table>\n",
       "</div>"
      ],
      "text/plain": [
       "       cookTime  where_m  where_h\n",
       "173135    2H30M      4.0      1.0\n",
       "173200    1H10M      4.0      1.0"
      ]
     },
     "execution_count": 86,
     "metadata": {},
     "output_type": "execute_result"
    }
   ],
   "source": [
    "m_and_h = cook_time[(cook_time['where_m'].isnull() == False) & (cook_time['where_h'].isnull() == False)]\n",
    "m_and_h = m_and_h.copy()\n",
    "m_and_h.tail(2)"
   ]
  },
  {
   "cell_type": "code",
   "execution_count": 87,
   "metadata": {},
   "outputs": [
    {
     "data": {
      "text/plain": [
       "True    6569\n",
       "Name: count, dtype: int64"
      ]
     },
     "execution_count": 87,
     "metadata": {},
     "output_type": "execute_result"
    }
   ],
   "source": [
    "proof1 = m_and_h['where_m'] > m_and_h['where_h']\n",
    "proof1.value_counts()"
   ]
  },
  {
   "cell_type": "code",
   "execution_count": 88,
   "metadata": {},
   "outputs": [
    {
     "data": {
      "text/html": [
       "<div>\n",
       "<style scoped>\n",
       "    .dataframe tbody tr th:only-of-type {\n",
       "        vertical-align: middle;\n",
       "    }\n",
       "\n",
       "    .dataframe tbody tr th {\n",
       "        vertical-align: top;\n",
       "    }\n",
       "\n",
       "    .dataframe thead th {\n",
       "        text-align: right;\n",
       "    }\n",
       "</style>\n",
       "<table border=\"1\" class=\"dataframe\">\n",
       "  <thead>\n",
       "    <tr style=\"text-align: right;\">\n",
       "      <th></th>\n",
       "      <th>cookTime</th>\n",
       "      <th>where_m</th>\n",
       "      <th>where_h</th>\n",
       "      <th>cook_t_min</th>\n",
       "    </tr>\n",
       "  </thead>\n",
       "  <tbody>\n",
       "    <tr>\n",
       "      <th>173135</th>\n",
       "      <td>2H30M</td>\n",
       "      <td>4</td>\n",
       "      <td>1</td>\n",
       "      <td>120</td>\n",
       "    </tr>\n",
       "    <tr>\n",
       "      <th>173200</th>\n",
       "      <td>1H10M</td>\n",
       "      <td>4</td>\n",
       "      <td>1</td>\n",
       "      <td>60</td>\n",
       "    </tr>\n",
       "  </tbody>\n",
       "</table>\n",
       "</div>"
      ],
      "text/plain": [
       "       cookTime  where_m  where_h  cook_t_min\n",
       "173135    2H30M        4        1         120\n",
       "173200    1H10M        4        1          60"
      ]
     },
     "execution_count": 88,
     "metadata": {},
     "output_type": "execute_result"
    }
   ],
   "source": [
    "m_and_h['where_h'] = m_and_h['where_h'].astype(int)\n",
    "m_and_h['where_m'] = m_and_h['where_m'].astype(int)\n",
    "m_and_h['cook_t_min'] = m_and_h.apply(lambda r: r['cookTime'][:r['where_h']], axis=1)\n",
    "m_and_h['cook_t_min'] = m_and_h['cook_t_min'].astype(int) * 60\n",
    "m_and_h.tail(2)"
   ]
  },
  {
   "cell_type": "code",
   "execution_count": 89,
   "metadata": {},
   "outputs": [],
   "source": [
    "m_and_h['cook_t_min2'] = m_and_h.apply(lambda r: r['cookTime'][(r['where_h']+1):-1], axis=1)\n",
    "m_and_h['cook_t_min2'] = m_and_h['cook_t_min2'].astype(int)"
   ]
  },
  {
   "cell_type": "code",
   "execution_count": 90,
   "metadata": {},
   "outputs": [
    {
     "data": {
      "text/html": [
       "<div>\n",
       "<style scoped>\n",
       "    .dataframe tbody tr th:only-of-type {\n",
       "        vertical-align: middle;\n",
       "    }\n",
       "\n",
       "    .dataframe tbody tr th {\n",
       "        vertical-align: top;\n",
       "    }\n",
       "\n",
       "    .dataframe thead th {\n",
       "        text-align: right;\n",
       "    }\n",
       "</style>\n",
       "<table border=\"1\" class=\"dataframe\">\n",
       "  <thead>\n",
       "    <tr style=\"text-align: right;\">\n",
       "      <th></th>\n",
       "      <th>cook_t_min</th>\n",
       "    </tr>\n",
       "  </thead>\n",
       "  <tbody>\n",
       "    <tr>\n",
       "      <th>173065</th>\n",
       "      <td>75</td>\n",
       "    </tr>\n",
       "    <tr>\n",
       "      <th>173095</th>\n",
       "      <td>125</td>\n",
       "    </tr>\n",
       "    <tr>\n",
       "      <th>173135</th>\n",
       "      <td>150</td>\n",
       "    </tr>\n",
       "    <tr>\n",
       "      <th>173200</th>\n",
       "      <td>70</td>\n",
       "    </tr>\n",
       "  </tbody>\n",
       "</table>\n",
       "</div>"
      ],
      "text/plain": [
       "        cook_t_min\n",
       "173065          75\n",
       "173095         125\n",
       "173135         150\n",
       "173200          70"
      ]
     },
     "execution_count": 90,
     "metadata": {},
     "output_type": "execute_result"
    }
   ],
   "source": [
    "m_and_h['cook_t_min'] = m_and_h['cook_t_min'] + m_and_h['cook_t_min2']\n",
    "m_and_h.drop(['cookTime', 'where_m', 'where_h', 'cook_t_min2'],\n",
    "             axis=1, inplace=True)\n",
    "m_and_h.tail(4)"
   ]
  },
  {
   "cell_type": "code",
   "execution_count": 91,
   "metadata": {},
   "outputs": [],
   "source": [
    "only_h['ind'] = only_h.index\n",
    "only_m['ind'] = only_m.index"
   ]
  },
  {
   "cell_type": "code",
   "execution_count": 92,
   "metadata": {},
   "outputs": [
    {
     "data": {
      "text/plain": [
       "True"
      ]
     },
     "execution_count": 92,
     "metadata": {},
     "output_type": "execute_result"
    }
   ],
   "source": [
    "cook_time_final = pd.merge(only_h, only_m, on='ind', how='outer')\n",
    "only_h.shape[0] + only_m.shape[0] == cook_time_final.shape[0]"
   ]
  },
  {
   "cell_type": "code",
   "execution_count": 93,
   "metadata": {},
   "outputs": [
    {
     "data": {
      "text/html": [
       "<div>\n",
       "<style scoped>\n",
       "    .dataframe tbody tr th:only-of-type {\n",
       "        vertical-align: middle;\n",
       "    }\n",
       "\n",
       "    .dataframe tbody tr th {\n",
       "        vertical-align: top;\n",
       "    }\n",
       "\n",
       "    .dataframe thead th {\n",
       "        text-align: right;\n",
       "    }\n",
       "</style>\n",
       "<table border=\"1\" class=\"dataframe\">\n",
       "  <thead>\n",
       "    <tr style=\"text-align: right;\">\n",
       "      <th></th>\n",
       "      <th>cook_t_min_x</th>\n",
       "      <th>ind</th>\n",
       "      <th>cook_t_min_y</th>\n",
       "    </tr>\n",
       "  </thead>\n",
       "  <tbody>\n",
       "    <tr>\n",
       "      <th>100640</th>\n",
       "      <td>NaN</td>\n",
       "      <td>173273</td>\n",
       "      <td>5.0</td>\n",
       "    </tr>\n",
       "    <tr>\n",
       "      <th>100641</th>\n",
       "      <td>NaN</td>\n",
       "      <td>173276</td>\n",
       "      <td>25.0</td>\n",
       "    </tr>\n",
       "  </tbody>\n",
       "</table>\n",
       "</div>"
      ],
      "text/plain": [
       "        cook_t_min_x     ind  cook_t_min_y\n",
       "100640           NaN  173273           5.0\n",
       "100641           NaN  173276          25.0"
      ]
     },
     "execution_count": 93,
     "metadata": {},
     "output_type": "execute_result"
    }
   ],
   "source": [
    "cook_time_final.tail(2)"
   ]
  },
  {
   "cell_type": "code",
   "execution_count": 94,
   "metadata": {},
   "outputs": [
    {
     "data": {
      "text/html": [
       "<div>\n",
       "<style scoped>\n",
       "    .dataframe tbody tr th:only-of-type {\n",
       "        vertical-align: middle;\n",
       "    }\n",
       "\n",
       "    .dataframe tbody tr th {\n",
       "        vertical-align: top;\n",
       "    }\n",
       "\n",
       "    .dataframe thead th {\n",
       "        text-align: right;\n",
       "    }\n",
       "</style>\n",
       "<table border=\"1\" class=\"dataframe\">\n",
       "  <thead>\n",
       "    <tr style=\"text-align: right;\">\n",
       "      <th></th>\n",
       "      <th>ind</th>\n",
       "      <th>cook_t_min</th>\n",
       "    </tr>\n",
       "  </thead>\n",
       "  <tbody>\n",
       "    <tr>\n",
       "      <th>100640</th>\n",
       "      <td>173273</td>\n",
       "      <td>5.0</td>\n",
       "    </tr>\n",
       "    <tr>\n",
       "      <th>100641</th>\n",
       "      <td>173276</td>\n",
       "      <td>25.0</td>\n",
       "    </tr>\n",
       "  </tbody>\n",
       "</table>\n",
       "</div>"
      ],
      "text/plain": [
       "           ind  cook_t_min\n",
       "100640  173273         5.0\n",
       "100641  173276        25.0"
      ]
     },
     "execution_count": 94,
     "metadata": {},
     "output_type": "execute_result"
    }
   ],
   "source": [
    "cook_time_final['cook_t_min_x'].fillna(0, inplace=True)\n",
    "cook_time_final['cook_t_min_y'].fillna(0, inplace=True)\n",
    "cook_time_final['cook_t_min'] = cook_time_final['cook_t_min_x'] + cook_time_final['cook_t_min_y']\n",
    "cook_time_final.drop(['cook_t_min_x', 'cook_t_min_y'], axis=1, inplace=True)\n",
    "cook_time_final.tail(2)"
   ]
  },
  {
   "cell_type": "code",
   "execution_count": 95,
   "metadata": {},
   "outputs": [
    {
     "data": {
      "text/plain": [
       "True"
      ]
     },
     "execution_count": 95,
     "metadata": {},
     "output_type": "execute_result"
    }
   ],
   "source": [
    "m_and_h['ind'] = m_and_h.index\n",
    "cook_time_final2 = pd.merge(cook_time_final, m_and_h, on='ind', how='outer')\n",
    "m_and_h.shape[0] + cook_time_final.shape[0] == cook_time_final2.shape[0]"
   ]
  },
  {
   "cell_type": "code",
   "execution_count": 96,
   "metadata": {},
   "outputs": [
    {
     "data": {
      "text/html": [
       "<div>\n",
       "<style scoped>\n",
       "    .dataframe tbody tr th:only-of-type {\n",
       "        vertical-align: middle;\n",
       "    }\n",
       "\n",
       "    .dataframe tbody tr th {\n",
       "        vertical-align: top;\n",
       "    }\n",
       "\n",
       "    .dataframe thead th {\n",
       "        text-align: right;\n",
       "    }\n",
       "</style>\n",
       "<table border=\"1\" class=\"dataframe\">\n",
       "  <thead>\n",
       "    <tr style=\"text-align: right;\">\n",
       "      <th></th>\n",
       "      <th>ind</th>\n",
       "      <th>cook_t_min_x</th>\n",
       "      <th>cook_t_min_y</th>\n",
       "    </tr>\n",
       "  </thead>\n",
       "  <tbody>\n",
       "    <tr>\n",
       "      <th>107208</th>\n",
       "      <td>173095</td>\n",
       "      <td>NaN</td>\n",
       "      <td>125.0</td>\n",
       "    </tr>\n",
       "    <tr>\n",
       "      <th>107209</th>\n",
       "      <td>173135</td>\n",
       "      <td>NaN</td>\n",
       "      <td>150.0</td>\n",
       "    </tr>\n",
       "    <tr>\n",
       "      <th>107210</th>\n",
       "      <td>173200</td>\n",
       "      <td>NaN</td>\n",
       "      <td>70.0</td>\n",
       "    </tr>\n",
       "  </tbody>\n",
       "</table>\n",
       "</div>"
      ],
      "text/plain": [
       "           ind  cook_t_min_x  cook_t_min_y\n",
       "107208  173095           NaN         125.0\n",
       "107209  173135           NaN         150.0\n",
       "107210  173200           NaN          70.0"
      ]
     },
     "execution_count": 96,
     "metadata": {},
     "output_type": "execute_result"
    }
   ],
   "source": [
    "cook_time_final2.tail(3)"
   ]
  },
  {
   "cell_type": "code",
   "execution_count": 97,
   "metadata": {},
   "outputs": [
    {
     "data": {
      "text/html": [
       "<div>\n",
       "<style scoped>\n",
       "    .dataframe tbody tr th:only-of-type {\n",
       "        vertical-align: middle;\n",
       "    }\n",
       "\n",
       "    .dataframe tbody tr th {\n",
       "        vertical-align: top;\n",
       "    }\n",
       "\n",
       "    .dataframe thead th {\n",
       "        text-align: right;\n",
       "    }\n",
       "</style>\n",
       "<table border=\"1\" class=\"dataframe\">\n",
       "  <thead>\n",
       "    <tr style=\"text-align: right;\">\n",
       "      <th></th>\n",
       "      <th>ind</th>\n",
       "      <th>cook_t_min</th>\n",
       "    </tr>\n",
       "  </thead>\n",
       "  <tbody>\n",
       "    <tr>\n",
       "      <th>107208</th>\n",
       "      <td>173095</td>\n",
       "      <td>125.0</td>\n",
       "    </tr>\n",
       "    <tr>\n",
       "      <th>107209</th>\n",
       "      <td>173135</td>\n",
       "      <td>150.0</td>\n",
       "    </tr>\n",
       "    <tr>\n",
       "      <th>107210</th>\n",
       "      <td>173200</td>\n",
       "      <td>70.0</td>\n",
       "    </tr>\n",
       "  </tbody>\n",
       "</table>\n",
       "</div>"
      ],
      "text/plain": [
       "           ind  cook_t_min\n",
       "107208  173095       125.0\n",
       "107209  173135       150.0\n",
       "107210  173200        70.0"
      ]
     },
     "execution_count": 97,
     "metadata": {},
     "output_type": "execute_result"
    }
   ],
   "source": [
    "cook_time_final2['cook_t_min_x'].fillna(0, inplace=True)\n",
    "cook_time_final2['cook_t_min_y'].fillna(0, inplace=True)\n",
    "cook_time_final2['cook_t_min'] = cook_time_final2['cook_t_min_y'] + cook_time_final2['cook_t_min_x']\n",
    "cook_time_final2.drop(['cook_t_min_x', 'cook_t_min_y'], axis=1, inplace=True)\n",
    "cook_time_final2.tail(3)"
   ]
  },
  {
   "cell_type": "code",
   "execution_count": 98,
   "metadata": {},
   "outputs": [],
   "source": [
    "recipes2['ind'] = recipes2.index"
   ]
  },
  {
   "cell_type": "code",
   "execution_count": 101,
   "metadata": {},
   "outputs": [],
   "source": [
    "# Merge everything back\n",
    "\n",
    "recipes3 = pd.merge(recipes2, cook_time_final2,\n",
    "                    on='ind', how='outer')"
   ]
  },
  {
   "cell_type": "code",
   "execution_count": 102,
   "metadata": {},
   "outputs": [
    {
     "data": {
      "text/plain": [
       "True"
      ]
     },
     "execution_count": 102,
     "metadata": {},
     "output_type": "execute_result"
    }
   ],
   "source": [
    "recipes3.shape[0] == recipes2.shape[0]"
   ]
  },
  {
   "cell_type": "code",
   "execution_count": 103,
   "metadata": {},
   "outputs": [
    {
     "data": {
      "text/html": [
       "<div>\n",
       "<style scoped>\n",
       "    .dataframe tbody tr th:only-of-type {\n",
       "        vertical-align: middle;\n",
       "    }\n",
       "\n",
       "    .dataframe tbody tr th {\n",
       "        vertical-align: top;\n",
       "    }\n",
       "\n",
       "    .dataframe thead th {\n",
       "        text-align: right;\n",
       "    }\n",
       "</style>\n",
       "<table border=\"1\" class=\"dataframe\">\n",
       "  <thead>\n",
       "    <tr style=\"text-align: right;\">\n",
       "      <th></th>\n",
       "      <th>_id</th>\n",
       "      <th>name</th>\n",
       "      <th>ingredients</th>\n",
       "      <th>url</th>\n",
       "      <th>image</th>\n",
       "      <th>cookTime</th>\n",
       "      <th>source</th>\n",
       "      <th>description</th>\n",
       "      <th>time_stamp</th>\n",
       "      <th>prep_t_min</th>\n",
       "      <th>ind</th>\n",
       "      <th>cook_t_min</th>\n",
       "    </tr>\n",
       "  </thead>\n",
       "  <tbody>\n",
       "    <tr>\n",
       "      <th>173275</th>\n",
       "      <td>551f29b696cc62227991d465</td>\n",
       "      <td>the ultimate queso bean dip</td>\n",
       "      <td>two 16 ounce cans old el paso refried beans\\n4...</td>\n",
       "      <td>http://picky-palate.com/2015/04/03/the-ultimat...</td>\n",
       "      <td>http://picky-palate.com/wp-content/uploads/201...</td>\n",
       "      <td>NaN</td>\n",
       "      <td>pickypalate</td>\n",
       "      <td>NaN</td>\n",
       "      <td>2015-04-04</td>\n",
       "      <td>NaN</td>\n",
       "      <td>173275</td>\n",
       "      <td>NaN</td>\n",
       "    </tr>\n",
       "    <tr>\n",
       "      <th>173276</th>\n",
       "      <td>551f29c696cc6222a4e0c0e4</td>\n",
       "      <td>maple-sweetened banana muffins</td>\n",
       "      <td>⅓ cup melted coconut oil or extra-virgin olive...</td>\n",
       "      <td>http://cookieandkate.com/2015/healthy-banana-m...</td>\n",
       "      <td>http://cookieandkate.com/images/2015/04/mashed...</td>\n",
       "      <td>PT25M</td>\n",
       "      <td>cookieandkate</td>\n",
       "      <td>These whole wheat, maple-sweetened banana muff...</td>\n",
       "      <td>2015-04-04</td>\n",
       "      <td>10.0</td>\n",
       "      <td>173276</td>\n",
       "      <td>25.0</td>\n",
       "    </tr>\n",
       "  </tbody>\n",
       "</table>\n",
       "</div>"
      ],
      "text/plain": [
       "                             _id                            name  \\\n",
       "173275  551f29b696cc62227991d465     the ultimate queso bean dip   \n",
       "173276  551f29c696cc6222a4e0c0e4  maple-sweetened banana muffins   \n",
       "\n",
       "                                              ingredients  \\\n",
       "173275  two 16 ounce cans old el paso refried beans\\n4...   \n",
       "173276  ⅓ cup melted coconut oil or extra-virgin olive...   \n",
       "\n",
       "                                                      url  \\\n",
       "173275  http://picky-palate.com/2015/04/03/the-ultimat...   \n",
       "173276  http://cookieandkate.com/2015/healthy-banana-m...   \n",
       "\n",
       "                                                    image cookTime  \\\n",
       "173275  http://picky-palate.com/wp-content/uploads/201...      NaN   \n",
       "173276  http://cookieandkate.com/images/2015/04/mashed...    PT25M   \n",
       "\n",
       "               source                                        description  \\\n",
       "173275    pickypalate                                                NaN   \n",
       "173276  cookieandkate  These whole wheat, maple-sweetened banana muff...   \n",
       "\n",
       "       time_stamp  prep_t_min     ind  cook_t_min  \n",
       "173275 2015-04-04         NaN  173275         NaN  \n",
       "173276 2015-04-04        10.0  173276        25.0  "
      ]
     },
     "execution_count": 103,
     "metadata": {},
     "output_type": "execute_result"
    }
   ],
   "source": [
    "recipes3.tail(2)"
   ]
  },
  {
   "cell_type": "code",
   "execution_count": 104,
   "metadata": {},
   "outputs": [],
   "source": [
    "recipes3.drop(['cookTime', 'ind'], axis=1, inplace=True)\n",
    "del only_h\n",
    "del only_m\n",
    "del m_and_h\n",
    "del recipes2"
   ]
  },
  {
   "cell_type": "code",
   "execution_count": 105,
   "metadata": {},
   "outputs": [],
   "source": [
    "recipes3['prep_t_min'].fillna(0, inplace=True)\n",
    "recipes3['cook_t_min'].fillna(0, inplace=True)\n",
    "recipes3['time_tot_min'] = recipes3['cook_t_min'] + recipes3['prep_t_min']\n",
    "recipes3['prep_t_min'].replace(0, np.nan, inplace=True)\n",
    "recipes3['cook_t_min'].replace(0, np.nan, inplace=True)\n",
    "recipes3['time_tot_min'].replace(0, np.nan, inplace=True)"
   ]
  },
  {
   "cell_type": "code",
   "execution_count": 106,
   "metadata": {},
   "outputs": [
    {
     "data": {
      "text/html": [
       "<div>\n",
       "<style scoped>\n",
       "    .dataframe tbody tr th:only-of-type {\n",
       "        vertical-align: middle;\n",
       "    }\n",
       "\n",
       "    .dataframe tbody tr th {\n",
       "        vertical-align: top;\n",
       "    }\n",
       "\n",
       "    .dataframe thead th {\n",
       "        text-align: right;\n",
       "    }\n",
       "</style>\n",
       "<table border=\"1\" class=\"dataframe\">\n",
       "  <thead>\n",
       "    <tr style=\"text-align: right;\">\n",
       "      <th></th>\n",
       "      <th>_id</th>\n",
       "      <th>name</th>\n",
       "      <th>ingredients</th>\n",
       "      <th>url</th>\n",
       "      <th>image</th>\n",
       "      <th>source</th>\n",
       "      <th>description</th>\n",
       "      <th>time_stamp</th>\n",
       "      <th>prep_t_min</th>\n",
       "      <th>cook_t_min</th>\n",
       "      <th>time_tot_min</th>\n",
       "    </tr>\n",
       "  </thead>\n",
       "  <tbody>\n",
       "    <tr>\n",
       "      <th>60897</th>\n",
       "      <td>5162421096cc620d2615ea3f</td>\n",
       "      <td>homemade vanilla extract</td>\n",
       "      <td>1-½ cup 1-½ cup\\n3 whole 3 whole\\n1 whole 1 whole</td>\n",
       "      <td>http://tastykitchen.com/recipes/homemade-ingre...</td>\n",
       "      <td>http://static.tastykitchen.com/recipes/files/2...</td>\n",
       "      <td>tastykitchen</td>\n",
       "      <td>Make your own delicious vanilla extract!</td>\n",
       "      <td>2013-04-08</td>\n",
       "      <td>5.0</td>\n",
       "      <td>60480.0</td>\n",
       "      <td>60485.0</td>\n",
       "    </tr>\n",
       "  </tbody>\n",
       "</table>\n",
       "</div>"
      ],
      "text/plain": [
       "                            _id                      name  \\\n",
       "60897  5162421096cc620d2615ea3f  homemade vanilla extract   \n",
       "\n",
       "                                             ingredients  \\\n",
       "60897  1-½ cup 1-½ cup\\n3 whole 3 whole\\n1 whole 1 whole   \n",
       "\n",
       "                                                     url  \\\n",
       "60897  http://tastykitchen.com/recipes/homemade-ingre...   \n",
       "\n",
       "                                                   image        source  \\\n",
       "60897  http://static.tastykitchen.com/recipes/files/2...  tastykitchen   \n",
       "\n",
       "                                    description time_stamp  prep_t_min  \\\n",
       "60897  Make your own delicious vanilla extract! 2013-04-08         5.0   \n",
       "\n",
       "       cook_t_min  time_tot_min  \n",
       "60897     60480.0       60485.0  "
      ]
     },
     "execution_count": 106,
     "metadata": {},
     "output_type": "execute_result"
    }
   ],
   "source": [
    "mmax = recipes3['time_tot_min'].max()\n",
    "recipes3.loc[recipes3['time_tot_min']==mmax, :]"
   ]
  },
  {
   "cell_type": "code",
   "execution_count": 107,
   "metadata": {},
   "outputs": [
    {
     "data": {
      "text/html": [
       "<div>\n",
       "<style scoped>\n",
       "    .dataframe tbody tr th:only-of-type {\n",
       "        vertical-align: middle;\n",
       "    }\n",
       "\n",
       "    .dataframe tbody tr th {\n",
       "        vertical-align: top;\n",
       "    }\n",
       "\n",
       "    .dataframe thead th {\n",
       "        text-align: right;\n",
       "    }\n",
       "</style>\n",
       "<table border=\"1\" class=\"dataframe\">\n",
       "  <thead>\n",
       "    <tr style=\"text-align: right;\">\n",
       "      <th></th>\n",
       "      <th>_id</th>\n",
       "      <th>name</th>\n",
       "      <th>ingredients</th>\n",
       "      <th>url</th>\n",
       "      <th>image</th>\n",
       "      <th>cookTime</th>\n",
       "      <th>source</th>\n",
       "      <th>prepTime</th>\n",
       "      <th>description</th>\n",
       "      <th>time_stamp</th>\n",
       "    </tr>\n",
       "  </thead>\n",
       "  <tbody>\n",
       "    <tr>\n",
       "      <th>22212</th>\n",
       "      <td>51611ddc96cc620d26155321</td>\n",
       "      <td>homemade vanilla extract</td>\n",
       "      <td>6 whole 6 whole\\n2 cups 2 cups</td>\n",
       "      <td>http://tastykitchen.com/recipes/desserts/homem...</td>\n",
       "      <td>http://static.tastykitchen.com/recipes/files/2...</td>\n",
       "      <td>PT</td>\n",
       "      <td>tastykitchen</td>\n",
       "      <td>PT5M</td>\n",
       "      <td>Very easy to do!</td>\n",
       "      <td>2013-04-07</td>\n",
       "    </tr>\n",
       "    <tr>\n",
       "      <th>26272</th>\n",
       "      <td>51613d1596cc620d261562fd</td>\n",
       "      <td>homemade vanilla extract</td>\n",
       "      <td>5 whole 5 whole\\n8 ounces, fluid 8 ounces, fluid</td>\n",
       "      <td>http://tastykitchen.com/recipes/homemade-ingre...</td>\n",
       "      <td>http://static.tastykitchen.com/recipes/files/2...</td>\n",
       "      <td>PT</td>\n",
       "      <td>tastykitchen</td>\n",
       "      <td>PT5M</td>\n",
       "      <td>Avoid any preservatives and additives in this ...</td>\n",
       "      <td>2013-04-07</td>\n",
       "    </tr>\n",
       "    <tr>\n",
       "      <th>32354</th>\n",
       "      <td>51616a8596cc620d26157abf</td>\n",
       "      <td>homemade vanilla extract</td>\n",
       "      <td>1 bottle 1 bottle\\n3 whole 3 whole\\n10 jars 10...</td>\n",
       "      <td>http://tastykitchen.com/recipes/canning/homema...</td>\n",
       "      <td>http://static.tastykitchen.com/recipes/files/2...</td>\n",
       "      <td>PT5M</td>\n",
       "      <td>tastykitchen</td>\n",
       "      <td>PT5M</td>\n",
       "      <td>This delightful homemade vanilla extract is ea...</td>\n",
       "      <td>2013-04-07</td>\n",
       "    </tr>\n",
       "    <tr>\n",
       "      <th>52546</th>\n",
       "      <td>5161f91096cc620d2615c99f</td>\n",
       "      <td>homemade vanilla extract</td>\n",
       "      <td>½ pints ½ pints\\n4 whole 4 whole\\n½ pints ½ pints</td>\n",
       "      <td>http://tastykitchen.com/recipes/homemade-ingre...</td>\n",
       "      <td>http://static.tastykitchen.com/recipes/files/2...</td>\n",
       "      <td>PT</td>\n",
       "      <td>tastykitchen</td>\n",
       "      <td>PT10M</td>\n",
       "      <td>Easy to make homemade vanilla extract. I’ve br...</td>\n",
       "      <td>2013-04-07</td>\n",
       "    </tr>\n",
       "    <tr>\n",
       "      <th>60898</th>\n",
       "      <td>5162421096cc620d2615ea3f</td>\n",
       "      <td>homemade vanilla extract</td>\n",
       "      <td>1-½ cup 1-½ cup\\n3 whole 3 whole\\n1 whole 1 whole</td>\n",
       "      <td>http://tastykitchen.com/recipes/homemade-ingre...</td>\n",
       "      <td>http://static.tastykitchen.com/recipes/files/2...</td>\n",
       "      <td>PT1008H</td>\n",
       "      <td>tastykitchen</td>\n",
       "      <td>PT5M</td>\n",
       "      <td>Make your own delicious vanilla extract!</td>\n",
       "      <td>2013-04-08</td>\n",
       "    </tr>\n",
       "    <tr>\n",
       "      <th>61377</th>\n",
       "      <td>516247a596cc620d2615ec1e</td>\n",
       "      <td>homemade vanilla extract</td>\n",
       "      <td>12 whole 12 whole\\n1 bottle 1 bottle</td>\n",
       "      <td>http://tastykitchen.com/recipes/homemade-ingre...</td>\n",
       "      <td>http://static.tastykitchen.com/recipes/files/2...</td>\n",
       "      <td>PT</td>\n",
       "      <td>tastykitchen</td>\n",
       "      <td>PT5M</td>\n",
       "      <td>Nothing tastes better and saves money like mak...</td>\n",
       "      <td>2013-04-08</td>\n",
       "    </tr>\n",
       "    <tr>\n",
       "      <th>108785</th>\n",
       "      <td>516c47e196cc62548fd2be0c</td>\n",
       "      <td>homemade vanilla extract</td>\n",
       "      <td>10 vanilla beans, split lengthwise\\n1 liter vodka</td>\n",
       "      <td>http://allrecipes.com/Recipe/Homemade-Vanilla-...</td>\n",
       "      <td>http://images.media-allrecipes.com/userphotos/...</td>\n",
       "      <td>NaN</td>\n",
       "      <td>allrecipes</td>\n",
       "      <td>PT5M</td>\n",
       "      <td>\"Homemade vanilla extract! What could be bette...</td>\n",
       "      <td>2013-04-15</td>\n",
       "    </tr>\n",
       "  </tbody>\n",
       "</table>\n",
       "</div>"
      ],
      "text/plain": [
       "                             _id                      name  \\\n",
       "22212   51611ddc96cc620d26155321  homemade vanilla extract   \n",
       "26272   51613d1596cc620d261562fd  homemade vanilla extract   \n",
       "32354   51616a8596cc620d26157abf  homemade vanilla extract   \n",
       "52546   5161f91096cc620d2615c99f  homemade vanilla extract   \n",
       "60898   5162421096cc620d2615ea3f  homemade vanilla extract   \n",
       "61377   516247a596cc620d2615ec1e  homemade vanilla extract   \n",
       "108785  516c47e196cc62548fd2be0c  homemade vanilla extract   \n",
       "\n",
       "                                              ingredients  \\\n",
       "22212                      6 whole 6 whole\\n2 cups 2 cups   \n",
       "26272    5 whole 5 whole\\n8 ounces, fluid 8 ounces, fluid   \n",
       "32354   1 bottle 1 bottle\\n3 whole 3 whole\\n10 jars 10...   \n",
       "52546   ½ pints ½ pints\\n4 whole 4 whole\\n½ pints ½ pints   \n",
       "60898   1-½ cup 1-½ cup\\n3 whole 3 whole\\n1 whole 1 whole   \n",
       "61377                12 whole 12 whole\\n1 bottle 1 bottle   \n",
       "108785  10 vanilla beans, split lengthwise\\n1 liter vodka   \n",
       "\n",
       "                                                      url  \\\n",
       "22212   http://tastykitchen.com/recipes/desserts/homem...   \n",
       "26272   http://tastykitchen.com/recipes/homemade-ingre...   \n",
       "32354   http://tastykitchen.com/recipes/canning/homema...   \n",
       "52546   http://tastykitchen.com/recipes/homemade-ingre...   \n",
       "60898   http://tastykitchen.com/recipes/homemade-ingre...   \n",
       "61377   http://tastykitchen.com/recipes/homemade-ingre...   \n",
       "108785  http://allrecipes.com/Recipe/Homemade-Vanilla-...   \n",
       "\n",
       "                                                    image cookTime  \\\n",
       "22212   http://static.tastykitchen.com/recipes/files/2...       PT   \n",
       "26272   http://static.tastykitchen.com/recipes/files/2...       PT   \n",
       "32354   http://static.tastykitchen.com/recipes/files/2...     PT5M   \n",
       "52546   http://static.tastykitchen.com/recipes/files/2...       PT   \n",
       "60898   http://static.tastykitchen.com/recipes/files/2...  PT1008H   \n",
       "61377   http://static.tastykitchen.com/recipes/files/2...       PT   \n",
       "108785  http://images.media-allrecipes.com/userphotos/...      NaN   \n",
       "\n",
       "              source prepTime  \\\n",
       "22212   tastykitchen     PT5M   \n",
       "26272   tastykitchen     PT5M   \n",
       "32354   tastykitchen     PT5M   \n",
       "52546   tastykitchen    PT10M   \n",
       "60898   tastykitchen     PT5M   \n",
       "61377   tastykitchen     PT5M   \n",
       "108785    allrecipes     PT5M   \n",
       "\n",
       "                                              description time_stamp  \n",
       "22212                                    Very easy to do! 2013-04-07  \n",
       "26272   Avoid any preservatives and additives in this ... 2013-04-07  \n",
       "32354   This delightful homemade vanilla extract is ea... 2013-04-07  \n",
       "52546   Easy to make homemade vanilla extract. I’ve br... 2013-04-07  \n",
       "60898            Make your own delicious vanilla extract! 2013-04-08  \n",
       "61377   Nothing tastes better and saves money like mak... 2013-04-08  \n",
       "108785  \"Homemade vanilla extract! What could be bette... 2013-04-15  "
      ]
     },
     "execution_count": 107,
     "metadata": {},
     "output_type": "execute_result"
    }
   ],
   "source": [
    "recipes.loc[recipes['name']=='homemade vanilla extract', :]"
   ]
  },
  {
   "cell_type": "markdown",
   "metadata": {},
   "source": [
    "## Ingredients"
   ]
  },
  {
   "cell_type": "code",
   "execution_count": 108,
   "metadata": {},
   "outputs": [
    {
     "data": {
      "text/html": [
       "<div>\n",
       "<style scoped>\n",
       "    .dataframe tbody tr th:only-of-type {\n",
       "        vertical-align: middle;\n",
       "    }\n",
       "\n",
       "    .dataframe tbody tr th {\n",
       "        vertical-align: top;\n",
       "    }\n",
       "\n",
       "    .dataframe thead th {\n",
       "        text-align: right;\n",
       "    }\n",
       "</style>\n",
       "<table border=\"1\" class=\"dataframe\">\n",
       "  <thead>\n",
       "    <tr style=\"text-align: right;\">\n",
       "      <th></th>\n",
       "      <th>_id</th>\n",
       "      <th>name</th>\n",
       "      <th>ingredients</th>\n",
       "      <th>url</th>\n",
       "      <th>image</th>\n",
       "      <th>source</th>\n",
       "      <th>description</th>\n",
       "      <th>time_stamp</th>\n",
       "      <th>prep_t_min</th>\n",
       "      <th>cook_t_min</th>\n",
       "      <th>time_tot_min</th>\n",
       "    </tr>\n",
       "  </thead>\n",
       "  <tbody>\n",
       "    <tr>\n",
       "      <th>173275</th>\n",
       "      <td>551f29b696cc62227991d465</td>\n",
       "      <td>the ultimate queso bean dip</td>\n",
       "      <td>two 16 ounce cans old el paso refried beans 4 ...</td>\n",
       "      <td>http://picky-palate.com/2015/04/03/the-ultimat...</td>\n",
       "      <td>http://picky-palate.com/wp-content/uploads/201...</td>\n",
       "      <td>pickypalate</td>\n",
       "      <td>NaN</td>\n",
       "      <td>2015-04-04</td>\n",
       "      <td>NaN</td>\n",
       "      <td>NaN</td>\n",
       "      <td>NaN</td>\n",
       "    </tr>\n",
       "    <tr>\n",
       "      <th>173276</th>\n",
       "      <td>551f29c696cc6222a4e0c0e4</td>\n",
       "      <td>maple-sweetened banana muffins</td>\n",
       "      <td>⅓ cup melted coconut oil or extra-virgin olive...</td>\n",
       "      <td>http://cookieandkate.com/2015/healthy-banana-m...</td>\n",
       "      <td>http://cookieandkate.com/images/2015/04/mashed...</td>\n",
       "      <td>cookieandkate</td>\n",
       "      <td>These whole wheat, maple-sweetened banana muff...</td>\n",
       "      <td>2015-04-04</td>\n",
       "      <td>10.0</td>\n",
       "      <td>25.0</td>\n",
       "      <td>35.0</td>\n",
       "    </tr>\n",
       "  </tbody>\n",
       "</table>\n",
       "</div>"
      ],
      "text/plain": [
       "                             _id                            name  \\\n",
       "173275  551f29b696cc62227991d465     the ultimate queso bean dip   \n",
       "173276  551f29c696cc6222a4e0c0e4  maple-sweetened banana muffins   \n",
       "\n",
       "                                              ingredients  \\\n",
       "173275  two 16 ounce cans old el paso refried beans 4 ...   \n",
       "173276  ⅓ cup melted coconut oil or extra-virgin olive...   \n",
       "\n",
       "                                                      url  \\\n",
       "173275  http://picky-palate.com/2015/04/03/the-ultimat...   \n",
       "173276  http://cookieandkate.com/2015/healthy-banana-m...   \n",
       "\n",
       "                                                    image         source  \\\n",
       "173275  http://picky-palate.com/wp-content/uploads/201...    pickypalate   \n",
       "173276  http://cookieandkate.com/images/2015/04/mashed...  cookieandkate   \n",
       "\n",
       "                                              description time_stamp  \\\n",
       "173275                                                NaN 2015-04-04   \n",
       "173276  These whole wheat, maple-sweetened banana muff... 2015-04-04   \n",
       "\n",
       "        prep_t_min  cook_t_min  time_tot_min  \n",
       "173275         NaN         NaN           NaN  \n",
       "173276        10.0        25.0          35.0  "
      ]
     },
     "execution_count": 108,
     "metadata": {},
     "output_type": "execute_result"
    }
   ],
   "source": [
    "recipes3['ingredients'].replace(['\\n', '\\r', '\\r\\n'], ' ', regex=True, inplace=True)\n",
    "recipes3['ingredients'].replace('  ', ' ', regex=True, inplace=True)\n",
    "recipes3.tail(2)"
   ]
  },
  {
   "cell_type": "markdown",
   "metadata": {},
   "source": [
    "## Description"
   ]
  },
  {
   "cell_type": "code",
   "execution_count": 110,
   "metadata": {},
   "outputs": [],
   "source": [
    "# back-up everything I've done until now\n",
    "\n",
    "recipes3.to_csv(r'your_path')"
   ]
  },
  {
   "cell_type": "code",
   "execution_count": 112,
   "metadata": {},
   "outputs": [],
   "source": [
    "recipes4 = pd.read_csv(r'your_path', index_col=0)"
   ]
  },
  {
   "cell_type": "code",
   "execution_count": 113,
   "metadata": {},
   "outputs": [
    {
     "data": {
      "text/html": [
       "<div>\n",
       "<style scoped>\n",
       "    .dataframe tbody tr th:only-of-type {\n",
       "        vertical-align: middle;\n",
       "    }\n",
       "\n",
       "    .dataframe tbody tr th {\n",
       "        vertical-align: top;\n",
       "    }\n",
       "\n",
       "    .dataframe thead th {\n",
       "        text-align: right;\n",
       "    }\n",
       "</style>\n",
       "<table border=\"1\" class=\"dataframe\">\n",
       "  <thead>\n",
       "    <tr style=\"text-align: right;\">\n",
       "      <th></th>\n",
       "      <th>_id</th>\n",
       "      <th>name</th>\n",
       "      <th>ingredients</th>\n",
       "      <th>url</th>\n",
       "      <th>image</th>\n",
       "      <th>source</th>\n",
       "      <th>description</th>\n",
       "      <th>time_stamp</th>\n",
       "      <th>prep_t_min</th>\n",
       "      <th>cook_t_min</th>\n",
       "      <th>time_tot_min</th>\n",
       "    </tr>\n",
       "  </thead>\n",
       "  <tbody>\n",
       "    <tr>\n",
       "      <th>173274</th>\n",
       "      <td>551c86b796cc626b1ab4d901</td>\n",
       "      <td>the best homemade taco seasoning</td>\n",
       "      <td>1/4 cup ground cumin 1/4 cup kosher salt 2 tab...</td>\n",
       "      <td>http://picky-palate.com/2015/04/01/the-best-ho...</td>\n",
       "      <td>http://picky-palate.com/wp-content/uploads/201...</td>\n",
       "      <td>pickypalate</td>\n",
       "      <td>NaN</td>\n",
       "      <td>2015-04-02</td>\n",
       "      <td>NaN</td>\n",
       "      <td>NaN</td>\n",
       "      <td>NaN</td>\n",
       "    </tr>\n",
       "    <tr>\n",
       "      <th>173275</th>\n",
       "      <td>551f29b696cc62227991d465</td>\n",
       "      <td>the ultimate queso bean dip</td>\n",
       "      <td>two 16 ounce cans old el paso refried beans 4 ...</td>\n",
       "      <td>http://picky-palate.com/2015/04/03/the-ultimat...</td>\n",
       "      <td>http://picky-palate.com/wp-content/uploads/201...</td>\n",
       "      <td>pickypalate</td>\n",
       "      <td>NaN</td>\n",
       "      <td>2015-04-04</td>\n",
       "      <td>NaN</td>\n",
       "      <td>NaN</td>\n",
       "      <td>NaN</td>\n",
       "    </tr>\n",
       "    <tr>\n",
       "      <th>173276</th>\n",
       "      <td>551f29c696cc6222a4e0c0e4</td>\n",
       "      <td>maple-sweetened banana muffins</td>\n",
       "      <td>⅓ cup melted coconut oil or extra-virgin olive...</td>\n",
       "      <td>http://cookieandkate.com/2015/healthy-banana-m...</td>\n",
       "      <td>http://cookieandkate.com/images/2015/04/mashed...</td>\n",
       "      <td>cookieandkate</td>\n",
       "      <td>These whole wheat, maple-sweetened banana muff...</td>\n",
       "      <td>2015-04-04</td>\n",
       "      <td>10.0</td>\n",
       "      <td>25.0</td>\n",
       "      <td>35.0</td>\n",
       "    </tr>\n",
       "  </tbody>\n",
       "</table>\n",
       "</div>"
      ],
      "text/plain": [
       "                             _id                              name  \\\n",
       "173274  551c86b796cc626b1ab4d901  the best homemade taco seasoning   \n",
       "173275  551f29b696cc62227991d465       the ultimate queso bean dip   \n",
       "173276  551f29c696cc6222a4e0c0e4    maple-sweetened banana muffins   \n",
       "\n",
       "                                              ingredients  \\\n",
       "173274  1/4 cup ground cumin 1/4 cup kosher salt 2 tab...   \n",
       "173275  two 16 ounce cans old el paso refried beans 4 ...   \n",
       "173276  ⅓ cup melted coconut oil or extra-virgin olive...   \n",
       "\n",
       "                                                      url  \\\n",
       "173274  http://picky-palate.com/2015/04/01/the-best-ho...   \n",
       "173275  http://picky-palate.com/2015/04/03/the-ultimat...   \n",
       "173276  http://cookieandkate.com/2015/healthy-banana-m...   \n",
       "\n",
       "                                                    image         source  \\\n",
       "173274  http://picky-palate.com/wp-content/uploads/201...    pickypalate   \n",
       "173275  http://picky-palate.com/wp-content/uploads/201...    pickypalate   \n",
       "173276  http://cookieandkate.com/images/2015/04/mashed...  cookieandkate   \n",
       "\n",
       "                                              description  time_stamp  \\\n",
       "173274                                                NaN  2015-04-02   \n",
       "173275                                                NaN  2015-04-04   \n",
       "173276  These whole wheat, maple-sweetened banana muff...  2015-04-04   \n",
       "\n",
       "        prep_t_min  cook_t_min  time_tot_min  \n",
       "173274         NaN         NaN           NaN  \n",
       "173275         NaN         NaN           NaN  \n",
       "173276        10.0        25.0          35.0  "
      ]
     },
     "execution_count": 113,
     "metadata": {},
     "output_type": "execute_result"
    }
   ],
   "source": [
    "recipes4.tail(3)"
   ]
  },
  {
   "cell_type": "code",
   "execution_count": 114,
   "metadata": {},
   "outputs": [
    {
     "data": {
      "text/plain": [
       "description\n",
       "False    154456\n",
       "True       3524\n",
       "Name: count, dtype: int64"
      ]
     },
     "execution_count": 114,
     "metadata": {},
     "output_type": "execute_result"
    }
   ],
   "source": [
    "breakfast_in = recipes4['description'].str.contains('breakfast', case=False)\n",
    "breakfast_in.value_counts()"
   ]
  },
  {
   "cell_type": "code",
   "execution_count": 115,
   "metadata": {},
   "outputs": [
    {
     "data": {
      "text/plain": [
       "description\n",
       "False    152769\n",
       "True       5211\n",
       "Name: count, dtype: int64"
      ]
     },
     "execution_count": 115,
     "metadata": {},
     "output_type": "execute_result"
    }
   ],
   "source": [
    "dinner_in = recipes4['description'].str.contains('dinner', case=False)\n",
    "dinner_in.value_counts()"
   ]
  },
  {
   "cell_type": "code",
   "execution_count": 116,
   "metadata": {},
   "outputs": [
    {
     "data": {
      "text/plain": [
       "description\n",
       "False    155629\n",
       "True       2351\n",
       "Name: count, dtype: int64"
      ]
     },
     "execution_count": 116,
     "metadata": {},
     "output_type": "execute_result"
    }
   ],
   "source": [
    "lunch_in = recipes4['description'].str.contains('lunch', case=False)\n",
    "lunch_in.value_counts()"
   ]
  },
  {
   "cell_type": "code",
   "execution_count": 117,
   "metadata": {},
   "outputs": [
    {
     "name": "stdout",
     "output_type": "stream",
     "text": [
      "15297\n",
      "15297\n",
      "15297\n"
     ]
    }
   ],
   "source": [
    "print(breakfast_in.isnull().sum())\n",
    "print(dinner_in.isnull().sum())\n",
    "print(lunch_in.isnull().sum())"
   ]
  },
  {
   "cell_type": "code",
   "execution_count": 118,
   "metadata": {},
   "outputs": [],
   "source": [
    "breakfast_in.fillna(False, inplace=True)\n",
    "dinner_in.fillna(False, inplace=True)\n",
    "lunch_in.fillna(False, inplace=True)"
   ]
  },
  {
   "cell_type": "code",
   "execution_count": 119,
   "metadata": {},
   "outputs": [],
   "source": [
    "breakfast_in = breakfast_in.astype(int)\n",
    "dinner_in = dinner_in.astype(int)\n",
    "lunch_in = lunch_in.astype(int)"
   ]
  },
  {
   "cell_type": "code",
   "execution_count": 120,
   "metadata": {},
   "outputs": [
    {
     "data": {
      "text/html": [
       "<div>\n",
       "<style scoped>\n",
       "    .dataframe tbody tr th:only-of-type {\n",
       "        vertical-align: middle;\n",
       "    }\n",
       "\n",
       "    .dataframe tbody tr th {\n",
       "        vertical-align: top;\n",
       "    }\n",
       "\n",
       "    .dataframe thead th {\n",
       "        text-align: right;\n",
       "    }\n",
       "</style>\n",
       "<table border=\"1\" class=\"dataframe\">\n",
       "  <thead>\n",
       "    <tr style=\"text-align: right;\">\n",
       "      <th></th>\n",
       "      <th>_id</th>\n",
       "      <th>name</th>\n",
       "      <th>ingredients</th>\n",
       "      <th>url</th>\n",
       "      <th>image</th>\n",
       "      <th>source</th>\n",
       "      <th>time_stamp</th>\n",
       "      <th>prep_t_min</th>\n",
       "      <th>cook_t_min</th>\n",
       "      <th>time_tot_min</th>\n",
       "      <th>breakfast</th>\n",
       "      <th>dinner</th>\n",
       "      <th>lunch</th>\n",
       "    </tr>\n",
       "  </thead>\n",
       "  <tbody>\n",
       "    <tr>\n",
       "      <th>173274</th>\n",
       "      <td>551c86b796cc626b1ab4d901</td>\n",
       "      <td>the best homemade taco seasoning</td>\n",
       "      <td>1/4 cup ground cumin 1/4 cup kosher salt 2 tab...</td>\n",
       "      <td>http://picky-palate.com/2015/04/01/the-best-ho...</td>\n",
       "      <td>http://picky-palate.com/wp-content/uploads/201...</td>\n",
       "      <td>pickypalate</td>\n",
       "      <td>2015-04-02</td>\n",
       "      <td>NaN</td>\n",
       "      <td>NaN</td>\n",
       "      <td>NaN</td>\n",
       "      <td>0</td>\n",
       "      <td>0</td>\n",
       "      <td>0</td>\n",
       "    </tr>\n",
       "    <tr>\n",
       "      <th>173275</th>\n",
       "      <td>551f29b696cc62227991d465</td>\n",
       "      <td>the ultimate queso bean dip</td>\n",
       "      <td>two 16 ounce cans old el paso refried beans 4 ...</td>\n",
       "      <td>http://picky-palate.com/2015/04/03/the-ultimat...</td>\n",
       "      <td>http://picky-palate.com/wp-content/uploads/201...</td>\n",
       "      <td>pickypalate</td>\n",
       "      <td>2015-04-04</td>\n",
       "      <td>NaN</td>\n",
       "      <td>NaN</td>\n",
       "      <td>NaN</td>\n",
       "      <td>0</td>\n",
       "      <td>0</td>\n",
       "      <td>0</td>\n",
       "    </tr>\n",
       "    <tr>\n",
       "      <th>173276</th>\n",
       "      <td>551f29c696cc6222a4e0c0e4</td>\n",
       "      <td>maple-sweetened banana muffins</td>\n",
       "      <td>⅓ cup melted coconut oil or extra-virgin olive...</td>\n",
       "      <td>http://cookieandkate.com/2015/healthy-banana-m...</td>\n",
       "      <td>http://cookieandkate.com/images/2015/04/mashed...</td>\n",
       "      <td>cookieandkate</td>\n",
       "      <td>2015-04-04</td>\n",
       "      <td>10.0</td>\n",
       "      <td>25.0</td>\n",
       "      <td>35.0</td>\n",
       "      <td>0</td>\n",
       "      <td>0</td>\n",
       "      <td>0</td>\n",
       "    </tr>\n",
       "  </tbody>\n",
       "</table>\n",
       "</div>"
      ],
      "text/plain": [
       "                             _id                              name  \\\n",
       "173274  551c86b796cc626b1ab4d901  the best homemade taco seasoning   \n",
       "173275  551f29b696cc62227991d465       the ultimate queso bean dip   \n",
       "173276  551f29c696cc6222a4e0c0e4    maple-sweetened banana muffins   \n",
       "\n",
       "                                              ingredients  \\\n",
       "173274  1/4 cup ground cumin 1/4 cup kosher salt 2 tab...   \n",
       "173275  two 16 ounce cans old el paso refried beans 4 ...   \n",
       "173276  ⅓ cup melted coconut oil or extra-virgin olive...   \n",
       "\n",
       "                                                      url  \\\n",
       "173274  http://picky-palate.com/2015/04/01/the-best-ho...   \n",
       "173275  http://picky-palate.com/2015/04/03/the-ultimat...   \n",
       "173276  http://cookieandkate.com/2015/healthy-banana-m...   \n",
       "\n",
       "                                                    image         source  \\\n",
       "173274  http://picky-palate.com/wp-content/uploads/201...    pickypalate   \n",
       "173275  http://picky-palate.com/wp-content/uploads/201...    pickypalate   \n",
       "173276  http://cookieandkate.com/images/2015/04/mashed...  cookieandkate   \n",
       "\n",
       "        time_stamp  prep_t_min  cook_t_min  time_tot_min  breakfast  dinner  \\\n",
       "173274  2015-04-02         NaN         NaN           NaN          0       0   \n",
       "173275  2015-04-04         NaN         NaN           NaN          0       0   \n",
       "173276  2015-04-04        10.0        25.0          35.0          0       0   \n",
       "\n",
       "        lunch  \n",
       "173274      0  \n",
       "173275      0  \n",
       "173276      0  "
      ]
     },
     "execution_count": 120,
     "metadata": {},
     "output_type": "execute_result"
    }
   ],
   "source": [
    "recipes4['breakfast'] = breakfast_in\n",
    "recipes4['dinner'] = dinner_in\n",
    "recipes4['lunch'] = lunch_in\n",
    "recipes4.drop('description', axis=1, inplace=True)\n",
    "recipes4.tail(3)"
   ]
  },
  {
   "cell_type": "code",
   "execution_count": 121,
   "metadata": {},
   "outputs": [
    {
     "name": "stdout",
     "output_type": "stream",
     "text": [
      "<class 'pandas.core.frame.DataFrame'>\n",
      "Index: 173277 entries, 0 to 173276\n",
      "Data columns (total 13 columns):\n",
      " #   Column        Non-Null Count   Dtype  \n",
      "---  ------        --------------   -----  \n",
      " 0   _id           173277 non-null  object \n",
      " 1   name          173277 non-null  object \n",
      " 2   ingredients   173276 non-null  object \n",
      " 3   url           173276 non-null  object \n",
      " 4   image         158277 non-null  object \n",
      " 5   source        173277 non-null  object \n",
      " 6   time_stamp    173277 non-null  object \n",
      " 7   prep_t_min    123736 non-null  float64\n",
      " 8   cook_t_min    106918 non-null  float64\n",
      " 9   time_tot_min  127413 non-null  float64\n",
      " 10  breakfast     173277 non-null  int32  \n",
      " 11  dinner        173277 non-null  int32  \n",
      " 12  lunch         173277 non-null  int32  \n",
      "dtypes: float64(3), int32(3), object(7)\n",
      "memory usage: 16.5+ MB\n"
     ]
    }
   ],
   "source": [
    "recipes4.info()"
   ]
  },
  {
   "cell_type": "code",
   "execution_count": null,
   "metadata": {},
   "outputs": [],
   "source": []
  }
 ],
 "metadata": {
  "kernelspec": {
   "display_name": "base",
   "language": "python",
   "name": "python3"
  },
  "language_info": {
   "codemirror_mode": {
    "name": "ipython",
    "version": 3
   },
   "file_extension": ".py",
   "mimetype": "text/x-python",
   "name": "python",
   "nbconvert_exporter": "python",
   "pygments_lexer": "ipython3",
   "version": "3.11.5"
  }
 },
 "nbformat": 4,
 "nbformat_minor": 2
}
