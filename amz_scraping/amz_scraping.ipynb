{
 "cells": [
  {
   "cell_type": "markdown",
   "metadata": {},
   "source": [
    "# Imagine...\n",
    "You're now the owner of QuantumByte — a company that makes laptops for personal use.\n",
    "\n",
    "You're eyeing the Italian market, and you've decided to kick things off on Amazon.\n",
    "\n",
    "Now, the big question: where should you invest your marketing budget?\n",
    "\n",
    "Should you push the high-end €2,999 powerhouse... the sleek minimal notebook... or the budget-friendly version?\n",
    "\n",
    "To figure this out, let's check the current laptop scene on Amazon.it. **We'll see if there's a link between a laptop's price and how well it sells.** Maybe there's a sweet spot in the price range that... who knows.\n",
    "\n",
    "So, let's dive in..."
   ]
  },
  {
   "cell_type": "markdown",
   "metadata": {},
   "source": [
    "![Lp Image](https://images.pexels.com/photos/205421/pexels-photo-205421.jpeg?auto=compress&cs=tinysrgb&w=1260&h=750&dpr=1)"
   ]
  },
  {
   "cell_type": "markdown",
   "metadata": {},
   "source": [
    "### Importing the libraries"
   ]
  },
  {
   "cell_type": "markdown",
   "metadata": {},
   "source": [
    "Below there are all the libraries we'll use in this notebook."
   ]
  },
  {
   "cell_type": "code",
   "execution_count": null,
   "metadata": {},
   "outputs": [],
   "source": [
    "from bs4 import BeautifulSoup\n",
    "import requests\n",
    "import datetime\n",
    "import csv\n",
    "import pandas as pd\n",
    "import matplotlib.pyplot as plt\n",
    "import seaborn\n",
    "import os\n",
    "import numpy as np"
   ]
  },
  {
   "cell_type": "markdown",
   "metadata": {},
   "source": [
    "### Creating the functions"
   ]
  },
  {
   "cell_type": "markdown",
   "metadata": {},
   "source": [
    "This function creates a new CSV file, where we'll store all the values we scrape."
   ]
  },
  {
   "cell_type": "code",
   "execution_count": null,
   "metadata": {},
   "outputs": [],
   "source": [
    "#Create new csv file\n",
    "\n",
    "def create_new_csv(df_header, csv_name):\n",
    "\n",
    "      if os.path.isfile(csv_name):\n",
    "            print('File already exists!')\n",
    "      else:\n",
    "            with open (csv_name, 'w',\n",
    "                        newline='', encoding='UTF8') as f:\n",
    "                  writer = csv.writer(f)\n",
    "                  writer.writerow(df_header)"
   ]
  },
  {
   "cell_type": "markdown",
   "metadata": {},
   "source": [
    "This function scrapes all the products in the previously created list, automatically providing us with the title (or product name), price, reviews, and ratings."
   ]
  },
  {
   "cell_type": "code",
   "execution_count": null,
   "metadata": {},
   "outputs": [],
   "source": [
    "def scrape_page(elements_list, csv_file):\n",
    "\n",
    "    # Loop through the list\n",
    "    for num, i in enumerate(elements_list):\n",
    "        title2 = elements_list[num].find(\"h2\").get_text(strip=True)\n",
    "\n",
    "        # Scrape the product only if the title matches the brand/s\n",
    "        if ' ' in title2:\n",
    "\n",
    "            # Scrape the product's title\n",
    "            title = elements_list[num].find(\"h2\").get_text(strip=True)\n",
    "            \n",
    "            # Scrape the price\n",
    "            try:\n",
    "                price = float(elements_list[num].find(class_=\"a-offscreen\").get_text(strip=True).replace('\\xa0€','').replace(',','.'))\n",
    "            except:\n",
    "                price = np.nan\n",
    "            \n",
    "            # Scrape the reviews\n",
    "            try:\n",
    "                reviews_num = int(elements_list[num].find(class_=\"a-size-base s-underline-text\").get_text(strip=True).replace('.',''))\n",
    "            except:\n",
    "                reviews_num = np.nan\n",
    "                \n",
    "            str_indx = str(elements_list[num].find(class_=\"a-icon-alt\"))\n",
    "            indx=str_indx.find('su')\n",
    "            \n",
    "            # Scrape the rating\n",
    "            try:\n",
    "                rating = float(str_indx[indx-4:indx-1].replace(',','.'))\n",
    "            except:\n",
    "                rating = np.nan\n",
    "            today = datetime.date.today()\n",
    "\n",
    "            data = [title, price, rating, reviews_num, today]\n",
    "\n",
    "            # Append the data to the csv file\n",
    "            with open (csv_file, 'a+', newline='', encoding='UTF8') as f:\n",
    "                writer2 = csv.writer(f)\n",
    "                writer2.writerow(data)\n",
    "            \n",
    "        print(\"Everything looks good... until now.\")"
   ]
  },
  {
   "cell_type": "markdown",
   "metadata": {},
   "source": [
    "The function below converts all the products on the Amazon.it page into a list. This way, it'll be easier to work with them."
   ]
  },
  {
   "cell_type": "code",
   "execution_count": null,
   "metadata": {},
   "outputs": [],
   "source": [
    "def get_elts(url, headerss):\n",
    "\n",
    "    # Start the GET request\n",
    "    page = requests.get(url, headers=headerss)\n",
    "    soup1 = BeautifulSoup(page.content, 'html.parser')\n",
    "    soup2 = BeautifulSoup(soup1.prettify(), 'html.parser')\n",
    "\n",
    "    # Find all the search results (products)\n",
    "    everything_raw = soup2.find_all(attrs={\"data-component-type\": \"s-search-result\"})\n",
    "\n",
    "    elements_list = []\n",
    "\n",
    "    # Create a list with all the search results (products)\n",
    "    for element in everything_raw:\n",
    "        elements_list.append(element)\n",
    "    return elements_list, soup2"
   ]
  },
  {
   "cell_type": "markdown",
   "metadata": {},
   "source": [
    "This is the function that allows us to go from page 1 to page 2, from page 2 to page 3... and so on."
   ]
  },
  {
   "cell_type": "code",
   "execution_count": null,
   "metadata": {},
   "outputs": [],
   "source": [
    "def get_next_link(soup):\n",
    "\n",
    "    footer_page = soup.find(attrs={'class':\"s-pagination-strip\"}).find_all('a', href=True)\n",
    "    next_link = 'https://www.amazon.it/' + footer_page[-1].get('href')\n",
    "    \n",
    "    return next_link"
   ]
  },
  {
   "cell_type": "markdown",
   "metadata": {},
   "source": [
    "### The actual code"
   ]
  },
  {
   "cell_type": "code",
   "execution_count": null,
   "metadata": {},
   "outputs": [],
   "source": [
    "# Use your own User-Agent header\n",
    "headerss = {\"User-Agent\": \"Mozilla/5.0 (Windows NT 10.0; Win64; x64) AppleWebKit/537.36 (KHTML, like Gecko) Chrome/119.0.0.0 Safari/537.36\"}\n",
    "\n",
    "df_headers = ['title', 'price', 'rating', 'reviews_num', 'date']\n",
    "\n",
    "# URL of the Amazon.it page with the search results\n",
    "url = 'https://www.amazon.it/s?k=Monitor&__mk_it_IT=%C3%85M%C3%85%C5%BD%C3%95%C3%91&ref=nb_sb_noss_1'\n",
    "\n",
    "# How do you wanna call your file?\n",
    "csv_name = 'monitors_amz_it.csv'\n",
    "\n",
    "# How many pages do you want to scrape?\n",
    "pages_to_scrape = 7\n",
    "\n",
    "\n",
    "\n",
    "create_new_csv(df_headers, csv_name)\n",
    "\n",
    "\n",
    "# This will print \"Everything looks good... until now.\" for evet loop\n",
    "# so... well, you can see if everything is going as planned.\n",
    "\n",
    "for i in range(pages_to_scrape):\n",
    "    elm_list2, soup = get_elts(url, headerss)\n",
    "\n",
    "    scrape_page(elm_list2, csv_name)\n",
    "\n",
    "    url = get_next_link(soup)\n"
   ]
  },
  {
   "cell_type": "code",
   "execution_count": null,
   "metadata": {},
   "outputs": [],
   "source": [
    "# Turn the csv file into a dataframe and check\n",
    "# if there's a correlation between price, reviews, and rating\n",
    "\n",
    "df = pd.read_csv(csv_name)\n",
    "\n",
    "seaborn.pairplot(df)"
   ]
  },
  {
   "cell_type": "markdown",
   "metadata": {},
   "source": [
    "# What we found"
   ]
  },
  {
   "cell_type": "markdown",
   "metadata": {},
   "source": [
    "Looking at the scatterplot in the top-right, we can see that there's no clear link between price and sales (in this case, assuming that more reviews equal more sales)...\n",
    "\n",
    "However, we see that laptops in the €450-€700 range tend to garner more sales on Amazon.it.\n",
    "\n",
    "Does this mean you should promote your budget-friendly laptop?\n",
    "\n",
    "Well, it's hard to say... and usually, I don't think it's a decision that should come from just one mind.\n",
    "\n",
    "Anyway, **it would be a good idea to start testing your budget-friendly version...**\n",
    "\n",
    "**Or perhaps you high-end version if your brand truly aims to be unique. (Indeed, there are very few lapotps above €1,000.)**"
   ]
  }
 ],
 "metadata": {
  "kernelspec": {
   "display_name": "py_env",
   "language": "python",
   "name": "python3"
  },
  "language_info": {
   "codemirror_mode": {
    "name": "ipython",
    "version": 3
   },
   "file_extension": ".py",
   "mimetype": "text/x-python",
   "name": "python",
   "nbconvert_exporter": "python",
   "pygments_lexer": "ipython3",
   "version": "3.11.5"
  }
 },
 "nbformat": 4,
 "nbformat_minor": 2
}
