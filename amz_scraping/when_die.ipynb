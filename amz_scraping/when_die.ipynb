{
 "cells": [
  {
   "cell_type": "code",
   "execution_count": 57,
   "metadata": {},
   "outputs": [],
   "source": [
    "import numpy as np\n",
    "%matplotlib inline\n",
    "import matplotlib.pyplot as plt\n",
    "import seaborn as sns\n",
    "import pandas as pd"
   ]
  },
  {
   "cell_type": "code",
   "execution_count": 58,
   "metadata": {},
   "outputs": [],
   "source": [
    "df = pd.read_csv(r'C:\\Users\\matte\\OneDrive\\Desktop\\GitHub\\AgeDataset-V1.csv')"
   ]
  },
  {
   "cell_type": "code",
   "execution_count": 59,
   "metadata": {},
   "outputs": [
    {
     "data": {
      "text/html": [
       "<div>\n",
       "<style scoped>\n",
       "    .dataframe tbody tr th:only-of-type {\n",
       "        vertical-align: middle;\n",
       "    }\n",
       "\n",
       "    .dataframe tbody tr th {\n",
       "        vertical-align: top;\n",
       "    }\n",
       "\n",
       "    .dataframe thead th {\n",
       "        text-align: right;\n",
       "    }\n",
       "</style>\n",
       "<table border=\"1\" class=\"dataframe\">\n",
       "  <thead>\n",
       "    <tr style=\"text-align: right;\">\n",
       "      <th></th>\n",
       "      <th>Id</th>\n",
       "      <th>Name</th>\n",
       "      <th>Short description</th>\n",
       "      <th>Gender</th>\n",
       "      <th>Country</th>\n",
       "      <th>Occupation</th>\n",
       "      <th>Birth year</th>\n",
       "      <th>Death year</th>\n",
       "      <th>Manner of death</th>\n",
       "      <th>Age of death</th>\n",
       "    </tr>\n",
       "  </thead>\n",
       "  <tbody>\n",
       "    <tr>\n",
       "      <th>0</th>\n",
       "      <td>Q23</td>\n",
       "      <td>George Washington</td>\n",
       "      <td>1st president of the United States (1732–1799)</td>\n",
       "      <td>Male</td>\n",
       "      <td>United States of America; Kingdom of Great Bri...</td>\n",
       "      <td>Politician</td>\n",
       "      <td>1732</td>\n",
       "      <td>1799.0</td>\n",
       "      <td>natural causes</td>\n",
       "      <td>67.0</td>\n",
       "    </tr>\n",
       "    <tr>\n",
       "      <th>1</th>\n",
       "      <td>Q42</td>\n",
       "      <td>Douglas Adams</td>\n",
       "      <td>English writer and humorist</td>\n",
       "      <td>Male</td>\n",
       "      <td>United Kingdom</td>\n",
       "      <td>Artist</td>\n",
       "      <td>1952</td>\n",
       "      <td>2001.0</td>\n",
       "      <td>natural causes</td>\n",
       "      <td>49.0</td>\n",
       "    </tr>\n",
       "  </tbody>\n",
       "</table>\n",
       "</div>"
      ],
      "text/plain": [
       "    Id               Name                               Short description  \\\n",
       "0  Q23  George Washington  1st president of the United States (1732–1799)   \n",
       "1  Q42      Douglas Adams                     English writer and humorist   \n",
       "\n",
       "  Gender                                            Country  Occupation  \\\n",
       "0   Male  United States of America; Kingdom of Great Bri...  Politician   \n",
       "1   Male                                     United Kingdom      Artist   \n",
       "\n",
       "   Birth year  Death year Manner of death  Age of death  \n",
       "0        1732      1799.0  natural causes          67.0  \n",
       "1        1952      2001.0  natural causes          49.0  "
      ]
     },
     "execution_count": 59,
     "metadata": {},
     "output_type": "execute_result"
    }
   ],
   "source": [
    "df.head(2)"
   ]
  },
  {
   "cell_type": "code",
   "execution_count": 60,
   "metadata": {},
   "outputs": [],
   "source": [
    "df.drop(['Id', 'Name','Short description', 'Manner of death'], axis=1, inplace=True)"
   ]
  },
  {
   "cell_type": "code",
   "execution_count": 61,
   "metadata": {},
   "outputs": [
    {
     "data": {
      "text/html": [
       "<div>\n",
       "<style scoped>\n",
       "    .dataframe tbody tr th:only-of-type {\n",
       "        vertical-align: middle;\n",
       "    }\n",
       "\n",
       "    .dataframe tbody tr th {\n",
       "        vertical-align: top;\n",
       "    }\n",
       "\n",
       "    .dataframe thead th {\n",
       "        text-align: right;\n",
       "    }\n",
       "</style>\n",
       "<table border=\"1\" class=\"dataframe\">\n",
       "  <thead>\n",
       "    <tr style=\"text-align: right;\">\n",
       "      <th></th>\n",
       "      <th>Gender</th>\n",
       "      <th>Country</th>\n",
       "      <th>Occupation</th>\n",
       "      <th>Birth year</th>\n",
       "      <th>Death year</th>\n",
       "      <th>Age of death</th>\n",
       "    </tr>\n",
       "  </thead>\n",
       "  <tbody>\n",
       "    <tr>\n",
       "      <th>0</th>\n",
       "      <td>Male</td>\n",
       "      <td>United States of America; Kingdom of Great Bri...</td>\n",
       "      <td>Politician</td>\n",
       "      <td>1732</td>\n",
       "      <td>1799.0</td>\n",
       "      <td>67.0</td>\n",
       "    </tr>\n",
       "    <tr>\n",
       "      <th>1</th>\n",
       "      <td>Male</td>\n",
       "      <td>United Kingdom</td>\n",
       "      <td>Artist</td>\n",
       "      <td>1952</td>\n",
       "      <td>2001.0</td>\n",
       "      <td>49.0</td>\n",
       "    </tr>\n",
       "  </tbody>\n",
       "</table>\n",
       "</div>"
      ],
      "text/plain": [
       "  Gender                                            Country  Occupation  \\\n",
       "0   Male  United States of America; Kingdom of Great Bri...  Politician   \n",
       "1   Male                                     United Kingdom      Artist   \n",
       "\n",
       "   Birth year  Death year  Age of death  \n",
       "0        1732      1799.0          67.0  \n",
       "1        1952      2001.0          49.0  "
      ]
     },
     "execution_count": 61,
     "metadata": {},
     "output_type": "execute_result"
    }
   ],
   "source": [
    "df.head(2)"
   ]
  },
  {
   "cell_type": "code",
   "execution_count": 62,
   "metadata": {},
   "outputs": [
    {
     "data": {
      "text/plain": [
       "Gender          133646\n",
       "Country         335509\n",
       "Occupation      206914\n",
       "Birth year           0\n",
       "Death year           1\n",
       "Age of death         1\n",
       "dtype: int64"
      ]
     },
     "execution_count": 62,
     "metadata": {},
     "output_type": "execute_result"
    }
   ],
   "source": [
    "df.isnull().sum()"
   ]
  },
  {
   "cell_type": "code",
   "execution_count": 63,
   "metadata": {},
   "outputs": [],
   "source": [
    "df2 = df.dropna()"
   ]
  },
  {
   "cell_type": "code",
   "execution_count": 64,
   "metadata": {},
   "outputs": [
    {
     "name": "stdout",
     "output_type": "stream",
     "text": [
      "<class 'pandas.core.frame.DataFrame'>\n",
      "RangeIndex: 1223009 entries, 0 to 1223008\n",
      "Data columns (total 6 columns):\n",
      " #   Column        Non-Null Count    Dtype  \n",
      "---  ------        --------------    -----  \n",
      " 0   Gender        1089363 non-null  object \n",
      " 1   Country       887500 non-null   object \n",
      " 2   Occupation    1016095 non-null  object \n",
      " 3   Birth year    1223009 non-null  int64  \n",
      " 4   Death year    1223008 non-null  float64\n",
      " 5   Age of death  1223008 non-null  float64\n",
      "dtypes: float64(2), int64(1), object(3)\n",
      "memory usage: 56.0+ MB\n"
     ]
    }
   ],
   "source": [
    "df.info()"
   ]
  },
  {
   "cell_type": "code",
   "execution_count": 65,
   "metadata": {},
   "outputs": [
    {
     "name": "stdout",
     "output_type": "stream",
     "text": [
      "<class 'pandas.core.frame.DataFrame'>\n",
      "Index: 735785 entries, 0 to 1223008\n",
      "Data columns (total 6 columns):\n",
      " #   Column        Non-Null Count   Dtype  \n",
      "---  ------        --------------   -----  \n",
      " 0   Gender        735785 non-null  object \n",
      " 1   Country       735785 non-null  object \n",
      " 2   Occupation    735785 non-null  object \n",
      " 3   Birth year    735785 non-null  int64  \n",
      " 4   Death year    735785 non-null  float64\n",
      " 5   Age of death  735785 non-null  float64\n",
      "dtypes: float64(2), int64(1), object(3)\n",
      "memory usage: 39.3+ MB\n"
     ]
    }
   ],
   "source": [
    "df2.info()"
   ]
  },
  {
   "cell_type": "code",
   "execution_count": 66,
   "metadata": {},
   "outputs": [],
   "source": [
    "df = df2\n",
    "del df2"
   ]
  },
  {
   "cell_type": "code",
   "execution_count": 67,
   "metadata": {},
   "outputs": [
    {
     "data": {
      "text/html": [
       "<div>\n",
       "<style scoped>\n",
       "    .dataframe tbody tr th:only-of-type {\n",
       "        vertical-align: middle;\n",
       "    }\n",
       "\n",
       "    .dataframe tbody tr th {\n",
       "        vertical-align: top;\n",
       "    }\n",
       "\n",
       "    .dataframe thead th {\n",
       "        text-align: right;\n",
       "    }\n",
       "</style>\n",
       "<table border=\"1\" class=\"dataframe\">\n",
       "  <thead>\n",
       "    <tr style=\"text-align: right;\">\n",
       "      <th></th>\n",
       "      <th>Gender</th>\n",
       "      <th>Country</th>\n",
       "      <th>Occupation</th>\n",
       "      <th>Birth year</th>\n",
       "      <th>Death year</th>\n",
       "      <th>Age of death</th>\n",
       "    </tr>\n",
       "  </thead>\n",
       "  <tbody>\n",
       "    <tr>\n",
       "      <th>0</th>\n",
       "      <td>Male</td>\n",
       "      <td>United States of America; Kingdom of Great Bri...</td>\n",
       "      <td>Politician</td>\n",
       "      <td>1732</td>\n",
       "      <td>1799.0</td>\n",
       "      <td>67.0</td>\n",
       "    </tr>\n",
       "    <tr>\n",
       "      <th>1</th>\n",
       "      <td>Male</td>\n",
       "      <td>United Kingdom</td>\n",
       "      <td>Artist</td>\n",
       "      <td>1952</td>\n",
       "      <td>2001.0</td>\n",
       "      <td>49.0</td>\n",
       "    </tr>\n",
       "  </tbody>\n",
       "</table>\n",
       "</div>"
      ],
      "text/plain": [
       "  Gender                                            Country  Occupation  \\\n",
       "0   Male  United States of America; Kingdom of Great Bri...  Politician   \n",
       "1   Male                                     United Kingdom      Artist   \n",
       "\n",
       "   Birth year  Death year  Age of death  \n",
       "0        1732      1799.0          67.0  \n",
       "1        1952      2001.0          49.0  "
      ]
     },
     "execution_count": 67,
     "metadata": {},
     "output_type": "execute_result"
    }
   ],
   "source": [
    "df.head(2)"
   ]
  },
  {
   "cell_type": "markdown",
   "metadata": {},
   "source": [
    "## Dummies Occupation"
   ]
  },
  {
   "cell_type": "code",
   "execution_count": 68,
   "metadata": {},
   "outputs": [
    {
     "data": {
      "text/html": [
       "<div>\n",
       "<style scoped>\n",
       "    .dataframe tbody tr th:only-of-type {\n",
       "        vertical-align: middle;\n",
       "    }\n",
       "\n",
       "    .dataframe tbody tr th {\n",
       "        vertical-align: top;\n",
       "    }\n",
       "\n",
       "    .dataframe thead th {\n",
       "        text-align: right;\n",
       "    }\n",
       "</style>\n",
       "<table border=\"1\" class=\"dataframe\">\n",
       "  <thead>\n",
       "    <tr style=\"text-align: right;\">\n",
       "      <th></th>\n",
       "      <th>Occupation</th>\n",
       "      <th>count</th>\n",
       "    </tr>\n",
       "  </thead>\n",
       "  <tbody>\n",
       "    <tr>\n",
       "      <th>0</th>\n",
       "      <td>Artist</td>\n",
       "      <td>207657</td>\n",
       "    </tr>\n",
       "    <tr>\n",
       "      <th>1</th>\n",
       "      <td>Politician</td>\n",
       "      <td>153144</td>\n",
       "    </tr>\n",
       "    <tr>\n",
       "      <th>2</th>\n",
       "      <td>Athlete</td>\n",
       "      <td>92807</td>\n",
       "    </tr>\n",
       "    <tr>\n",
       "      <th>3</th>\n",
       "      <td>Researcher</td>\n",
       "      <td>64202</td>\n",
       "    </tr>\n",
       "    <tr>\n",
       "      <th>4</th>\n",
       "      <td>Military personnel</td>\n",
       "      <td>36313</td>\n",
       "    </tr>\n",
       "    <tr>\n",
       "      <th>...</th>\n",
       "      <td>...</td>\n",
       "      <td>...</td>\n",
       "    </tr>\n",
       "    <tr>\n",
       "      <th>7815</th>\n",
       "      <td>Designer; video game developer</td>\n",
       "      <td>1</td>\n",
       "    </tr>\n",
       "    <tr>\n",
       "      <th>7816</th>\n",
       "      <td>Daimyo; coin collecting; numismatist</td>\n",
       "      <td>1</td>\n",
       "    </tr>\n",
       "    <tr>\n",
       "      <th>7817</th>\n",
       "      <td>Animator; drawer</td>\n",
       "      <td>1</td>\n",
       "    </tr>\n",
       "    <tr>\n",
       "      <th>7818</th>\n",
       "      <td>Solicitor; philatelist; postage stamp designer</td>\n",
       "      <td>1</td>\n",
       "    </tr>\n",
       "    <tr>\n",
       "      <th>7819</th>\n",
       "      <td>Director; scout leader</td>\n",
       "      <td>1</td>\n",
       "    </tr>\n",
       "  </tbody>\n",
       "</table>\n",
       "<p>7820 rows × 2 columns</p>\n",
       "</div>"
      ],
      "text/plain": [
       "                                          Occupation   count\n",
       "0                                             Artist  207657\n",
       "1                                         Politician  153144\n",
       "2                                            Athlete   92807\n",
       "3                                         Researcher   64202\n",
       "4                                 Military personnel   36313\n",
       "...                                              ...     ...\n",
       "7815                  Designer; video game developer       1\n",
       "7816            Daimyo; coin collecting; numismatist       1\n",
       "7817                                Animator; drawer       1\n",
       "7818  Solicitor; philatelist; postage stamp designer       1\n",
       "7819                          Director; scout leader       1\n",
       "\n",
       "[7820 rows x 2 columns]"
      ]
     },
     "execution_count": 68,
     "metadata": {},
     "output_type": "execute_result"
    }
   ],
   "source": [
    "occ_count = df['Occupation'].value_counts().reset_index()\n",
    "occ_count"
   ]
  },
  {
   "cell_type": "code",
   "execution_count": 69,
   "metadata": {},
   "outputs": [
    {
     "data": {
      "text/plain": [
       "735785"
      ]
     },
     "execution_count": 69,
     "metadata": {},
     "output_type": "execute_result"
    }
   ],
   "source": [
    "occ_count['count'].sum()"
   ]
  },
  {
   "cell_type": "code",
   "execution_count": 70,
   "metadata": {},
   "outputs": [
    {
     "data": {
      "text/plain": [
       "82785"
      ]
     },
     "execution_count": 70,
     "metadata": {},
     "output_type": "execute_result"
    }
   ],
   "source": [
    "low_occ_count = occ_count.loc[occ_count['count'] < 2000, 'count']\n",
    "low_occ_count.sum()"
   ]
  },
  {
   "cell_type": "code",
   "execution_count": 71,
   "metadata": {},
   "outputs": [
    {
     "data": {
      "text/plain": [
       "(7803,)"
      ]
     },
     "execution_count": 71,
     "metadata": {},
     "output_type": "execute_result"
    }
   ],
   "source": [
    "low_occ_count.shape"
   ]
  },
  {
   "cell_type": "code",
   "execution_count": 72,
   "metadata": {},
   "outputs": [
    {
     "data": {
      "text/plain": [
       "array(['Artist', 'Politician', 'Athlete', 'Researcher',\n",
       "       'Military personnel', 'Religious figure', 'Architect',\n",
       "       'Businessperson', 'Journalist', 'Teacher', 'Engineer', 'Physician',\n",
       "       'Judge', 'Lawyer', 'Jurist', 'Entrepreneur', 'Aristocrat'],\n",
       "      dtype=object)"
      ]
     },
     "execution_count": 72,
     "metadata": {},
     "output_type": "execute_result"
    }
   ],
   "source": [
    "high_occ = occ_count.loc[occ_count['count'] > 2000, 'Occupation']\n",
    "high_occ.values"
   ]
  },
  {
   "cell_type": "code",
   "execution_count": 73,
   "metadata": {},
   "outputs": [
    {
     "data": {
      "text/plain": [
       "(653000, 6)"
      ]
     },
     "execution_count": 73,
     "metadata": {},
     "output_type": "execute_result"
    }
   ],
   "source": [
    "df = df.loc[df['Occupation'].isin(high_occ.values), :]\n",
    "df.shape"
   ]
  },
  {
   "cell_type": "code",
   "execution_count": 74,
   "metadata": {},
   "outputs": [
    {
     "data": {
      "text/html": [
       "<div>\n",
       "<style scoped>\n",
       "    .dataframe tbody tr th:only-of-type {\n",
       "        vertical-align: middle;\n",
       "    }\n",
       "\n",
       "    .dataframe tbody tr th {\n",
       "        vertical-align: top;\n",
       "    }\n",
       "\n",
       "    .dataframe thead th {\n",
       "        text-align: right;\n",
       "    }\n",
       "</style>\n",
       "<table border=\"1\" class=\"dataframe\">\n",
       "  <thead>\n",
       "    <tr style=\"text-align: right;\">\n",
       "      <th></th>\n",
       "      <th>Gender</th>\n",
       "      <th>Country</th>\n",
       "      <th>Birth year</th>\n",
       "      <th>Death year</th>\n",
       "      <th>Age of death</th>\n",
       "      <th>Occupation_Aristocrat</th>\n",
       "      <th>Occupation_Artist</th>\n",
       "      <th>Occupation_Athlete</th>\n",
       "      <th>Occupation_Businessperson</th>\n",
       "      <th>Occupation_Engineer</th>\n",
       "      <th>Occupation_Entrepreneur</th>\n",
       "      <th>Occupation_Journalist</th>\n",
       "      <th>Occupation_Judge</th>\n",
       "      <th>Occupation_Jurist</th>\n",
       "      <th>Occupation_Lawyer</th>\n",
       "      <th>Occupation_Military personnel</th>\n",
       "      <th>Occupation_Physician</th>\n",
       "      <th>Occupation_Politician</th>\n",
       "      <th>Occupation_Religious figure</th>\n",
       "      <th>Occupation_Researcher</th>\n",
       "      <th>Occupation_Teacher</th>\n",
       "    </tr>\n",
       "  </thead>\n",
       "  <tbody>\n",
       "    <tr>\n",
       "      <th>0</th>\n",
       "      <td>Male</td>\n",
       "      <td>United States of America; Kingdom of Great Bri...</td>\n",
       "      <td>1732</td>\n",
       "      <td>1799.0</td>\n",
       "      <td>67.0</td>\n",
       "      <td>False</td>\n",
       "      <td>False</td>\n",
       "      <td>False</td>\n",
       "      <td>False</td>\n",
       "      <td>False</td>\n",
       "      <td>False</td>\n",
       "      <td>False</td>\n",
       "      <td>False</td>\n",
       "      <td>False</td>\n",
       "      <td>False</td>\n",
       "      <td>False</td>\n",
       "      <td>False</td>\n",
       "      <td>True</td>\n",
       "      <td>False</td>\n",
       "      <td>False</td>\n",
       "      <td>False</td>\n",
       "    </tr>\n",
       "    <tr>\n",
       "      <th>1</th>\n",
       "      <td>Male</td>\n",
       "      <td>United Kingdom</td>\n",
       "      <td>1952</td>\n",
       "      <td>2001.0</td>\n",
       "      <td>49.0</td>\n",
       "      <td>False</td>\n",
       "      <td>True</td>\n",
       "      <td>False</td>\n",
       "      <td>False</td>\n",
       "      <td>False</td>\n",
       "      <td>False</td>\n",
       "      <td>False</td>\n",
       "      <td>False</td>\n",
       "      <td>False</td>\n",
       "      <td>False</td>\n",
       "      <td>False</td>\n",
       "      <td>False</td>\n",
       "      <td>False</td>\n",
       "      <td>False</td>\n",
       "      <td>False</td>\n",
       "      <td>False</td>\n",
       "    </tr>\n",
       "  </tbody>\n",
       "</table>\n",
       "</div>"
      ],
      "text/plain": [
       "  Gender                                            Country  Birth year  \\\n",
       "0   Male  United States of America; Kingdom of Great Bri...        1732   \n",
       "1   Male                                     United Kingdom        1952   \n",
       "\n",
       "   Death year  Age of death  Occupation_Aristocrat  Occupation_Artist  \\\n",
       "0      1799.0          67.0                  False              False   \n",
       "1      2001.0          49.0                  False               True   \n",
       "\n",
       "   Occupation_Athlete  Occupation_Businessperson  Occupation_Engineer  \\\n",
       "0               False                      False                False   \n",
       "1               False                      False                False   \n",
       "\n",
       "   Occupation_Entrepreneur  Occupation_Journalist  Occupation_Judge  \\\n",
       "0                    False                  False             False   \n",
       "1                    False                  False             False   \n",
       "\n",
       "   Occupation_Jurist  Occupation_Lawyer  Occupation_Military personnel  \\\n",
       "0              False              False                          False   \n",
       "1              False              False                          False   \n",
       "\n",
       "   Occupation_Physician  Occupation_Politician  Occupation_Religious figure  \\\n",
       "0                 False                   True                        False   \n",
       "1                 False                  False                        False   \n",
       "\n",
       "   Occupation_Researcher  Occupation_Teacher  \n",
       "0                  False               False  \n",
       "1                  False               False  "
      ]
     },
     "execution_count": 74,
     "metadata": {},
     "output_type": "execute_result"
    }
   ],
   "source": [
    "df2 = pd.get_dummies(df, columns=['Occupation'],\n",
    "                     drop_first=True)\n",
    "df2.head(2)"
   ]
  },
  {
   "cell_type": "code",
   "execution_count": 75,
   "metadata": {},
   "outputs": [
    {
     "data": {
      "text/html": [
       "<div>\n",
       "<style scoped>\n",
       "    .dataframe tbody tr th:only-of-type {\n",
       "        vertical-align: middle;\n",
       "    }\n",
       "\n",
       "    .dataframe tbody tr th {\n",
       "        vertical-align: top;\n",
       "    }\n",
       "\n",
       "    .dataframe thead th {\n",
       "        text-align: right;\n",
       "    }\n",
       "</style>\n",
       "<table border=\"1\" class=\"dataframe\">\n",
       "  <thead>\n",
       "    <tr style=\"text-align: right;\">\n",
       "      <th></th>\n",
       "      <th>Gender</th>\n",
       "      <th>Country</th>\n",
       "      <th>Birth year</th>\n",
       "      <th>Death year</th>\n",
       "      <th>Age of death</th>\n",
       "      <th>aristocrat</th>\n",
       "      <th>artist</th>\n",
       "      <th>athlete</th>\n",
       "      <th>businessperson</th>\n",
       "      <th>engineer</th>\n",
       "      <th>entrepreneur</th>\n",
       "      <th>journalist</th>\n",
       "      <th>judge</th>\n",
       "      <th>jurist</th>\n",
       "      <th>lawyer</th>\n",
       "      <th>military personnel</th>\n",
       "      <th>physician</th>\n",
       "      <th>politician</th>\n",
       "      <th>religious figure</th>\n",
       "      <th>researcher</th>\n",
       "      <th>teacher</th>\n",
       "    </tr>\n",
       "  </thead>\n",
       "  <tbody>\n",
       "    <tr>\n",
       "      <th>0</th>\n",
       "      <td>Male</td>\n",
       "      <td>United States of America; Kingdom of Great Bri...</td>\n",
       "      <td>1732</td>\n",
       "      <td>1799.0</td>\n",
       "      <td>67.0</td>\n",
       "      <td>0</td>\n",
       "      <td>0</td>\n",
       "      <td>0</td>\n",
       "      <td>0</td>\n",
       "      <td>0</td>\n",
       "      <td>0</td>\n",
       "      <td>0</td>\n",
       "      <td>0</td>\n",
       "      <td>0</td>\n",
       "      <td>0</td>\n",
       "      <td>0</td>\n",
       "      <td>0</td>\n",
       "      <td>1</td>\n",
       "      <td>0</td>\n",
       "      <td>0</td>\n",
       "      <td>0</td>\n",
       "    </tr>\n",
       "    <tr>\n",
       "      <th>1</th>\n",
       "      <td>Male</td>\n",
       "      <td>United Kingdom</td>\n",
       "      <td>1952</td>\n",
       "      <td>2001.0</td>\n",
       "      <td>49.0</td>\n",
       "      <td>0</td>\n",
       "      <td>1</td>\n",
       "      <td>0</td>\n",
       "      <td>0</td>\n",
       "      <td>0</td>\n",
       "      <td>0</td>\n",
       "      <td>0</td>\n",
       "      <td>0</td>\n",
       "      <td>0</td>\n",
       "      <td>0</td>\n",
       "      <td>0</td>\n",
       "      <td>0</td>\n",
       "      <td>0</td>\n",
       "      <td>0</td>\n",
       "      <td>0</td>\n",
       "      <td>0</td>\n",
       "    </tr>\n",
       "  </tbody>\n",
       "</table>\n",
       "</div>"
      ],
      "text/plain": [
       "  Gender                                            Country  Birth year  \\\n",
       "0   Male  United States of America; Kingdom of Great Bri...        1732   \n",
       "1   Male                                     United Kingdom        1952   \n",
       "\n",
       "   Death year  Age of death  aristocrat  artist  athlete  businessperson  \\\n",
       "0      1799.0          67.0           0       0        0               0   \n",
       "1      2001.0          49.0           0       1        0               0   \n",
       "\n",
       "   engineer  entrepreneur  journalist  judge  jurist  lawyer  \\\n",
       "0         0             0           0      0       0       0   \n",
       "1         0             0           0      0       0       0   \n",
       "\n",
       "   military personnel  physician  politician  religious figure  researcher  \\\n",
       "0                   0          0           1                 0           0   \n",
       "1                   0          0           0                 0           0   \n",
       "\n",
       "   teacher  \n",
       "0        0  \n",
       "1        0  "
      ]
     },
     "execution_count": 75,
     "metadata": {},
     "output_type": "execute_result"
    }
   ],
   "source": [
    "name_list = list(df2.loc[:,'Occupation_Aristocrat':'Occupation_Teacher'].columns.tolist())\n",
    "\n",
    "for n in name_list:\n",
    "    newn = n.replace('Occupation_', '')\n",
    "    newn = newn.lower()\n",
    "    df2[n] = df2[n].astype('int8')\n",
    "    df2.rename(columns={n:newn}, inplace=True)\n",
    "\n",
    "df2.head(2)"
   ]
  },
  {
   "cell_type": "markdown",
   "metadata": {},
   "source": [
    "## Dummy Country"
   ]
  },
  {
   "cell_type": "code",
   "execution_count": 76,
   "metadata": {},
   "outputs": [
    {
     "data": {
      "text/html": [
       "<div>\n",
       "<style scoped>\n",
       "    .dataframe tbody tr th:only-of-type {\n",
       "        vertical-align: middle;\n",
       "    }\n",
       "\n",
       "    .dataframe tbody tr th {\n",
       "        vertical-align: top;\n",
       "    }\n",
       "\n",
       "    .dataframe thead th {\n",
       "        text-align: right;\n",
       "    }\n",
       "</style>\n",
       "<table border=\"1\" class=\"dataframe\">\n",
       "  <thead>\n",
       "    <tr style=\"text-align: right;\">\n",
       "      <th></th>\n",
       "      <th>Country</th>\n",
       "      <th>count</th>\n",
       "    </tr>\n",
       "  </thead>\n",
       "  <tbody>\n",
       "    <tr>\n",
       "      <th>0</th>\n",
       "      <td>United States of America</td>\n",
       "      <td>128852</td>\n",
       "    </tr>\n",
       "    <tr>\n",
       "      <th>1</th>\n",
       "      <td>Germany</td>\n",
       "      <td>70268</td>\n",
       "    </tr>\n",
       "    <tr>\n",
       "      <th>2</th>\n",
       "      <td>France</td>\n",
       "      <td>56599</td>\n",
       "    </tr>\n",
       "    <tr>\n",
       "      <th>3</th>\n",
       "      <td>United Kingdom; United Kingdom of Great Britai...</td>\n",
       "      <td>25693</td>\n",
       "    </tr>\n",
       "    <tr>\n",
       "      <th>4</th>\n",
       "      <td>Canada</td>\n",
       "      <td>19218</td>\n",
       "    </tr>\n",
       "    <tr>\n",
       "      <th>...</th>\n",
       "      <td>...</td>\n",
       "      <td>...</td>\n",
       "    </tr>\n",
       "    <tr>\n",
       "      <th>5078</th>\n",
       "      <td>Lithuania; Estonia; Soviet Union</td>\n",
       "      <td>1</td>\n",
       "    </tr>\n",
       "    <tr>\n",
       "      <th>5079</th>\n",
       "      <td>Song dynasty; Northern Song Dynasty; Later Lia...</td>\n",
       "      <td>1</td>\n",
       "    </tr>\n",
       "    <tr>\n",
       "      <th>5080</th>\n",
       "      <td>Hungary; Uruguay</td>\n",
       "      <td>1</td>\n",
       "    </tr>\n",
       "    <tr>\n",
       "      <th>5081</th>\n",
       "      <td>Northern Qi</td>\n",
       "      <td>1</td>\n",
       "    </tr>\n",
       "    <tr>\n",
       "      <th>5082</th>\n",
       "      <td>Syria; State of Syria; Syrian Republic</td>\n",
       "      <td>1</td>\n",
       "    </tr>\n",
       "  </tbody>\n",
       "</table>\n",
       "<p>5083 rows × 2 columns</p>\n",
       "</div>"
      ],
      "text/plain": [
       "                                                Country   count\n",
       "0                              United States of America  128852\n",
       "1                                               Germany   70268\n",
       "2                                                France   56599\n",
       "3     United Kingdom; United Kingdom of Great Britai...   25693\n",
       "4                                                Canada   19218\n",
       "...                                                 ...     ...\n",
       "5078                   Lithuania; Estonia; Soviet Union       1\n",
       "5079  Song dynasty; Northern Song Dynasty; Later Lia...       1\n",
       "5080                                   Hungary; Uruguay       1\n",
       "5081                                        Northern Qi       1\n",
       "5082             Syria; State of Syria; Syrian Republic       1\n",
       "\n",
       "[5083 rows x 2 columns]"
      ]
     },
     "execution_count": 76,
     "metadata": {},
     "output_type": "execute_result"
    }
   ],
   "source": [
    "coutry_c = df2['Country'].value_counts().reset_index()\n",
    "coutry_c"
   ]
  },
  {
   "cell_type": "code",
   "execution_count": 77,
   "metadata": {},
   "outputs": [
    {
     "data": {
      "text/plain": [
       "163166"
      ]
     },
     "execution_count": 77,
     "metadata": {},
     "output_type": "execute_result"
    }
   ],
   "source": [
    "coutry_c.loc[coutry_c['count'] < 7000, 'count'].sum()"
   ]
  },
  {
   "cell_type": "code",
   "execution_count": 78,
   "metadata": {},
   "outputs": [],
   "source": [
    "high_country = coutry_c.loc[coutry_c['count'] > 7000, 'Country']"
   ]
  },
  {
   "cell_type": "code",
   "execution_count": 79,
   "metadata": {},
   "outputs": [
    {
     "data": {
      "text/plain": [
       "(21,)"
      ]
     },
     "execution_count": 79,
     "metadata": {},
     "output_type": "execute_result"
    }
   ],
   "source": [
    "high_country.shape"
   ]
  },
  {
   "cell_type": "code",
   "execution_count": 80,
   "metadata": {},
   "outputs": [
    {
     "data": {
      "text/plain": [
       "(489834, 21)"
      ]
     },
     "execution_count": 80,
     "metadata": {},
     "output_type": "execute_result"
    }
   ],
   "source": [
    "df2 = df2.loc[df2['Country'].isin(high_country), :]\n",
    "df2.shape"
   ]
  },
  {
   "cell_type": "code",
   "execution_count": 81,
   "metadata": {},
   "outputs": [],
   "source": [
    "df2.drop('Death year', axis=1, inplace=True)"
   ]
  },
  {
   "cell_type": "code",
   "execution_count": 82,
   "metadata": {},
   "outputs": [
    {
     "data": {
      "text/plain": [
       "Country\n",
       "United States of America                                       128852\n",
       "Germany                                                         70268\n",
       "France                                                          56599\n",
       "United Kingdom; United Kingdom of Great Britain and Ireland     25693\n",
       "Canada                                                          19218\n",
       "Spain                                                           19093\n",
       "United Kingdom                                                  18244\n",
       "Sweden                                                          16454\n",
       "United Kingdom of Great Britain and Ireland                     15310\n",
       "Italy; Kingdom of Italy                                         13545\n",
       "Poland                                                          12614\n",
       "Kingdom of the Netherlands                                      12115\n",
       "Norway                                                          11987\n",
       "Australia                                                       11781\n",
       "Austria                                                         11260\n",
       "Belgium                                                          9050\n",
       "Switzerland                                                      8161\n",
       "Kingdom of Italy                                                 7760\n",
       "Japan                                                            7354\n",
       "Finland                                                          7288\n",
       "Denmark                                                          7188\n",
       "Name: count, dtype: int64"
      ]
     },
     "execution_count": 82,
     "metadata": {},
     "output_type": "execute_result"
    }
   ],
   "source": [
    "df2['Country'].value_counts()"
   ]
  },
  {
   "cell_type": "code",
   "execution_count": 83,
   "metadata": {},
   "outputs": [],
   "source": [
    "df2.loc[df2['Country'].isin(['United Kingdom; United Kingdom of Great Britain and Ireland',\n",
    "                            'United Kingdom of Great Britain and Ireland',\n",
    "                            'United Kingdom ']),\n",
    "                            'Country'] = 'United Kingdom'"
   ]
  },
  {
   "cell_type": "code",
   "execution_count": 84,
   "metadata": {},
   "outputs": [],
   "source": [
    "df2.loc[df2['Country'].isin(['Italy; Kingdom of Italy']),\n",
    "                            'Country'] = 'Italy'"
   ]
  },
  {
   "cell_type": "code",
   "execution_count": 85,
   "metadata": {},
   "outputs": [
    {
     "data": {
      "text/plain": [
       "Country\n",
       "United States of America      128852\n",
       "Germany                        70268\n",
       "United Kingdom                 59247\n",
       "France                         56599\n",
       "Canada                         19218\n",
       "Spain                          19093\n",
       "Sweden                         16454\n",
       "Italy                          13545\n",
       "Poland                         12614\n",
       "Kingdom of the Netherlands     12115\n",
       "Norway                         11987\n",
       "Australia                      11781\n",
       "Austria                        11260\n",
       "Belgium                         9050\n",
       "Switzerland                     8161\n",
       "Kingdom of Italy                7760\n",
       "Japan                           7354\n",
       "Finland                         7288\n",
       "Denmark                         7188\n",
       "Name: count, dtype: int64"
      ]
     },
     "execution_count": 85,
     "metadata": {},
     "output_type": "execute_result"
    }
   ],
   "source": [
    "df2['Country'].value_counts()"
   ]
  },
  {
   "cell_type": "code",
   "execution_count": 86,
   "metadata": {},
   "outputs": [],
   "source": [
    "df2 = pd.get_dummies(df2, columns=['Country'],\n",
    "                     drop_first=True)"
   ]
  },
  {
   "cell_type": "code",
   "execution_count": 87,
   "metadata": {},
   "outputs": [],
   "source": [
    "pd.set_option('display.max_columns', None)"
   ]
  },
  {
   "cell_type": "code",
   "execution_count": 88,
   "metadata": {},
   "outputs": [
    {
     "data": {
      "text/html": [
       "<div>\n",
       "<style scoped>\n",
       "    .dataframe tbody tr th:only-of-type {\n",
       "        vertical-align: middle;\n",
       "    }\n",
       "\n",
       "    .dataframe tbody tr th {\n",
       "        vertical-align: top;\n",
       "    }\n",
       "\n",
       "    .dataframe thead th {\n",
       "        text-align: right;\n",
       "    }\n",
       "</style>\n",
       "<table border=\"1\" class=\"dataframe\">\n",
       "  <thead>\n",
       "    <tr style=\"text-align: right;\">\n",
       "      <th></th>\n",
       "      <th>Gender</th>\n",
       "      <th>Birth year</th>\n",
       "      <th>Age of death</th>\n",
       "      <th>aristocrat</th>\n",
       "      <th>artist</th>\n",
       "      <th>athlete</th>\n",
       "      <th>businessperson</th>\n",
       "      <th>engineer</th>\n",
       "      <th>entrepreneur</th>\n",
       "      <th>journalist</th>\n",
       "      <th>judge</th>\n",
       "      <th>jurist</th>\n",
       "      <th>lawyer</th>\n",
       "      <th>military personnel</th>\n",
       "      <th>physician</th>\n",
       "      <th>politician</th>\n",
       "      <th>religious figure</th>\n",
       "      <th>researcher</th>\n",
       "      <th>teacher</th>\n",
       "      <th>Country_Austria</th>\n",
       "      <th>Country_Belgium</th>\n",
       "      <th>Country_Canada</th>\n",
       "      <th>Country_Denmark</th>\n",
       "      <th>Country_Finland</th>\n",
       "      <th>Country_France</th>\n",
       "      <th>Country_Germany</th>\n",
       "      <th>Country_Italy</th>\n",
       "      <th>Country_Japan</th>\n",
       "      <th>Country_Kingdom of Italy</th>\n",
       "      <th>Country_Kingdom of the Netherlands</th>\n",
       "      <th>Country_Norway</th>\n",
       "      <th>Country_Poland</th>\n",
       "      <th>Country_Spain</th>\n",
       "      <th>Country_Sweden</th>\n",
       "      <th>Country_Switzerland</th>\n",
       "      <th>Country_United Kingdom</th>\n",
       "      <th>Country_United States of America</th>\n",
       "    </tr>\n",
       "  </thead>\n",
       "  <tbody>\n",
       "    <tr>\n",
       "      <th>1</th>\n",
       "      <td>Male</td>\n",
       "      <td>1952</td>\n",
       "      <td>49.0</td>\n",
       "      <td>0</td>\n",
       "      <td>1</td>\n",
       "      <td>0</td>\n",
       "      <td>0</td>\n",
       "      <td>0</td>\n",
       "      <td>0</td>\n",
       "      <td>0</td>\n",
       "      <td>0</td>\n",
       "      <td>0</td>\n",
       "      <td>0</td>\n",
       "      <td>0</td>\n",
       "      <td>0</td>\n",
       "      <td>0</td>\n",
       "      <td>0</td>\n",
       "      <td>0</td>\n",
       "      <td>0</td>\n",
       "      <td>False</td>\n",
       "      <td>False</td>\n",
       "      <td>False</td>\n",
       "      <td>False</td>\n",
       "      <td>False</td>\n",
       "      <td>False</td>\n",
       "      <td>False</td>\n",
       "      <td>False</td>\n",
       "      <td>False</td>\n",
       "      <td>False</td>\n",
       "      <td>False</td>\n",
       "      <td>False</td>\n",
       "      <td>False</td>\n",
       "      <td>False</td>\n",
       "      <td>False</td>\n",
       "      <td>False</td>\n",
       "      <td>True</td>\n",
       "      <td>False</td>\n",
       "    </tr>\n",
       "    <tr>\n",
       "      <th>2</th>\n",
       "      <td>Male</td>\n",
       "      <td>1809</td>\n",
       "      <td>56.0</td>\n",
       "      <td>0</td>\n",
       "      <td>0</td>\n",
       "      <td>0</td>\n",
       "      <td>0</td>\n",
       "      <td>0</td>\n",
       "      <td>0</td>\n",
       "      <td>0</td>\n",
       "      <td>0</td>\n",
       "      <td>0</td>\n",
       "      <td>0</td>\n",
       "      <td>0</td>\n",
       "      <td>0</td>\n",
       "      <td>1</td>\n",
       "      <td>0</td>\n",
       "      <td>0</td>\n",
       "      <td>0</td>\n",
       "      <td>False</td>\n",
       "      <td>False</td>\n",
       "      <td>False</td>\n",
       "      <td>False</td>\n",
       "      <td>False</td>\n",
       "      <td>False</td>\n",
       "      <td>False</td>\n",
       "      <td>False</td>\n",
       "      <td>False</td>\n",
       "      <td>False</td>\n",
       "      <td>False</td>\n",
       "      <td>False</td>\n",
       "      <td>False</td>\n",
       "      <td>False</td>\n",
       "      <td>False</td>\n",
       "      <td>False</td>\n",
       "      <td>False</td>\n",
       "      <td>True</td>\n",
       "    </tr>\n",
       "  </tbody>\n",
       "</table>\n",
       "</div>"
      ],
      "text/plain": [
       "  Gender  Birth year  Age of death  aristocrat  artist  athlete  \\\n",
       "1   Male        1952          49.0           0       1        0   \n",
       "2   Male        1809          56.0           0       0        0   \n",
       "\n",
       "   businessperson  engineer  entrepreneur  journalist  judge  jurist  lawyer  \\\n",
       "1               0         0             0           0      0       0       0   \n",
       "2               0         0             0           0      0       0       0   \n",
       "\n",
       "   military personnel  physician  politician  religious figure  researcher  \\\n",
       "1                   0          0           0                 0           0   \n",
       "2                   0          0           1                 0           0   \n",
       "\n",
       "   teacher  Country_Austria  Country_Belgium  Country_Canada  Country_Denmark  \\\n",
       "1        0            False            False           False            False   \n",
       "2        0            False            False           False            False   \n",
       "\n",
       "   Country_Finland  Country_France  Country_Germany  Country_Italy  \\\n",
       "1            False           False            False          False   \n",
       "2            False           False            False          False   \n",
       "\n",
       "   Country_Japan  Country_Kingdom of Italy  \\\n",
       "1          False                     False   \n",
       "2          False                     False   \n",
       "\n",
       "   Country_Kingdom of the Netherlands  Country_Norway  Country_Poland  \\\n",
       "1                               False           False           False   \n",
       "2                               False           False           False   \n",
       "\n",
       "   Country_Spain  Country_Sweden  Country_Switzerland  Country_United Kingdom  \\\n",
       "1          False           False                False                    True   \n",
       "2          False           False                False                   False   \n",
       "\n",
       "   Country_United States of America  \n",
       "1                             False  \n",
       "2                              True  "
      ]
     },
     "execution_count": 88,
     "metadata": {},
     "output_type": "execute_result"
    }
   ],
   "source": [
    "df2.head(2)"
   ]
  },
  {
   "cell_type": "code",
   "execution_count": 89,
   "metadata": {},
   "outputs": [
    {
     "data": {
      "text/html": [
       "<div>\n",
       "<style scoped>\n",
       "    .dataframe tbody tr th:only-of-type {\n",
       "        vertical-align: middle;\n",
       "    }\n",
       "\n",
       "    .dataframe tbody tr th {\n",
       "        vertical-align: top;\n",
       "    }\n",
       "\n",
       "    .dataframe thead th {\n",
       "        text-align: right;\n",
       "    }\n",
       "</style>\n",
       "<table border=\"1\" class=\"dataframe\">\n",
       "  <thead>\n",
       "    <tr style=\"text-align: right;\">\n",
       "      <th></th>\n",
       "      <th>Gender</th>\n",
       "      <th>Birth year</th>\n",
       "      <th>Age of death</th>\n",
       "      <th>aristocrat</th>\n",
       "      <th>artist</th>\n",
       "      <th>athlete</th>\n",
       "      <th>businessperson</th>\n",
       "      <th>engineer</th>\n",
       "      <th>entrepreneur</th>\n",
       "      <th>journalist</th>\n",
       "      <th>judge</th>\n",
       "      <th>jurist</th>\n",
       "      <th>lawyer</th>\n",
       "      <th>military personnel</th>\n",
       "      <th>physician</th>\n",
       "      <th>politician</th>\n",
       "      <th>religious figure</th>\n",
       "      <th>researcher</th>\n",
       "      <th>teacher</th>\n",
       "      <th>austria</th>\n",
       "      <th>belgium</th>\n",
       "      <th>canada</th>\n",
       "      <th>denmark</th>\n",
       "      <th>finland</th>\n",
       "      <th>france</th>\n",
       "      <th>germany</th>\n",
       "      <th>italy</th>\n",
       "      <th>japan</th>\n",
       "      <th>kingdom of italy</th>\n",
       "      <th>kingdom of the netherlands</th>\n",
       "      <th>norway</th>\n",
       "      <th>poland</th>\n",
       "      <th>spain</th>\n",
       "      <th>sweden</th>\n",
       "      <th>switzerland</th>\n",
       "      <th>united kingdom</th>\n",
       "      <th>united states of america</th>\n",
       "    </tr>\n",
       "  </thead>\n",
       "  <tbody>\n",
       "    <tr>\n",
       "      <th>1</th>\n",
       "      <td>Male</td>\n",
       "      <td>1952</td>\n",
       "      <td>49.0</td>\n",
       "      <td>0</td>\n",
       "      <td>1</td>\n",
       "      <td>0</td>\n",
       "      <td>0</td>\n",
       "      <td>0</td>\n",
       "      <td>0</td>\n",
       "      <td>0</td>\n",
       "      <td>0</td>\n",
       "      <td>0</td>\n",
       "      <td>0</td>\n",
       "      <td>0</td>\n",
       "      <td>0</td>\n",
       "      <td>0</td>\n",
       "      <td>0</td>\n",
       "      <td>0</td>\n",
       "      <td>0</td>\n",
       "      <td>0</td>\n",
       "      <td>0</td>\n",
       "      <td>0</td>\n",
       "      <td>0</td>\n",
       "      <td>0</td>\n",
       "      <td>0</td>\n",
       "      <td>0</td>\n",
       "      <td>0</td>\n",
       "      <td>0</td>\n",
       "      <td>0</td>\n",
       "      <td>0</td>\n",
       "      <td>0</td>\n",
       "      <td>0</td>\n",
       "      <td>0</td>\n",
       "      <td>0</td>\n",
       "      <td>0</td>\n",
       "      <td>1</td>\n",
       "      <td>0</td>\n",
       "    </tr>\n",
       "    <tr>\n",
       "      <th>2</th>\n",
       "      <td>Male</td>\n",
       "      <td>1809</td>\n",
       "      <td>56.0</td>\n",
       "      <td>0</td>\n",
       "      <td>0</td>\n",
       "      <td>0</td>\n",
       "      <td>0</td>\n",
       "      <td>0</td>\n",
       "      <td>0</td>\n",
       "      <td>0</td>\n",
       "      <td>0</td>\n",
       "      <td>0</td>\n",
       "      <td>0</td>\n",
       "      <td>0</td>\n",
       "      <td>0</td>\n",
       "      <td>1</td>\n",
       "      <td>0</td>\n",
       "      <td>0</td>\n",
       "      <td>0</td>\n",
       "      <td>0</td>\n",
       "      <td>0</td>\n",
       "      <td>0</td>\n",
       "      <td>0</td>\n",
       "      <td>0</td>\n",
       "      <td>0</td>\n",
       "      <td>0</td>\n",
       "      <td>0</td>\n",
       "      <td>0</td>\n",
       "      <td>0</td>\n",
       "      <td>0</td>\n",
       "      <td>0</td>\n",
       "      <td>0</td>\n",
       "      <td>0</td>\n",
       "      <td>0</td>\n",
       "      <td>0</td>\n",
       "      <td>0</td>\n",
       "      <td>1</td>\n",
       "    </tr>\n",
       "  </tbody>\n",
       "</table>\n",
       "</div>"
      ],
      "text/plain": [
       "  Gender  Birth year  Age of death  aristocrat  artist  athlete  \\\n",
       "1   Male        1952          49.0           0       1        0   \n",
       "2   Male        1809          56.0           0       0        0   \n",
       "\n",
       "   businessperson  engineer  entrepreneur  journalist  judge  jurist  lawyer  \\\n",
       "1               0         0             0           0      0       0       0   \n",
       "2               0         0             0           0      0       0       0   \n",
       "\n",
       "   military personnel  physician  politician  religious figure  researcher  \\\n",
       "1                   0          0           0                 0           0   \n",
       "2                   0          0           1                 0           0   \n",
       "\n",
       "   teacher  austria  belgium  canada  denmark  finland  france  germany  \\\n",
       "1        0        0        0       0        0        0       0        0   \n",
       "2        0        0        0       0        0        0       0        0   \n",
       "\n",
       "   italy  japan  kingdom of italy  kingdom of the netherlands  norway  poland  \\\n",
       "1      0      0                 0                           0       0       0   \n",
       "2      0      0                 0                           0       0       0   \n",
       "\n",
       "   spain  sweden  switzerland  united kingdom  united states of america  \n",
       "1      0       0            0               1                         0  \n",
       "2      0       0            0               0                         1  "
      ]
     },
     "execution_count": 89,
     "metadata": {},
     "output_type": "execute_result"
    }
   ],
   "source": [
    "name_list = list(df2.loc[:,'Country_Austria':'Country_United States of America'].columns.tolist())\n",
    "\n",
    "for n in name_list:\n",
    "    newn = n.replace('Country_', '')\n",
    "    newn = newn.lower()\n",
    "    df2[n] = df2[n].astype('int8')\n",
    "    df2.rename(columns={n:newn}, inplace=True)\n",
    "\n",
    "df2.head(2)"
   ]
  },
  {
   "cell_type": "markdown",
   "metadata": {},
   "source": [
    "## Gender"
   ]
  },
  {
   "cell_type": "code",
   "execution_count": 90,
   "metadata": {},
   "outputs": [
    {
     "data": {
      "text/plain": [
       "Gender\n",
       "Male                          444108\n",
       "Female                         45668\n",
       "Transgender Female                26\n",
       "Transgender Male                  18\n",
       "Intersex                           3\n",
       "Female; Male                       3\n",
       "Non-Binary                         2\n",
       "Transgender Female; Female         1\n",
       "Transgender Female; Male           1\n",
       "Intersex; Transgender Male         1\n",
       "Transgender Male; Female           1\n",
       "Transgender Male; Male             1\n",
       "Female; Female                     1\n",
       "Name: count, dtype: int64"
      ]
     },
     "execution_count": 90,
     "metadata": {},
     "output_type": "execute_result"
    }
   ],
   "source": [
    "df2['Gender'].value_counts()"
   ]
  },
  {
   "cell_type": "code",
   "execution_count": 91,
   "metadata": {},
   "outputs": [],
   "source": [
    "df2 = df2.loc[df2['Gender'].isin(['Male', 'Female']), :]"
   ]
  },
  {
   "cell_type": "code",
   "execution_count": 92,
   "metadata": {},
   "outputs": [
    {
     "data": {
      "text/plain": [
       "Gender\n",
       "Male      444108\n",
       "Female     45668\n",
       "Name: count, dtype: int64"
      ]
     },
     "execution_count": 92,
     "metadata": {},
     "output_type": "execute_result"
    }
   ],
   "source": [
    "df2['Gender'].value_counts()"
   ]
  },
  {
   "cell_type": "code",
   "execution_count": 93,
   "metadata": {},
   "outputs": [
    {
     "data": {
      "text/html": [
       "<div>\n",
       "<style scoped>\n",
       "    .dataframe tbody tr th:only-of-type {\n",
       "        vertical-align: middle;\n",
       "    }\n",
       "\n",
       "    .dataframe tbody tr th {\n",
       "        vertical-align: top;\n",
       "    }\n",
       "\n",
       "    .dataframe thead th {\n",
       "        text-align: right;\n",
       "    }\n",
       "</style>\n",
       "<table border=\"1\" class=\"dataframe\">\n",
       "  <thead>\n",
       "    <tr style=\"text-align: right;\">\n",
       "      <th></th>\n",
       "      <th>gender</th>\n",
       "      <th>Birth year</th>\n",
       "      <th>Age of death</th>\n",
       "      <th>aristocrat</th>\n",
       "      <th>artist</th>\n",
       "      <th>athlete</th>\n",
       "      <th>businessperson</th>\n",
       "      <th>engineer</th>\n",
       "      <th>entrepreneur</th>\n",
       "      <th>journalist</th>\n",
       "      <th>judge</th>\n",
       "      <th>jurist</th>\n",
       "      <th>lawyer</th>\n",
       "      <th>military personnel</th>\n",
       "      <th>physician</th>\n",
       "      <th>politician</th>\n",
       "      <th>religious figure</th>\n",
       "      <th>researcher</th>\n",
       "      <th>teacher</th>\n",
       "      <th>austria</th>\n",
       "      <th>belgium</th>\n",
       "      <th>canada</th>\n",
       "      <th>denmark</th>\n",
       "      <th>finland</th>\n",
       "      <th>france</th>\n",
       "      <th>germany</th>\n",
       "      <th>italy</th>\n",
       "      <th>japan</th>\n",
       "      <th>kingdom of italy</th>\n",
       "      <th>kingdom of the netherlands</th>\n",
       "      <th>norway</th>\n",
       "      <th>poland</th>\n",
       "      <th>spain</th>\n",
       "      <th>sweden</th>\n",
       "      <th>switzerland</th>\n",
       "      <th>united kingdom</th>\n",
       "      <th>united states of america</th>\n",
       "    </tr>\n",
       "  </thead>\n",
       "  <tbody>\n",
       "    <tr>\n",
       "      <th>1</th>\n",
       "      <td>1</td>\n",
       "      <td>1952</td>\n",
       "      <td>49.0</td>\n",
       "      <td>0</td>\n",
       "      <td>1</td>\n",
       "      <td>0</td>\n",
       "      <td>0</td>\n",
       "      <td>0</td>\n",
       "      <td>0</td>\n",
       "      <td>0</td>\n",
       "      <td>0</td>\n",
       "      <td>0</td>\n",
       "      <td>0</td>\n",
       "      <td>0</td>\n",
       "      <td>0</td>\n",
       "      <td>0</td>\n",
       "      <td>0</td>\n",
       "      <td>0</td>\n",
       "      <td>0</td>\n",
       "      <td>0</td>\n",
       "      <td>0</td>\n",
       "      <td>0</td>\n",
       "      <td>0</td>\n",
       "      <td>0</td>\n",
       "      <td>0</td>\n",
       "      <td>0</td>\n",
       "      <td>0</td>\n",
       "      <td>0</td>\n",
       "      <td>0</td>\n",
       "      <td>0</td>\n",
       "      <td>0</td>\n",
       "      <td>0</td>\n",
       "      <td>0</td>\n",
       "      <td>0</td>\n",
       "      <td>0</td>\n",
       "      <td>1</td>\n",
       "      <td>0</td>\n",
       "    </tr>\n",
       "    <tr>\n",
       "      <th>2</th>\n",
       "      <td>1</td>\n",
       "      <td>1809</td>\n",
       "      <td>56.0</td>\n",
       "      <td>0</td>\n",
       "      <td>0</td>\n",
       "      <td>0</td>\n",
       "      <td>0</td>\n",
       "      <td>0</td>\n",
       "      <td>0</td>\n",
       "      <td>0</td>\n",
       "      <td>0</td>\n",
       "      <td>0</td>\n",
       "      <td>0</td>\n",
       "      <td>0</td>\n",
       "      <td>0</td>\n",
       "      <td>1</td>\n",
       "      <td>0</td>\n",
       "      <td>0</td>\n",
       "      <td>0</td>\n",
       "      <td>0</td>\n",
       "      <td>0</td>\n",
       "      <td>0</td>\n",
       "      <td>0</td>\n",
       "      <td>0</td>\n",
       "      <td>0</td>\n",
       "      <td>0</td>\n",
       "      <td>0</td>\n",
       "      <td>0</td>\n",
       "      <td>0</td>\n",
       "      <td>0</td>\n",
       "      <td>0</td>\n",
       "      <td>0</td>\n",
       "      <td>0</td>\n",
       "      <td>0</td>\n",
       "      <td>0</td>\n",
       "      <td>0</td>\n",
       "      <td>1</td>\n",
       "    </tr>\n",
       "  </tbody>\n",
       "</table>\n",
       "</div>"
      ],
      "text/plain": [
       "   gender  Birth year  Age of death  aristocrat  artist  athlete  \\\n",
       "1       1        1952          49.0           0       1        0   \n",
       "2       1        1809          56.0           0       0        0   \n",
       "\n",
       "   businessperson  engineer  entrepreneur  journalist  judge  jurist  lawyer  \\\n",
       "1               0         0             0           0      0       0       0   \n",
       "2               0         0             0           0      0       0       0   \n",
       "\n",
       "   military personnel  physician  politician  religious figure  researcher  \\\n",
       "1                   0          0           0                 0           0   \n",
       "2                   0          0           1                 0           0   \n",
       "\n",
       "   teacher  austria  belgium  canada  denmark  finland  france  germany  \\\n",
       "1        0        0        0       0        0        0       0        0   \n",
       "2        0        0        0       0        0        0       0        0   \n",
       "\n",
       "   italy  japan  kingdom of italy  kingdom of the netherlands  norway  poland  \\\n",
       "1      0      0                 0                           0       0       0   \n",
       "2      0      0                 0                           0       0       0   \n",
       "\n",
       "   spain  sweden  switzerland  united kingdom  united states of america  \n",
       "1      0       0            0               1                         0  \n",
       "2      0       0            0               0                         1  "
      ]
     },
     "execution_count": 93,
     "metadata": {},
     "output_type": "execute_result"
    }
   ],
   "source": [
    "df2['Gender'] = df2['Gender'].str.replace('Male', '1')\n",
    "df2['Gender'] = df2['Gender'].str.replace('Female', '0')\n",
    "df2['Gender'] = df2['Gender'].astype('int8')\n",
    "df2.rename(columns={'Gender':'gender'}, inplace=True)\n",
    "df2.head(2)"
   ]
  },
  {
   "cell_type": "code",
   "execution_count": 94,
   "metadata": {},
   "outputs": [
    {
     "data": {
      "text/html": [
       "<div>\n",
       "<style scoped>\n",
       "    .dataframe tbody tr th:only-of-type {\n",
       "        vertical-align: middle;\n",
       "    }\n",
       "\n",
       "    .dataframe tbody tr th {\n",
       "        vertical-align: top;\n",
       "    }\n",
       "\n",
       "    .dataframe thead th {\n",
       "        text-align: right;\n",
       "    }\n",
       "</style>\n",
       "<table border=\"1\" class=\"dataframe\">\n",
       "  <thead>\n",
       "    <tr style=\"text-align: right;\">\n",
       "      <th></th>\n",
       "      <th>gender</th>\n",
       "      <th>birth year</th>\n",
       "      <th>death age</th>\n",
       "      <th>aristocrat</th>\n",
       "      <th>artist</th>\n",
       "      <th>athlete</th>\n",
       "      <th>businessperson</th>\n",
       "      <th>engineer</th>\n",
       "      <th>entrepreneur</th>\n",
       "      <th>journalist</th>\n",
       "      <th>judge</th>\n",
       "      <th>jurist</th>\n",
       "      <th>lawyer</th>\n",
       "      <th>military personnel</th>\n",
       "      <th>physician</th>\n",
       "      <th>politician</th>\n",
       "      <th>religious figure</th>\n",
       "      <th>researcher</th>\n",
       "      <th>teacher</th>\n",
       "      <th>austria</th>\n",
       "      <th>belgium</th>\n",
       "      <th>canada</th>\n",
       "      <th>denmark</th>\n",
       "      <th>finland</th>\n",
       "      <th>france</th>\n",
       "      <th>germany</th>\n",
       "      <th>italy</th>\n",
       "      <th>japan</th>\n",
       "      <th>kingdom of italy</th>\n",
       "      <th>kingdom of the netherlands</th>\n",
       "      <th>norway</th>\n",
       "      <th>poland</th>\n",
       "      <th>spain</th>\n",
       "      <th>sweden</th>\n",
       "      <th>switzerland</th>\n",
       "      <th>united kingdom</th>\n",
       "      <th>united states of america</th>\n",
       "    </tr>\n",
       "  </thead>\n",
       "  <tbody>\n",
       "    <tr>\n",
       "      <th>1</th>\n",
       "      <td>1</td>\n",
       "      <td>1952</td>\n",
       "      <td>49.0</td>\n",
       "      <td>0</td>\n",
       "      <td>1</td>\n",
       "      <td>0</td>\n",
       "      <td>0</td>\n",
       "      <td>0</td>\n",
       "      <td>0</td>\n",
       "      <td>0</td>\n",
       "      <td>0</td>\n",
       "      <td>0</td>\n",
       "      <td>0</td>\n",
       "      <td>0</td>\n",
       "      <td>0</td>\n",
       "      <td>0</td>\n",
       "      <td>0</td>\n",
       "      <td>0</td>\n",
       "      <td>0</td>\n",
       "      <td>0</td>\n",
       "      <td>0</td>\n",
       "      <td>0</td>\n",
       "      <td>0</td>\n",
       "      <td>0</td>\n",
       "      <td>0</td>\n",
       "      <td>0</td>\n",
       "      <td>0</td>\n",
       "      <td>0</td>\n",
       "      <td>0</td>\n",
       "      <td>0</td>\n",
       "      <td>0</td>\n",
       "      <td>0</td>\n",
       "      <td>0</td>\n",
       "      <td>0</td>\n",
       "      <td>0</td>\n",
       "      <td>1</td>\n",
       "      <td>0</td>\n",
       "    </tr>\n",
       "    <tr>\n",
       "      <th>2</th>\n",
       "      <td>1</td>\n",
       "      <td>1809</td>\n",
       "      <td>56.0</td>\n",
       "      <td>0</td>\n",
       "      <td>0</td>\n",
       "      <td>0</td>\n",
       "      <td>0</td>\n",
       "      <td>0</td>\n",
       "      <td>0</td>\n",
       "      <td>0</td>\n",
       "      <td>0</td>\n",
       "      <td>0</td>\n",
       "      <td>0</td>\n",
       "      <td>0</td>\n",
       "      <td>0</td>\n",
       "      <td>1</td>\n",
       "      <td>0</td>\n",
       "      <td>0</td>\n",
       "      <td>0</td>\n",
       "      <td>0</td>\n",
       "      <td>0</td>\n",
       "      <td>0</td>\n",
       "      <td>0</td>\n",
       "      <td>0</td>\n",
       "      <td>0</td>\n",
       "      <td>0</td>\n",
       "      <td>0</td>\n",
       "      <td>0</td>\n",
       "      <td>0</td>\n",
       "      <td>0</td>\n",
       "      <td>0</td>\n",
       "      <td>0</td>\n",
       "      <td>0</td>\n",
       "      <td>0</td>\n",
       "      <td>0</td>\n",
       "      <td>0</td>\n",
       "      <td>1</td>\n",
       "    </tr>\n",
       "  </tbody>\n",
       "</table>\n",
       "</div>"
      ],
      "text/plain": [
       "   gender  birth year  death age  aristocrat  artist  athlete  businessperson  \\\n",
       "1       1        1952       49.0           0       1        0               0   \n",
       "2       1        1809       56.0           0       0        0               0   \n",
       "\n",
       "   engineer  entrepreneur  journalist  judge  jurist  lawyer  \\\n",
       "1         0             0           0      0       0       0   \n",
       "2         0             0           0      0       0       0   \n",
       "\n",
       "   military personnel  physician  politician  religious figure  researcher  \\\n",
       "1                   0          0           0                 0           0   \n",
       "2                   0          0           1                 0           0   \n",
       "\n",
       "   teacher  austria  belgium  canada  denmark  finland  france  germany  \\\n",
       "1        0        0        0       0        0        0       0        0   \n",
       "2        0        0        0       0        0        0       0        0   \n",
       "\n",
       "   italy  japan  kingdom of italy  kingdom of the netherlands  norway  poland  \\\n",
       "1      0      0                 0                           0       0       0   \n",
       "2      0      0                 0                           0       0       0   \n",
       "\n",
       "   spain  sweden  switzerland  united kingdom  united states of america  \n",
       "1      0       0            0               1                         0  \n",
       "2      0       0            0               0                         1  "
      ]
     },
     "execution_count": 94,
     "metadata": {},
     "output_type": "execute_result"
    }
   ],
   "source": [
    "df2.rename(columns={'Birth year':'birth year',\n",
    "                    'Age of death':'death age'}, inplace=True)\n",
    "df2.head(2)"
   ]
  },
  {
   "cell_type": "markdown",
   "metadata": {},
   "source": [
    "## Delete outliers"
   ]
  },
  {
   "cell_type": "code",
   "execution_count": 95,
   "metadata": {},
   "outputs": [
    {
     "name": "stderr",
     "output_type": "stream",
     "text": [
      "c:\\Users\\matte\\anaconda3\\Lib\\site-packages\\seaborn\\_oldcore.py:1498: FutureWarning: is_categorical_dtype is deprecated and will be removed in a future version. Use isinstance(dtype, CategoricalDtype) instead\n",
      "  if pd.api.types.is_categorical_dtype(vector):\n"
     ]
    },
    {
     "data": {
      "image/png": "[encoded data removed]",
      "text/plain": [
       "<Figure size 640x480 with 1 Axes>"
      ]
     },
     "metadata": {},
     "output_type": "display_data"
    }
   ],
   "source": [
    "sns.boxplot(x='death age', data=df2)\n",
    "plt.show()"
   ]
  },
  {
   "cell_type": "code",
   "execution_count": 96,
   "metadata": {},
   "outputs": [],
   "source": [
    "q1,q2,q3 = df2['death age'].quantile([0.25, 0.5, 0.75]) "
   ]
  },
  {
   "cell_type": "code",
   "execution_count": 97,
   "metadata": {},
   "outputs": [
    {
     "name": "stdout",
     "output_type": "stream",
     "text": [
      "l1: 30.5\n",
      "L1:114.5\n"
     ]
    }
   ],
   "source": [
    "l1 = q1 - 1.5*(q3 - q1)\n",
    "L1 = q3 + 1.5*(q3 - q1)\n",
    "print(f'l1: {l1}\\nL1:{L1}')"
   ]
  },
  {
   "cell_type": "code",
   "execution_count": 103,
   "metadata": {},
   "outputs": [],
   "source": [
    "df2 = df2.loc[df2['death age']>l1, :]"
   ]
  },
  {
   "cell_type": "code",
   "execution_count": 105,
   "metadata": {},
   "outputs": [
    {
     "name": "stderr",
     "output_type": "stream",
     "text": [
      "c:\\Users\\matte\\anaconda3\\Lib\\site-packages\\seaborn\\_oldcore.py:1498: FutureWarning: is_categorical_dtype is deprecated and will be removed in a future version. Use isinstance(dtype, CategoricalDtype) instead\n",
      "  if pd.api.types.is_categorical_dtype(vector):\n"
     ]
    },
    {
     "data": {
      "text/plain": [
       "<Axes: xlabel='birth year'>"
      ]
     },
     "execution_count": 105,
     "metadata": {},
     "output_type": "execute_result"
    },
    {
     "data": {
      "image/png": "[encoded data removed]",
      "text/plain": [
       "<Figure size 640x480 with 1 Axes>"
      ]
     },
     "metadata": {},
     "output_type": "display_data"
    }
   ],
   "source": [
    "sns.boxplot(data=df2, x='birth year')"
   ]
  },
  {
   "cell_type": "code",
   "execution_count": 106,
   "metadata": {},
   "outputs": [
    {
     "name": "stdout",
     "output_type": "stream",
     "text": [
      "l1: 1750.0\n",
      "L1:2022.0\n",
      "<class 'pandas.core.frame.DataFrame'>\n",
      "Index: 454627 entries, 1 to 1223008\n",
      "Data columns (total 37 columns):\n",
      " #   Column                      Non-Null Count   Dtype  \n",
      "---  ------                      --------------   -----  \n",
      " 0   gender                      454627 non-null  int8   \n",
      " 1   birth year                  454627 non-null  int64  \n",
      " 2   death age                   454627 non-null  float64\n",
      " 3   aristocrat                  454627 non-null  int8   \n",
      " 4   artist                      454627 non-null  int8   \n",
      " 5   athlete                     454627 non-null  int8   \n",
      " 6   businessperson              454627 non-null  int8   \n",
      " 7   engineer                    454627 non-null  int8   \n",
      " 8   entrepreneur                454627 non-null  int8   \n",
      " 9   journalist                  454627 non-null  int8   \n",
      " 10  judge                       454627 non-null  int8   \n",
      " 11  jurist                      454627 non-null  int8   \n",
      " 12  lawyer                      454627 non-null  int8   \n",
      " 13  military personnel          454627 non-null  int8   \n",
      " 14  physician                   454627 non-null  int8   \n",
      " 15  politician                  454627 non-null  int8   \n",
      " 16  religious figure            454627 non-null  int8   \n",
      " 17  researcher                  454627 non-null  int8   \n",
      " 18  teacher                     454627 non-null  int8   \n",
      " 19  austria                     454627 non-null  int8   \n",
      " 20  belgium                     454627 non-null  int8   \n",
      " 21  canada                      454627 non-null  int8   \n",
      " 22  denmark                     454627 non-null  int8   \n",
      " 23  finland                     454627 non-null  int8   \n",
      " 24  france                      454627 non-null  int8   \n",
      " 25  germany                     454627 non-null  int8   \n",
      " 26  italy                       454627 non-null  int8   \n",
      " 27  japan                       454627 non-null  int8   \n",
      " 28  kingdom of italy            454627 non-null  int8   \n",
      " 29  kingdom of the netherlands  454627 non-null  int8   \n",
      " 30  norway                      454627 non-null  int8   \n",
      " 31  poland                      454627 non-null  int8   \n",
      " 32  spain                       454627 non-null  int8   \n",
      " 33  sweden                      454627 non-null  int8   \n",
      " 34  switzerland                 454627 non-null  int8   \n",
      " 35  united kingdom              454627 non-null  int8   \n",
      " 36  united states of america    454627 non-null  int8   \n",
      "dtypes: float64(1), int64(1), int8(35)\n",
      "memory usage: 25.6 MB\n"
     ]
    }
   ],
   "source": [
    "q1,q2,q3 = df2['birth year'].quantile([0.25, 0.5, 0.75])\n",
    "\n",
    "l1 = q1 - 1.5*(q3 - q1)\n",
    "L1 = q3 + 1.5*(q3 - q1)\n",
    "print(f'l1: {l1}\\nL1:{L1}')\n",
    "\n",
    "df2 = df2.loc[df2['birth year']>l1, :]\n",
    "\n",
    "df2.info()"
   ]
  },
  {
   "cell_type": "code",
   "execution_count": 107,
   "metadata": {},
   "outputs": [],
   "source": [
    "df2.to_csv(r'C:\\Users\\matte\\OneDrive\\Desktop\\GitHub\\Data\\agedf_cleaned.csv')"
   ]
  },
  {
   "cell_type": "markdown",
   "metadata": {},
   "source": [
    "# --------------------"
   ]
  },
  {
   "cell_type": "markdown",
   "metadata": {},
   "source": [
    "# Start here"
   ]
  },
  {
   "cell_type": "code",
   "execution_count": 1,
   "metadata": {},
   "outputs": [],
   "source": [
    "import numpy as np\n",
    "%matplotlib inline\n",
    "import matplotlib.pyplot as plt\n",
    "import seaborn as sns\n",
    "import pandas as pd\n",
    "from scipy import stats \n",
    "from sklearn.linear_model import LinearRegression\n",
    "from sklearn.model_selection import train_test_split\n",
    "from sklearn.preprocessing import PolynomialFeatures\n",
    "from sklearn.preprocessing import StandardScaler\n",
    "from sklearn.model_selection import cross_val_score\n",
    "from sklearn.linear_model import Ridge\n",
    "from sklearn.model_selection import GridSearchCV\n",
    "from sklearn.metrics import mean_squared_error"
   ]
  },
  {
   "cell_type": "code",
   "execution_count": 2,
   "metadata": {},
   "outputs": [
    {
     "data": {
      "text/html": [
       "<div>\n",
       "<style scoped>\n",
       "    .dataframe tbody tr th:only-of-type {\n",
       "        vertical-align: middle;\n",
       "    }\n",
       "\n",
       "    .dataframe tbody tr th {\n",
       "        vertical-align: top;\n",
       "    }\n",
       "\n",
       "    .dataframe thead th {\n",
       "        text-align: right;\n",
       "    }\n",
       "</style>\n",
       "<table border=\"1\" class=\"dataframe\">\n",
       "  <thead>\n",
       "    <tr style=\"text-align: right;\">\n",
       "      <th></th>\n",
       "      <th>gender</th>\n",
       "      <th>birth year</th>\n",
       "      <th>death age</th>\n",
       "      <th>aristocrat</th>\n",
       "      <th>artist</th>\n",
       "      <th>athlete</th>\n",
       "      <th>businessperson</th>\n",
       "      <th>engineer</th>\n",
       "      <th>entrepreneur</th>\n",
       "      <th>journalist</th>\n",
       "      <th>...</th>\n",
       "      <th>japan</th>\n",
       "      <th>kingdom of italy</th>\n",
       "      <th>kingdom of the netherlands</th>\n",
       "      <th>norway</th>\n",
       "      <th>poland</th>\n",
       "      <th>spain</th>\n",
       "      <th>sweden</th>\n",
       "      <th>switzerland</th>\n",
       "      <th>united kingdom</th>\n",
       "      <th>united states of america</th>\n",
       "    </tr>\n",
       "  </thead>\n",
       "  <tbody>\n",
       "    <tr>\n",
       "      <th>454622</th>\n",
       "      <td>1</td>\n",
       "      <td>1896</td>\n",
       "      <td>68.0</td>\n",
       "      <td>0</td>\n",
       "      <td>0</td>\n",
       "      <td>0</td>\n",
       "      <td>0</td>\n",
       "      <td>0</td>\n",
       "      <td>0</td>\n",
       "      <td>0</td>\n",
       "      <td>...</td>\n",
       "      <td>0</td>\n",
       "      <td>0</td>\n",
       "      <td>0</td>\n",
       "      <td>0</td>\n",
       "      <td>0</td>\n",
       "      <td>1</td>\n",
       "      <td>0</td>\n",
       "      <td>0</td>\n",
       "      <td>0</td>\n",
       "      <td>0</td>\n",
       "    </tr>\n",
       "    <tr>\n",
       "      <th>454623</th>\n",
       "      <td>1</td>\n",
       "      <td>1936</td>\n",
       "      <td>76.0</td>\n",
       "      <td>0</td>\n",
       "      <td>1</td>\n",
       "      <td>0</td>\n",
       "      <td>0</td>\n",
       "      <td>0</td>\n",
       "      <td>0</td>\n",
       "      <td>0</td>\n",
       "      <td>...</td>\n",
       "      <td>0</td>\n",
       "      <td>0</td>\n",
       "      <td>0</td>\n",
       "      <td>0</td>\n",
       "      <td>0</td>\n",
       "      <td>0</td>\n",
       "      <td>0</td>\n",
       "      <td>1</td>\n",
       "      <td>0</td>\n",
       "      <td>0</td>\n",
       "    </tr>\n",
       "    <tr>\n",
       "      <th>454624</th>\n",
       "      <td>1</td>\n",
       "      <td>1930</td>\n",
       "      <td>50.0</td>\n",
       "      <td>0</td>\n",
       "      <td>0</td>\n",
       "      <td>1</td>\n",
       "      <td>0</td>\n",
       "      <td>0</td>\n",
       "      <td>0</td>\n",
       "      <td>0</td>\n",
       "      <td>...</td>\n",
       "      <td>0</td>\n",
       "      <td>0</td>\n",
       "      <td>1</td>\n",
       "      <td>0</td>\n",
       "      <td>0</td>\n",
       "      <td>0</td>\n",
       "      <td>0</td>\n",
       "      <td>0</td>\n",
       "      <td>0</td>\n",
       "      <td>0</td>\n",
       "    </tr>\n",
       "    <tr>\n",
       "      <th>454625</th>\n",
       "      <td>1</td>\n",
       "      <td>1857</td>\n",
       "      <td>67.0</td>\n",
       "      <td>0</td>\n",
       "      <td>0</td>\n",
       "      <td>0</td>\n",
       "      <td>0</td>\n",
       "      <td>0</td>\n",
       "      <td>1</td>\n",
       "      <td>0</td>\n",
       "      <td>...</td>\n",
       "      <td>0</td>\n",
       "      <td>0</td>\n",
       "      <td>0</td>\n",
       "      <td>0</td>\n",
       "      <td>0</td>\n",
       "      <td>0</td>\n",
       "      <td>0</td>\n",
       "      <td>1</td>\n",
       "      <td>0</td>\n",
       "      <td>0</td>\n",
       "    </tr>\n",
       "    <tr>\n",
       "      <th>454626</th>\n",
       "      <td>1</td>\n",
       "      <td>1938</td>\n",
       "      <td>79.0</td>\n",
       "      <td>0</td>\n",
       "      <td>1</td>\n",
       "      <td>0</td>\n",
       "      <td>0</td>\n",
       "      <td>0</td>\n",
       "      <td>0</td>\n",
       "      <td>0</td>\n",
       "      <td>...</td>\n",
       "      <td>0</td>\n",
       "      <td>0</td>\n",
       "      <td>0</td>\n",
       "      <td>0</td>\n",
       "      <td>0</td>\n",
       "      <td>0</td>\n",
       "      <td>0</td>\n",
       "      <td>0</td>\n",
       "      <td>0</td>\n",
       "      <td>0</td>\n",
       "    </tr>\n",
       "  </tbody>\n",
       "</table>\n",
       "<p>5 rows × 37 columns</p>\n",
       "</div>"
      ],
      "text/plain": [
       "        gender  birth year  death age  aristocrat  artist  athlete  \\\n",
       "454622       1        1896       68.0           0       0        0   \n",
       "454623       1        1936       76.0           0       1        0   \n",
       "454624       1        1930       50.0           0       0        1   \n",
       "454625       1        1857       67.0           0       0        0   \n",
       "454626       1        1938       79.0           0       1        0   \n",
       "\n",
       "        businessperson  engineer  entrepreneur  journalist  ...  japan  \\\n",
       "454622               0         0             0           0  ...      0   \n",
       "454623               0         0             0           0  ...      0   \n",
       "454624               0         0             0           0  ...      0   \n",
       "454625               0         0             1           0  ...      0   \n",
       "454626               0         0             0           0  ...      0   \n",
       "\n",
       "        kingdom of italy  kingdom of the netherlands  norway  poland  spain  \\\n",
       "454622                 0                           0       0       0      1   \n",
       "454623                 0                           0       0       0      0   \n",
       "454624                 0                           1       0       0      0   \n",
       "454625                 0                           0       0       0      0   \n",
       "454626                 0                           0       0       0      0   \n",
       "\n",
       "        sweden  switzerland  united kingdom  united states of america  \n",
       "454622       0            0               0                         0  \n",
       "454623       0            1               0                         0  \n",
       "454624       0            0               0                         0  \n",
       "454625       0            1               0                         0  \n",
       "454626       0            0               0                         0  \n",
       "\n",
       "[5 rows x 37 columns]"
      ]
     },
     "execution_count": 2,
     "metadata": {},
     "output_type": "execute_result"
    }
   ],
   "source": [
    "df = pd.read_csv(r'C:\\Users\\matte\\OneDrive\\Desktop\\GitHub\\Data\\agedf_cleaned.csv')\n",
    "df.drop('Unnamed: 0', axis=1, inplace=True)\n",
    "df.tail()"
   ]
  },
  {
   "cell_type": "markdown",
   "metadata": {},
   "source": [
    "## Death age - Birth year"
   ]
  },
  {
   "cell_type": "code",
   "execution_count": 3,
   "metadata": {},
   "outputs": [],
   "source": [
    "df_mini = df.sample(n=40000, random_state=43)"
   ]
  },
  {
   "cell_type": "code",
   "execution_count": 112,
   "metadata": {},
   "outputs": [
    {
     "data": {
      "image/png": "[encoded data removed]",
      "text/plain": [
       "<Figure size 640x480 with 1 Axes>"
      ]
     },
     "metadata": {},
     "output_type": "display_data"
    }
   ],
   "source": [
    "sns.regplot(x='birth year', y='death age', data=df_mini);"
   ]
  },
  {
   "cell_type": "code",
   "execution_count": 115,
   "metadata": {},
   "outputs": [
    {
     "data": {
      "text/html": [
       "<div>\n",
       "<style scoped>\n",
       "    .dataframe tbody tr th:only-of-type {\n",
       "        vertical-align: middle;\n",
       "    }\n",
       "\n",
       "    .dataframe tbody tr th {\n",
       "        vertical-align: top;\n",
       "    }\n",
       "\n",
       "    .dataframe thead th {\n",
       "        text-align: right;\n",
       "    }\n",
       "</style>\n",
       "<table border=\"1\" class=\"dataframe\">\n",
       "  <thead>\n",
       "    <tr style=\"text-align: right;\">\n",
       "      <th></th>\n",
       "      <th>birth year</th>\n",
       "      <th>death age</th>\n",
       "    </tr>\n",
       "  </thead>\n",
       "  <tbody>\n",
       "    <tr>\n",
       "      <th>birth year</th>\n",
       "      <td>1.000000</td>\n",
       "      <td>0.089143</td>\n",
       "    </tr>\n",
       "    <tr>\n",
       "      <th>death age</th>\n",
       "      <td>0.089143</td>\n",
       "      <td>1.000000</td>\n",
       "    </tr>\n",
       "  </tbody>\n",
       "</table>\n",
       "</div>"
      ],
      "text/plain": [
       "            birth year  death age\n",
       "birth year    1.000000   0.089143\n",
       "death age     0.089143   1.000000"
      ]
     },
     "execution_count": 115,
     "metadata": {},
     "output_type": "execute_result"
    }
   ],
   "source": [
    "df[['birth year','death age']].corr()"
   ]
  },
  {
   "cell_type": "code",
   "execution_count": 116,
   "metadata": {},
   "outputs": [
    {
     "name": "stdout",
     "output_type": "stream",
     "text": [
      "0.08914305957520928\n",
      "0.0\n"
     ]
    }
   ],
   "source": [
    "from scipy import stats \n",
    "pearson_coef,p_value=stats.pearsonr(df['death age'], df['birth year'])\n",
    "\n",
    "print(pearson_coef)\n",
    "print(p_value)"
   ]
  },
  {
   "cell_type": "code",
   "execution_count": 118,
   "metadata": {},
   "outputs": [],
   "source": [
    "from sklearn.linear_model import LinearRegression\n",
    "from sklearn.model_selection import train_test_split\n",
    "\n",
    "x_data = df_mini[['birth year']]\n",
    "y_data = df_mini['death age']\n",
    "\n",
    "x_train, x_test, y_train, y_test = train_test_split(x_data, y_data,\n",
    "                                                    test_size=0.25, random_state=1)\n"
   ]
  },
  {
   "cell_type": "code",
   "execution_count": 120,
   "metadata": {},
   "outputs": [
    {
     "data": {
      "text/plain": [
       "0.008308706772096969"
      ]
     },
     "execution_count": 120,
     "metadata": {},
     "output_type": "execute_result"
    }
   ],
   "source": [
    "from sklearn.model_selection import cross_val_score\n",
    "\n",
    "lr = LinearRegression()\n",
    "\n",
    "rcross = cross_val_score(lr, x_data, y_data, cv=4)\n",
    "rcross.mean()"
   ]
  },
  {
   "cell_type": "code",
   "execution_count": 138,
   "metadata": {},
   "outputs": [],
   "source": [
    "from sklearn.preprocessing import PolynomialFeatures\n",
    "from sklearn.preprocessing import StandardScaler\n",
    "\n",
    "scaler = StandardScaler()\n",
    "\n",
    "test_results = []\n",
    "order = [1,2,3,4,5,6,7,8,9,10,11]\n",
    "\n",
    "for n in order:\n",
    "    pr=PolynomialFeatures(degree=n)\n",
    "    \n",
    "    x_train_pr = pr.fit_transform(x_train).astype('float')\n",
    "    x_test_pr = pr.fit_transform(x_test).astype('float')\n",
    "\n",
    "    x_train_fin = scaler.fit_transform(x_train_pr)\n",
    "    x_test_fin = scaler.transform(x_test_pr)\n",
    "\n",
    "    lr.fit(x_train_fin, y_train)\n",
    "\n",
    "    test_results.append(lr.score(x_test_fin, y_test))"
   ]
  },
  {
   "cell_type": "code",
   "execution_count": 139,
   "metadata": {},
   "outputs": [
    {
     "data": {
      "text/plain": [
       "Text(0, 0.5, 'R^2')"
      ]
     },
     "execution_count": 139,
     "metadata": {},
     "output_type": "execute_result"
    },
    {
     "data": {
      "image/png": "[encoded data removed]",
      "text/plain": [
       "<Figure size 640x480 with 1 Axes>"
      ]
     },
     "metadata": {},
     "output_type": "display_data"
    }
   ],
   "source": [
    "plt.plot(order, test_results)\n",
    "plt.xlabel('order')\n",
    "plt.ylabel('R^2')"
   ]
  },
  {
   "cell_type": "code",
   "execution_count": 143,
   "metadata": {},
   "outputs": [
    {
     "data": {
      "text/plain": [
       "0.01036676880160925"
      ]
     },
     "execution_count": 143,
     "metadata": {},
     "output_type": "execute_result"
    }
   ],
   "source": [
    "from sklearn.linear_model import Ridge\n",
    "from sklearn.model_selection import GridSearchCV\n",
    "\n",
    "param1=[{'alpha':[0, 0.001,0.1,1, 10, 100, 1000, 10000]}]\n",
    "\n",
    "rr = Ridge()\n",
    "\n",
    "grid1 = GridSearchCV(rr, param1)\n",
    "\n",
    "grid1.fit(x_train, y_train)\n",
    "\n",
    "best_score = grid1.best_estimator_\n",
    "best_score.score(x_test, y_test)"
   ]
  },
  {
   "cell_type": "code",
   "execution_count": 144,
   "metadata": {},
   "outputs": [
    {
     "data": {
      "text/html": [
       "<style>#sk-container-id-6 {color: black;}#sk-container-id-6 pre{padding: 0;}#sk-container-id-6 div.sk-toggleable {background-color: white;}#sk-container-id-6 label.sk-toggleable__label {cursor: pointer;display: block;width: 100%;margin-bottom: 0;padding: 0.3em;box-sizing: border-box;text-align: center;}#sk-container-id-6 label.sk-toggleable__label-arrow:before {content: \"▸\";float: left;margin-right: 0.25em;color: #696969;}#sk-container-id-6 label.sk-toggleable__label-arrow:hover:before {color: black;}#sk-container-id-6 div.sk-estimator:hover label.sk-toggleable__label-arrow:before {color: black;}#sk-container-id-6 div.sk-toggleable__content {max-height: 0;max-width: 0;overflow: hidden;text-align: left;background-color: #f0f8ff;}#sk-container-id-6 div.sk-toggleable__content pre {margin: 0.2em;color: black;border-radius: 0.25em;background-color: #f0f8ff;}#sk-container-id-6 input.sk-toggleable__control:checked~div.sk-toggleable__content {max-height: 200px;max-width: 100%;overflow: auto;}#sk-container-id-6 input.sk-toggleable__control:checked~label.sk-toggleable__label-arrow:before {content: \"▾\";}#sk-container-id-6 div.sk-estimator input.sk-toggleable__control:checked~label.sk-toggleable__label {background-color: #d4ebff;}#sk-container-id-6 div.sk-label input.sk-toggleable__control:checked~label.sk-toggleable__label {background-color: #d4ebff;}#sk-container-id-6 input.sk-hidden--visually {border: 0;clip: rect(1px 1px 1px 1px);clip: rect(1px, 1px, 1px, 1px);height: 1px;margin: -1px;overflow: hidden;padding: 0;position: absolute;width: 1px;}#sk-container-id-6 div.sk-estimator {font-family: monospace;background-color: #f0f8ff;border: 1px dotted black;border-radius: 0.25em;box-sizing: border-box;margin-bottom: 0.5em;}#sk-container-id-6 div.sk-estimator:hover {background-color: #d4ebff;}#sk-container-id-6 div.sk-parallel-item::after {content: \"\";width: 100%;border-bottom: 1px solid gray;flex-grow: 1;}#sk-container-id-6 div.sk-label:hover label.sk-toggleable__label {background-color: #d4ebff;}#sk-container-id-6 div.sk-serial::before {content: \"\";position: absolute;border-left: 1px solid gray;box-sizing: border-box;top: 0;bottom: 0;left: 50%;z-index: 0;}#sk-container-id-6 div.sk-serial {display: flex;flex-direction: column;align-items: center;background-color: white;padding-right: 0.2em;padding-left: 0.2em;position: relative;}#sk-container-id-6 div.sk-item {position: relative;z-index: 1;}#sk-container-id-6 div.sk-parallel {display: flex;align-items: stretch;justify-content: center;background-color: white;position: relative;}#sk-container-id-6 div.sk-item::before, #sk-container-id-6 div.sk-parallel-item::before {content: \"\";position: absolute;border-left: 1px solid gray;box-sizing: border-box;top: 0;bottom: 0;left: 50%;z-index: -1;}#sk-container-id-6 div.sk-parallel-item {display: flex;flex-direction: column;z-index: 1;position: relative;background-color: white;}#sk-container-id-6 div.sk-parallel-item:first-child::after {align-self: flex-end;width: 50%;}#sk-container-id-6 div.sk-parallel-item:last-child::after {align-self: flex-start;width: 50%;}#sk-container-id-6 div.sk-parallel-item:only-child::after {width: 0;}#sk-container-id-6 div.sk-dashed-wrapped {border: 1px dashed gray;margin: 0 0.4em 0.5em 0.4em;box-sizing: border-box;padding-bottom: 0.4em;background-color: white;}#sk-container-id-6 div.sk-label label {font-family: monospace;font-weight: bold;display: inline-block;line-height: 1.2em;}#sk-container-id-6 div.sk-label-container {text-align: center;}#sk-container-id-6 div.sk-container {/* jupyter's `normalize.less` sets `[hidden] { display: none; }` but bootstrap.min.css set `[hidden] { display: none !important; }` so we also need the `!important` here to be able to override the default hidden behavior on the sphinx rendered scikit-learn.org. See: https://github.com/scikit-learn/scikit-learn/issues/21755 */display: inline-block !important;position: relative;}#sk-container-id-6 div.sk-text-repr-fallback {display: none;}</style><div id=\"sk-container-id-6\" class=\"sk-top-container\"><div class=\"sk-text-repr-fallback\"><pre>Ridge(alpha=10000)</pre><b>In a Jupyter environment, please rerun this cell to show the HTML representation or trust the notebook. <br />On GitHub, the HTML representation is unable to render, please try loading this page with nbviewer.org.</b></div><div class=\"sk-container\" hidden><div class=\"sk-item\"><div class=\"sk-estimator sk-toggleable\"><input class=\"sk-toggleable__control sk-hidden--visually\" id=\"sk-estimator-id-8\" type=\"checkbox\" checked><label for=\"sk-estimator-id-8\" class=\"sk-toggleable__label sk-toggleable__label-arrow\">Ridge</label><div class=\"sk-toggleable__content\"><pre>Ridge(alpha=10000)</pre></div></div></div></div></div>"
      ],
      "text/plain": [
       "Ridge(alpha=10000)"
      ]
     },
     "execution_count": 144,
     "metadata": {},
     "output_type": "execute_result"
    }
   ],
   "source": [
    "best_score"
   ]
  },
  {
   "cell_type": "code",
   "execution_count": 160,
   "metadata": {},
   "outputs": [
    {
     "data": {
      "text/plain": [
       "0.13870283743208878"
      ]
     },
     "execution_count": 160,
     "metadata": {},
     "output_type": "execute_result"
    }
   ],
   "source": [
    "pr=PolynomialFeatures(degree=7)\n",
    "x_train_pr = pr.fit_transform(x_train)\n",
    "x_test_pr = pr.fit_transform(x_test)\n",
    "\n",
    "x_train_fin = scaler.fit_transform(x_train_pr)\n",
    "x_test_fin = scaler.transform(x_test_pr)\n",
    "\n",
    "grid1.fit(x_train_fin, y_train)\n",
    "\n",
    "best_score = grid1.best_estimator_\n",
    "best_score.score(x_test_fin, y_test)"
   ]
  },
  {
   "cell_type": "code",
   "execution_count": 161,
   "metadata": {},
   "outputs": [
    {
     "data": {
      "text/html": [
       "<style>#sk-container-id-13 {color: black;}#sk-container-id-13 pre{padding: 0;}#sk-container-id-13 div.sk-toggleable {background-color: white;}#sk-container-id-13 label.sk-toggleable__label {cursor: pointer;display: block;width: 100%;margin-bottom: 0;padding: 0.3em;box-sizing: border-box;text-align: center;}#sk-container-id-13 label.sk-toggleable__label-arrow:before {content: \"▸\";float: left;margin-right: 0.25em;color: #696969;}#sk-container-id-13 label.sk-toggleable__label-arrow:hover:before {color: black;}#sk-container-id-13 div.sk-estimator:hover label.sk-toggleable__label-arrow:before {color: black;}#sk-container-id-13 div.sk-toggleable__content {max-height: 0;max-width: 0;overflow: hidden;text-align: left;background-color: #f0f8ff;}#sk-container-id-13 div.sk-toggleable__content pre {margin: 0.2em;color: black;border-radius: 0.25em;background-color: #f0f8ff;}#sk-container-id-13 input.sk-toggleable__control:checked~div.sk-toggleable__content {max-height: 200px;max-width: 100%;overflow: auto;}#sk-container-id-13 input.sk-toggleable__control:checked~label.sk-toggleable__label-arrow:before {content: \"▾\";}#sk-container-id-13 div.sk-estimator input.sk-toggleable__control:checked~label.sk-toggleable__label {background-color: #d4ebff;}#sk-container-id-13 div.sk-label input.sk-toggleable__control:checked~label.sk-toggleable__label {background-color: #d4ebff;}#sk-container-id-13 input.sk-hidden--visually {border: 0;clip: rect(1px 1px 1px 1px);clip: rect(1px, 1px, 1px, 1px);height: 1px;margin: -1px;overflow: hidden;padding: 0;position: absolute;width: 1px;}#sk-container-id-13 div.sk-estimator {font-family: monospace;background-color: #f0f8ff;border: 1px dotted black;border-radius: 0.25em;box-sizing: border-box;margin-bottom: 0.5em;}#sk-container-id-13 div.sk-estimator:hover {background-color: #d4ebff;}#sk-container-id-13 div.sk-parallel-item::after {content: \"\";width: 100%;border-bottom: 1px solid gray;flex-grow: 1;}#sk-container-id-13 div.sk-label:hover label.sk-toggleable__label {background-color: #d4ebff;}#sk-container-id-13 div.sk-serial::before {content: \"\";position: absolute;border-left: 1px solid gray;box-sizing: border-box;top: 0;bottom: 0;left: 50%;z-index: 0;}#sk-container-id-13 div.sk-serial {display: flex;flex-direction: column;align-items: center;background-color: white;padding-right: 0.2em;padding-left: 0.2em;position: relative;}#sk-container-id-13 div.sk-item {position: relative;z-index: 1;}#sk-container-id-13 div.sk-parallel {display: flex;align-items: stretch;justify-content: center;background-color: white;position: relative;}#sk-container-id-13 div.sk-item::before, #sk-container-id-13 div.sk-parallel-item::before {content: \"\";position: absolute;border-left: 1px solid gray;box-sizing: border-box;top: 0;bottom: 0;left: 50%;z-index: -1;}#sk-container-id-13 div.sk-parallel-item {display: flex;flex-direction: column;z-index: 1;position: relative;background-color: white;}#sk-container-id-13 div.sk-parallel-item:first-child::after {align-self: flex-end;width: 50%;}#sk-container-id-13 div.sk-parallel-item:last-child::after {align-self: flex-start;width: 50%;}#sk-container-id-13 div.sk-parallel-item:only-child::after {width: 0;}#sk-container-id-13 div.sk-dashed-wrapped {border: 1px dashed gray;margin: 0 0.4em 0.5em 0.4em;box-sizing: border-box;padding-bottom: 0.4em;background-color: white;}#sk-container-id-13 div.sk-label label {font-family: monospace;font-weight: bold;display: inline-block;line-height: 1.2em;}#sk-container-id-13 div.sk-label-container {text-align: center;}#sk-container-id-13 div.sk-container {/* jupyter's `normalize.less` sets `[hidden] { display: none; }` but bootstrap.min.css set `[hidden] { display: none !important; }` so we also need the `!important` here to be able to override the default hidden behavior on the sphinx rendered scikit-learn.org. See: https://github.com/scikit-learn/scikit-learn/issues/21755 */display: inline-block !important;position: relative;}#sk-container-id-13 div.sk-text-repr-fallback {display: none;}</style><div id=\"sk-container-id-13\" class=\"sk-top-container\"><div class=\"sk-text-repr-fallback\"><pre>Ridge(alpha=0)</pre><b>In a Jupyter environment, please rerun this cell to show the HTML representation or trust the notebook. <br />On GitHub, the HTML representation is unable to render, please try loading this page with nbviewer.org.</b></div><div class=\"sk-container\" hidden><div class=\"sk-item\"><div class=\"sk-estimator sk-toggleable\"><input class=\"sk-toggleable__control sk-hidden--visually\" id=\"sk-estimator-id-17\" type=\"checkbox\" checked><label for=\"sk-estimator-id-17\" class=\"sk-toggleable__label sk-toggleable__label-arrow\">Ridge</label><div class=\"sk-toggleable__content\"><pre>Ridge(alpha=0)</pre></div></div></div></div></div>"
      ],
      "text/plain": [
       "Ridge(alpha=0)"
      ]
     },
     "execution_count": 161,
     "metadata": {},
     "output_type": "execute_result"
    }
   ],
   "source": [
    "best_score"
   ]
  },
  {
   "cell_type": "code",
   "execution_count": 155,
   "metadata": {},
   "outputs": [
    {
     "data": {
      "text/plain": [
       "0.1387029190779384"
      ]
     },
     "execution_count": 155,
     "metadata": {},
     "output_type": "execute_result"
    }
   ],
   "source": [
    "test_results[6]"
   ]
  },
  {
   "cell_type": "code",
   "execution_count": 163,
   "metadata": {},
   "outputs": [
    {
     "data": {
      "text/plain": [
       "173.09497694200203"
      ]
     },
     "execution_count": 163,
     "metadata": {},
     "output_type": "execute_result"
    }
   ],
   "source": [
    "from sklearn.metrics import mean_squared_error\n",
    "\n",
    "lr.fit(x_train_fin, y_train)\n",
    "\n",
    "yhat = lr.predict(x_test_fin)\n",
    "\n",
    "mean_squared_error(y_test, yhat)"
   ]
  },
  {
   "cell_type": "code",
   "execution_count": 168,
   "metadata": {},
   "outputs": [
    {
     "name": "stderr",
     "output_type": "stream",
     "text": [
      "c:\\Users\\matte\\anaconda3\\Lib\\site-packages\\seaborn\\_oldcore.py:1498: FutureWarning: is_categorical_dtype is deprecated and will be removed in a future version. Use isinstance(dtype, CategoricalDtype) instead\n",
      "  if pd.api.types.is_categorical_dtype(vector):\n",
      "c:\\Users\\matte\\anaconda3\\Lib\\site-packages\\seaborn\\_oldcore.py:1119: FutureWarning: use_inf_as_na option is deprecated and will be removed in a future version. Convert inf values to NaN before operating instead.\n",
      "  with pd.option_context('mode.use_inf_as_na', True):\n",
      "c:\\Users\\matte\\anaconda3\\Lib\\site-packages\\seaborn\\_oldcore.py:1498: FutureWarning: is_categorical_dtype is deprecated and will be removed in a future version. Use isinstance(dtype, CategoricalDtype) instead\n",
      "  if pd.api.types.is_categorical_dtype(vector):\n",
      "c:\\Users\\matte\\anaconda3\\Lib\\site-packages\\seaborn\\_oldcore.py:1119: FutureWarning: use_inf_as_na option is deprecated and will be removed in a future version. Convert inf values to NaN before operating instead.\n",
      "  with pd.option_context('mode.use_inf_as_na', True):\n"
     ]
    },
    {
     "data": {
      "image/png": "[encoded data removed]",
      "text/plain": [
       "<Figure size 640x480 with 1 Axes>"
      ]
     },
     "metadata": {},
     "output_type": "display_data"
    }
   ],
   "source": [
    "ax1 = sns.kdeplot(y_test, fill=True, color='b', label='Real Value')\n",
    "sns.kdeplot(yhat, fill=True, color='r', label='Predicted Value', ax=ax1)\n",
    "\n",
    "plt.legend();"
   ]
  },
  {
   "cell_type": "code",
   "execution_count": null,
   "metadata": {},
   "outputs": [],
   "source": [
    "# The best model for death age and birth year is:\n",
    "# degree = 7 — aplha = 0"
   ]
  },
  {
   "cell_type": "markdown",
   "metadata": {},
   "source": [
    "## Job-death age"
   ]
  },
  {
   "cell_type": "code",
   "execution_count": 171,
   "metadata": {},
   "outputs": [
    {
     "data": {
      "text/html": [
       "<div>\n",
       "<style scoped>\n",
       "    .dataframe tbody tr th:only-of-type {\n",
       "        vertical-align: middle;\n",
       "    }\n",
       "\n",
       "    .dataframe tbody tr th {\n",
       "        vertical-align: top;\n",
       "    }\n",
       "\n",
       "    .dataframe thead th {\n",
       "        text-align: right;\n",
       "    }\n",
       "</style>\n",
       "<table border=\"1\" class=\"dataframe\">\n",
       "  <thead>\n",
       "    <tr style=\"text-align: right;\">\n",
       "      <th></th>\n",
       "      <th>gender</th>\n",
       "      <th>birth year</th>\n",
       "      <th>death age</th>\n",
       "      <th>aristocrat</th>\n",
       "      <th>artist</th>\n",
       "      <th>athlete</th>\n",
       "      <th>businessperson</th>\n",
       "      <th>engineer</th>\n",
       "      <th>entrepreneur</th>\n",
       "      <th>journalist</th>\n",
       "      <th>judge</th>\n",
       "      <th>jurist</th>\n",
       "      <th>lawyer</th>\n",
       "      <th>military personnel</th>\n",
       "      <th>physician</th>\n",
       "      <th>politician</th>\n",
       "      <th>religious figure</th>\n",
       "      <th>researcher</th>\n",
       "      <th>teacher</th>\n",
       "      <th>austria</th>\n",
       "      <th>belgium</th>\n",
       "      <th>canada</th>\n",
       "      <th>denmark</th>\n",
       "      <th>finland</th>\n",
       "      <th>france</th>\n",
       "      <th>germany</th>\n",
       "      <th>italy</th>\n",
       "      <th>japan</th>\n",
       "      <th>kingdom of italy</th>\n",
       "      <th>kingdom of the netherlands</th>\n",
       "      <th>norway</th>\n",
       "      <th>poland</th>\n",
       "      <th>spain</th>\n",
       "      <th>sweden</th>\n",
       "      <th>switzerland</th>\n",
       "      <th>united kingdom</th>\n",
       "      <th>united states of america</th>\n",
       "    </tr>\n",
       "  </thead>\n",
       "  <tbody>\n",
       "    <tr>\n",
       "      <th>246935</th>\n",
       "      <td>1</td>\n",
       "      <td>1877</td>\n",
       "      <td>75.0</td>\n",
       "      <td>0</td>\n",
       "      <td>0</td>\n",
       "      <td>0</td>\n",
       "      <td>1</td>\n",
       "      <td>0</td>\n",
       "      <td>0</td>\n",
       "      <td>0</td>\n",
       "      <td>0</td>\n",
       "      <td>0</td>\n",
       "      <td>0</td>\n",
       "      <td>0</td>\n",
       "      <td>0</td>\n",
       "      <td>0</td>\n",
       "      <td>0</td>\n",
       "      <td>0</td>\n",
       "      <td>0</td>\n",
       "      <td>0</td>\n",
       "      <td>0</td>\n",
       "      <td>0</td>\n",
       "      <td>0</td>\n",
       "      <td>0</td>\n",
       "      <td>0</td>\n",
       "      <td>0</td>\n",
       "      <td>0</td>\n",
       "      <td>0</td>\n",
       "      <td>0</td>\n",
       "      <td>0</td>\n",
       "      <td>0</td>\n",
       "      <td>0</td>\n",
       "      <td>0</td>\n",
       "      <td>0</td>\n",
       "      <td>0</td>\n",
       "      <td>0</td>\n",
       "      <td>1</td>\n",
       "    </tr>\n",
       "  </tbody>\n",
       "</table>\n",
       "</div>"
      ],
      "text/plain": [
       "        gender  birth year  death age  aristocrat  artist  athlete  \\\n",
       "246935       1        1877       75.0           0       0        0   \n",
       "\n",
       "        businessperson  engineer  entrepreneur  journalist  judge  jurist  \\\n",
       "246935               1         0             0           0      0       0   \n",
       "\n",
       "        lawyer  military personnel  physician  politician  religious figure  \\\n",
       "246935       0                   0          0           0                 0   \n",
       "\n",
       "        researcher  teacher  austria  belgium  canada  denmark  finland  \\\n",
       "246935           0        0        0        0       0        0        0   \n",
       "\n",
       "        france  germany  italy  japan  kingdom of italy  \\\n",
       "246935       0        0      0      0                 0   \n",
       "\n",
       "        kingdom of the netherlands  norway  poland  spain  sweden  \\\n",
       "246935                           0       0       0      0       0   \n",
       "\n",
       "        switzerland  united kingdom  united states of america  \n",
       "246935            0               0                         1  "
      ]
     },
     "execution_count": 171,
     "metadata": {},
     "output_type": "execute_result"
    }
   ],
   "source": [
    "df_mini.head(1)"
   ]
  },
  {
   "cell_type": "code",
   "execution_count": 174,
   "metadata": {},
   "outputs": [
    {
     "data": {
      "text/plain": [
       "death age             1.000000\n",
       "aristocrat           -0.014598\n",
       "artist               -0.024364\n",
       "athlete              -0.036826\n",
       "businessperson        0.036261\n",
       "engineer              0.016634\n",
       "entrepreneur          0.006706\n",
       "journalist           -0.007043\n",
       "judge                 0.026590\n",
       "jurist               -0.002704\n",
       "lawyer                0.007754\n",
       "military personnel   -0.049817\n",
       "physician             0.005397\n",
       "politician           -0.002288\n",
       "religious figure      0.025512\n",
       "researcher            0.057041\n",
       "teacher               0.025895\n",
       "Name: death age, dtype: float64"
      ]
     },
     "execution_count": 174,
     "metadata": {},
     "output_type": "execute_result"
    }
   ],
   "source": [
    "corr_matrix = df_mini.loc[:,'death age':'teacher'].corr()\n",
    "corr_matrix.loc['death age', :]"
   ]
  },
  {
   "cell_type": "code",
   "execution_count": 177,
   "metadata": {},
   "outputs": [
    {
     "data": {
      "text/plain": [
       "[0.0,\n",
       " 5.798378045081195e-14,\n",
       " 3.0946542258637643e-50,\n",
       " 9.025910229721832e-187,\n",
       " 8.640952033213517e-100,\n",
       " 7.626232520843023e-13,\n",
       " 1.290139701539215e-07,\n",
       " 2.208925202086058e-09,\n",
       " 8.695840297318796e-55,\n",
       " 0.28957389731550937,\n",
       " 0.005771131579608162,\n",
       " 1.5847325417246628e-165,\n",
       " 0.00016316802272012558,\n",
       " 0.006023597002581792,\n",
       " 5.18147945459524e-35,\n",
       " 0.0,\n",
       " 9.954134265147782e-77]"
      ]
     },
     "execution_count": 177,
     "metadata": {},
     "output_type": "execute_result"
    }
   ],
   "source": [
    "results_p_value = []\n",
    "\n",
    "for i in df_mini.loc[:,'death age':'teacher'].columns.tolist():\n",
    "\n",
    "    pearson_coef,p_value=stats.pearsonr(df2['death age'], df2[i])\n",
    "    results_p_value.append(p_value)\n",
    "\n",
    "results_p_value"
   ]
  },
  {
   "cell_type": "code",
   "execution_count": 179,
   "metadata": {},
   "outputs": [
    {
     "data": {
      "text/plain": [
       "0.010178615911856315"
      ]
     },
     "execution_count": 179,
     "metadata": {},
     "output_type": "execute_result"
    }
   ],
   "source": [
    "z_data = df_mini.loc[:,'aristocrat':'teacher']\n",
    "\n",
    "z_train, z_test, y_train, y_test = train_test_split(z_data, y_data, \n",
    "                                                    test_size=0.25, random_state=1)\n",
    "\n",
    "rcross = cross_val_score(lr, z_data, y_data, cv=4)\n",
    "rcross.mean()\n"
   ]
  },
  {
   "cell_type": "code",
   "execution_count": 183,
   "metadata": {},
   "outputs": [
    {
     "name": "stdout",
     "output_type": "stream",
     "text": [
      "1 done!\n",
      "2 done!\n",
      "3 done!\n"
     ]
    }
   ],
   "source": [
    "scaler = StandardScaler()\n",
    "\n",
    "results_job_death = []\n",
    "\n",
    "order = [1,2,3]\n",
    "\n",
    "for i in order:\n",
    "    pr = PolynomialFeatures(degree=i)\n",
    "\n",
    "    z_train_pr = pr.fit_transform(z_train)\n",
    "    z_test_pr = pr.fit_transform(z_test)\n",
    "\n",
    "    z_train_fin = scaler.fit_transform(z_train_pr)\n",
    "    z_test_fin = scaler.fit_transform(z_test_pr)\n",
    "\n",
    "    lr.fit(z_train_fin, y_train)\n",
    "\n",
    "    results_job_death.append(lr.score(z_test_fin, y_test))\n",
    "\n",
    "    print(i, 'done!')"
   ]
  },
  {
   "cell_type": "code",
   "execution_count": 185,
   "metadata": {},
   "outputs": [
    {
     "data": {
      "image/png": "[encoded data removed]",
      "text/plain": [
       "<Figure size 640x480 with 1 Axes>"
      ]
     },
     "metadata": {},
     "output_type": "display_data"
    }
   ],
   "source": [
    "plt.plot(order, results_job_death);"
   ]
  },
  {
   "cell_type": "code",
   "execution_count": 187,
   "metadata": {},
   "outputs": [
    {
     "data": {
      "text/plain": [
       "0.009155891702448127"
      ]
     },
     "execution_count": 187,
     "metadata": {},
     "output_type": "execute_result"
    }
   ],
   "source": [
    "param2 = [{'alpha':[0, 0.001, 0.01, 0.1]}]\n",
    "\n",
    "grid2 = GridSearchCV(rr, param2)\n",
    "\n",
    "grid2.fit(z_train_fin, y_train)\n",
    "\n",
    "best_score = grid2.best_estimator_\n",
    "best_score.score(z_test_fin, y_test)"
   ]
  },
  {
   "cell_type": "code",
   "execution_count": 191,
   "metadata": {},
   "outputs": [],
   "source": [
    "lr.fit(z_train, y_train)\n",
    "\n",
    "yhat2 = lr.predict(z_test)"
   ]
  },
  {
   "cell_type": "code",
   "execution_count": 192,
   "metadata": {},
   "outputs": [
    {
     "name": "stderr",
     "output_type": "stream",
     "text": [
      "c:\\Users\\matte\\anaconda3\\Lib\\site-packages\\seaborn\\_oldcore.py:1498: FutureWarning: is_categorical_dtype is deprecated and will be removed in a future version. Use isinstance(dtype, CategoricalDtype) instead\n",
      "  if pd.api.types.is_categorical_dtype(vector):\n",
      "c:\\Users\\matte\\anaconda3\\Lib\\site-packages\\seaborn\\_oldcore.py:1119: FutureWarning: use_inf_as_na option is deprecated and will be removed in a future version. Convert inf values to NaN before operating instead.\n",
      "  with pd.option_context('mode.use_inf_as_na', True):\n",
      "c:\\Users\\matte\\anaconda3\\Lib\\site-packages\\seaborn\\_oldcore.py:1498: FutureWarning: is_categorical_dtype is deprecated and will be removed in a future version. Use isinstance(dtype, CategoricalDtype) instead\n",
      "  if pd.api.types.is_categorical_dtype(vector):\n",
      "c:\\Users\\matte\\anaconda3\\Lib\\site-packages\\seaborn\\_oldcore.py:1119: FutureWarning: use_inf_as_na option is deprecated and will be removed in a future version. Convert inf values to NaN before operating instead.\n",
      "  with pd.option_context('mode.use_inf_as_na', True):\n"
     ]
    },
    {
     "data": {
      "image/png": "[encoded data removed]",
      "text/plain": [
       "<Figure size 640x480 with 1 Axes>"
      ]
     },
     "metadata": {},
     "output_type": "display_data"
    }
   ],
   "source": [
    "ax1 = sns.kdeplot(y_test, fill=True, color='b', label='Real Value')\n",
    "sns.kdeplot(yhat2, fill=True, color='r', label='Predicted Value', ax=ax1)\n",
    "\n",
    "plt.legend();"
   ]
  },
  {
   "cell_type": "code",
   "execution_count": 194,
   "metadata": {},
   "outputs": [
    {
     "name": "stdout",
     "output_type": "stream",
     "text": [
      "Job-death-----\n",
      "MSE: 199.1142071845886\n",
      "R: 0.009234765514546828\n"
     ]
    }
   ],
   "source": [
    "print('Job-death-----')\n",
    "print('MSE:', mean_squared_error(y_test, yhat2))\n",
    "print('R:', lr.score(z_test, y_test))"
   ]
  },
  {
   "cell_type": "code",
   "execution_count": 195,
   "metadata": {},
   "outputs": [],
   "source": [
    "t_data = df_mini.drop('death age', axis=1)\n",
    "\n",
    "t_train, t_test, y_train, y_test = train_test_split(t_data, y_data, \n",
    "                                                    test_size=0.25, random_state=1)"
   ]
  },
  {
   "cell_type": "code",
   "execution_count": 196,
   "metadata": {},
   "outputs": [
    {
     "data": {
      "text/html": [
       "<div>\n",
       "<style scoped>\n",
       "    .dataframe tbody tr th:only-of-type {\n",
       "        vertical-align: middle;\n",
       "    }\n",
       "\n",
       "    .dataframe tbody tr th {\n",
       "        vertical-align: top;\n",
       "    }\n",
       "\n",
       "    .dataframe thead th {\n",
       "        text-align: right;\n",
       "    }\n",
       "</style>\n",
       "<table border=\"1\" class=\"dataframe\">\n",
       "  <thead>\n",
       "    <tr style=\"text-align: right;\">\n",
       "      <th></th>\n",
       "      <th>gender</th>\n",
       "      <th>birth year</th>\n",
       "      <th>aristocrat</th>\n",
       "      <th>artist</th>\n",
       "      <th>athlete</th>\n",
       "      <th>businessperson</th>\n",
       "      <th>engineer</th>\n",
       "      <th>entrepreneur</th>\n",
       "      <th>journalist</th>\n",
       "      <th>judge</th>\n",
       "      <th>jurist</th>\n",
       "      <th>lawyer</th>\n",
       "      <th>military personnel</th>\n",
       "      <th>physician</th>\n",
       "      <th>politician</th>\n",
       "      <th>religious figure</th>\n",
       "      <th>researcher</th>\n",
       "      <th>teacher</th>\n",
       "      <th>austria</th>\n",
       "      <th>belgium</th>\n",
       "      <th>canada</th>\n",
       "      <th>denmark</th>\n",
       "      <th>finland</th>\n",
       "      <th>france</th>\n",
       "      <th>germany</th>\n",
       "      <th>italy</th>\n",
       "      <th>japan</th>\n",
       "      <th>kingdom of italy</th>\n",
       "      <th>kingdom of the netherlands</th>\n",
       "      <th>norway</th>\n",
       "      <th>poland</th>\n",
       "      <th>spain</th>\n",
       "      <th>sweden</th>\n",
       "      <th>switzerland</th>\n",
       "      <th>united kingdom</th>\n",
       "      <th>united states of america</th>\n",
       "    </tr>\n",
       "  </thead>\n",
       "  <tbody>\n",
       "    <tr>\n",
       "      <th>291309</th>\n",
       "      <td>1</td>\n",
       "      <td>1818</td>\n",
       "      <td>0</td>\n",
       "      <td>0</td>\n",
       "      <td>0</td>\n",
       "      <td>0</td>\n",
       "      <td>0</td>\n",
       "      <td>0</td>\n",
       "      <td>0</td>\n",
       "      <td>0</td>\n",
       "      <td>0</td>\n",
       "      <td>0</td>\n",
       "      <td>0</td>\n",
       "      <td>0</td>\n",
       "      <td>1</td>\n",
       "      <td>0</td>\n",
       "      <td>0</td>\n",
       "      <td>0</td>\n",
       "      <td>0</td>\n",
       "      <td>0</td>\n",
       "      <td>0</td>\n",
       "      <td>0</td>\n",
       "      <td>0</td>\n",
       "      <td>0</td>\n",
       "      <td>0</td>\n",
       "      <td>0</td>\n",
       "      <td>0</td>\n",
       "      <td>0</td>\n",
       "      <td>0</td>\n",
       "      <td>0</td>\n",
       "      <td>0</td>\n",
       "      <td>0</td>\n",
       "      <td>0</td>\n",
       "      <td>0</td>\n",
       "      <td>0</td>\n",
       "      <td>1</td>\n",
       "    </tr>\n",
       "    <tr>\n",
       "      <th>325727</th>\n",
       "      <td>1</td>\n",
       "      <td>1890</td>\n",
       "      <td>0</td>\n",
       "      <td>0</td>\n",
       "      <td>0</td>\n",
       "      <td>0</td>\n",
       "      <td>0</td>\n",
       "      <td>0</td>\n",
       "      <td>0</td>\n",
       "      <td>0</td>\n",
       "      <td>0</td>\n",
       "      <td>0</td>\n",
       "      <td>0</td>\n",
       "      <td>0</td>\n",
       "      <td>1</td>\n",
       "      <td>0</td>\n",
       "      <td>0</td>\n",
       "      <td>0</td>\n",
       "      <td>0</td>\n",
       "      <td>0</td>\n",
       "      <td>0</td>\n",
       "      <td>0</td>\n",
       "      <td>0</td>\n",
       "      <td>0</td>\n",
       "      <td>0</td>\n",
       "      <td>0</td>\n",
       "      <td>1</td>\n",
       "      <td>0</td>\n",
       "      <td>0</td>\n",
       "      <td>0</td>\n",
       "      <td>0</td>\n",
       "      <td>0</td>\n",
       "      <td>0</td>\n",
       "      <td>0</td>\n",
       "      <td>0</td>\n",
       "      <td>0</td>\n",
       "    </tr>\n",
       "  </tbody>\n",
       "</table>\n",
       "</div>"
      ],
      "text/plain": [
       "        gender  birth year  aristocrat  artist  athlete  businessperson  \\\n",
       "291309       1        1818           0       0        0               0   \n",
       "325727       1        1890           0       0        0               0   \n",
       "\n",
       "        engineer  entrepreneur  journalist  judge  jurist  lawyer  \\\n",
       "291309         0             0           0      0       0       0   \n",
       "325727         0             0           0      0       0       0   \n",
       "\n",
       "        military personnel  physician  politician  religious figure  \\\n",
       "291309                   0          0           1                 0   \n",
       "325727                   0          0           1                 0   \n",
       "\n",
       "        researcher  teacher  austria  belgium  canada  denmark  finland  \\\n",
       "291309           0        0        0        0       0        0        0   \n",
       "325727           0        0        0        0       0        0        0   \n",
       "\n",
       "        france  germany  italy  japan  kingdom of italy  \\\n",
       "291309       0        0      0      0                 0   \n",
       "325727       0        0      0      1                 0   \n",
       "\n",
       "        kingdom of the netherlands  norway  poland  spain  sweden  \\\n",
       "291309                           0       0       0      0       0   \n",
       "325727                           0       0       0      0       0   \n",
       "\n",
       "        switzerland  united kingdom  united states of america  \n",
       "291309            0               0                         1  \n",
       "325727            0               0                         0  "
      ]
     },
     "execution_count": 196,
     "metadata": {},
     "output_type": "execute_result"
    }
   ],
   "source": [
    "t_train.head(2)"
   ]
  },
  {
   "cell_type": "code",
   "execution_count": 202,
   "metadata": {},
   "outputs": [
    {
     "name": "stdout",
     "output_type": "stream",
     "text": [
      "Gender-death-----\n",
      "P-value: 0.0\n",
      "MSE: 200.2000088045348\n",
      "R: 0.0038319642187387704\n"
     ]
    }
   ],
   "source": [
    "lr.fit(t_train[['gender']], y_train)\n",
    "\n",
    "yhat_gender = lr.predict(t_test[['gender']])\n",
    "\n",
    "print('Gender-death-----')\n",
    "print('P-value:', stats.pearsonr(df2['death age'], df2['gender'])[1])\n",
    "print('MSE:', mean_squared_error(y_test, yhat_gender))\n",
    "print('R:', lr.score(t_test[['gender']], y_test))"
   ]
  },
  {
   "cell_type": "code",
   "execution_count": 206,
   "metadata": {},
   "outputs": [
    {
     "name": "stdout",
     "output_type": "stream",
     "text": [
      "Gender-death-----\n",
      "P-value: 1.898040035816662e-07\n",
      "MSE: 199.82498562090453\n",
      "R: 0.005698028613242201\n"
     ]
    }
   ],
   "source": [
    "lr.fit(t_train.loc[:,'austria':'united states of america'], y_train)\n",
    "\n",
    "yhat_gender = lr.predict(t_test.loc[:,'austria':'united states of america'])\n",
    "\n",
    "print('Gender-death-----')\n",
    "print('P-value:', stats.pearsonr(df2['death age'], df2['germany'])[1])\n",
    "print('MSE:', mean_squared_error(y_test, yhat_gender))\n",
    "print('R:', lr.score(t_test.loc[:,'austria':'united states of america'], y_test))"
   ]
  },
  {
   "cell_type": "markdown",
   "metadata": {},
   "source": [
    "## All combined"
   ]
  },
  {
   "cell_type": "code",
   "execution_count": 4,
   "metadata": {},
   "outputs": [
    {
     "data": {
      "text/html": [
       "<div>\n",
       "<style scoped>\n",
       "    .dataframe tbody tr th:only-of-type {\n",
       "        vertical-align: middle;\n",
       "    }\n",
       "\n",
       "    .dataframe tbody tr th {\n",
       "        vertical-align: top;\n",
       "    }\n",
       "\n",
       "    .dataframe thead th {\n",
       "        text-align: right;\n",
       "    }\n",
       "</style>\n",
       "<table border=\"1\" class=\"dataframe\">\n",
       "  <thead>\n",
       "    <tr style=\"text-align: right;\">\n",
       "      <th></th>\n",
       "      <th>gender</th>\n",
       "      <th>birth year</th>\n",
       "      <th>death age</th>\n",
       "      <th>aristocrat</th>\n",
       "      <th>artist</th>\n",
       "      <th>athlete</th>\n",
       "      <th>businessperson</th>\n",
       "      <th>engineer</th>\n",
       "      <th>entrepreneur</th>\n",
       "      <th>journalist</th>\n",
       "      <th>...</th>\n",
       "      <th>japan</th>\n",
       "      <th>kingdom of italy</th>\n",
       "      <th>kingdom of the netherlands</th>\n",
       "      <th>norway</th>\n",
       "      <th>poland</th>\n",
       "      <th>spain</th>\n",
       "      <th>sweden</th>\n",
       "      <th>switzerland</th>\n",
       "      <th>united kingdom</th>\n",
       "      <th>united states of america</th>\n",
       "    </tr>\n",
       "  </thead>\n",
       "  <tbody>\n",
       "    <tr>\n",
       "      <th>246935</th>\n",
       "      <td>1</td>\n",
       "      <td>1877</td>\n",
       "      <td>75.0</td>\n",
       "      <td>0</td>\n",
       "      <td>0</td>\n",
       "      <td>0</td>\n",
       "      <td>1</td>\n",
       "      <td>0</td>\n",
       "      <td>0</td>\n",
       "      <td>0</td>\n",
       "      <td>...</td>\n",
       "      <td>0</td>\n",
       "      <td>0</td>\n",
       "      <td>0</td>\n",
       "      <td>0</td>\n",
       "      <td>0</td>\n",
       "      <td>0</td>\n",
       "      <td>0</td>\n",
       "      <td>0</td>\n",
       "      <td>0</td>\n",
       "      <td>1</td>\n",
       "    </tr>\n",
       "  </tbody>\n",
       "</table>\n",
       "<p>1 rows × 37 columns</p>\n",
       "</div>"
      ],
      "text/plain": [
       "        gender  birth year  death age  aristocrat  artist  athlete  \\\n",
       "246935       1        1877       75.0           0       0        0   \n",
       "\n",
       "        businessperson  engineer  entrepreneur  journalist  ...  japan  \\\n",
       "246935               1         0             0           0  ...      0   \n",
       "\n",
       "        kingdom of italy  kingdom of the netherlands  norway  poland  spain  \\\n",
       "246935                 0                           0       0       0      0   \n",
       "\n",
       "        sweden  switzerland  united kingdom  united states of america  \n",
       "246935       0            0               0                         1  \n",
       "\n",
       "[1 rows x 37 columns]"
      ]
     },
     "execution_count": 4,
     "metadata": {},
     "output_type": "execute_result"
    }
   ],
   "source": [
    "df_mini.head(1)"
   ]
  },
  {
   "cell_type": "code",
   "execution_count": 8,
   "metadata": {},
   "outputs": [],
   "source": [
    "x_data = df_mini.drop('death age', axis=1).astype('float')\n",
    "y_data = df_mini['death age'].astype('float')\n",
    "\n",
    "x_train, x_test, y_train, y_test = train_test_split(x_data, y_data, test_size=0.2, random_state=1)"
   ]
  },
  {
   "cell_type": "code",
   "execution_count": 9,
   "metadata": {},
   "outputs": [],
   "source": [
    "scale = StandardScaler()\n",
    "pr = PolynomialFeatures(degree=7)\n",
    "\n",
    "x_train_sc = scale.fit_transform(x_train[['birth year']])\n",
    "x_test_sc = scale.fit_transform(x_test[['birth year']])\n",
    "\n",
    "x_train_by = pr.fit_transform(x_train_sc)\n",
    "x_test_by = pr.fit_transform(x_test_sc)"
   ]
  },
  {
   "cell_type": "code",
   "execution_count": 14,
   "metadata": {},
   "outputs": [],
   "source": [
    "x_train_fin = np.concatenate((x_train.drop('birth year', axis=1), x_train_by), axis=1)\n",
    "x_test_fin = np.concatenate((x_test.drop('birth year', axis=1), x_test_by), axis=1)"
   ]
  },
  {
   "cell_type": "code",
   "execution_count": 15,
   "metadata": {},
   "outputs": [
    {
     "data": {
      "text/plain": [
       "0.15172680316172027"
      ]
     },
     "execution_count": 15,
     "metadata": {},
     "output_type": "execute_result"
    }
   ],
   "source": [
    "lr = LinearRegression()\n",
    "\n",
    "lr.fit(x_train_fin, y_train)\n",
    "\n",
    "lr.score(x_test_fin, y_test)"
   ]
  },
  {
   "cell_type": "code",
   "execution_count": 16,
   "metadata": {},
   "outputs": [],
   "source": [
    "yhat_fin = lr.predict(x_test_fin)"
   ]
  },
  {
   "cell_type": "code",
   "execution_count": 17,
   "metadata": {},
   "outputs": [
    {
     "name": "stderr",
     "output_type": "stream",
     "text": [
      "c:\\Users\\matte\\anaconda3\\Lib\\site-packages\\seaborn\\_oldcore.py:1498: FutureWarning: is_categorical_dtype is deprecated and will be removed in a future version. Use isinstance(dtype, CategoricalDtype) instead\n",
      "  if pd.api.types.is_categorical_dtype(vector):\n",
      "c:\\Users\\matte\\anaconda3\\Lib\\site-packages\\seaborn\\_oldcore.py:1119: FutureWarning: use_inf_as_na option is deprecated and will be removed in a future version. Convert inf values to NaN before operating instead.\n",
      "  with pd.option_context('mode.use_inf_as_na', True):\n",
      "c:\\Users\\matte\\anaconda3\\Lib\\site-packages\\seaborn\\_oldcore.py:1498: FutureWarning: is_categorical_dtype is deprecated and will be removed in a future version. Use isinstance(dtype, CategoricalDtype) instead\n",
      "  if pd.api.types.is_categorical_dtype(vector):\n",
      "c:\\Users\\matte\\anaconda3\\Lib\\site-packages\\seaborn\\_oldcore.py:1119: FutureWarning: use_inf_as_na option is deprecated and will be removed in a future version. Convert inf values to NaN before operating instead.\n",
      "  with pd.option_context('mode.use_inf_as_na', True):\n"
     ]
    },
    {
     "data": {
      "image/png": "[encoded data removed]",
      "text/plain": [
       "<Figure size 640x480 with 1 Axes>"
      ]
     },
     "metadata": {},
     "output_type": "display_data"
    }
   ],
   "source": [
    "ax1 = sns.kdeplot(yhat_fin, fill=True, color='r', label='Predicted Data')\n",
    "sns.kdeplot(y_test, fill=True, color='b', label='Real Value')\n",
    "\n",
    "plt.legend();"
   ]
  },
  {
   "cell_type": "code",
   "execution_count": 18,
   "metadata": {},
   "outputs": [
    {
     "data": {
      "text/plain": [
       "170.4858609478109"
      ]
     },
     "execution_count": 18,
     "metadata": {},
     "output_type": "execute_result"
    }
   ],
   "source": [
    "mean_squared_error(y_test, yhat_fin)"
   ]
  },
  {
   "cell_type": "code",
   "execution_count": 43,
   "metadata": {},
   "outputs": [
    {
     "data": {
      "text/plain": [
       "['gender',\n",
       " 'birth year',\n",
       " 'death age',\n",
       " 'aristocrat',\n",
       " 'artist',\n",
       " 'athlete',\n",
       " 'businessperson',\n",
       " 'engineer',\n",
       " 'entrepreneur',\n",
       " 'journalist',\n",
       " 'judge',\n",
       " 'jurist',\n",
       " 'lawyer',\n",
       " 'military personnel',\n",
       " 'physician',\n",
       " 'politician',\n",
       " 'religious figure',\n",
       " 'researcher',\n",
       " 'teacher',\n",
       " 'austria',\n",
       " 'belgium',\n",
       " 'canada',\n",
       " 'denmark',\n",
       " 'finland',\n",
       " 'france',\n",
       " 'germany',\n",
       " 'italy',\n",
       " 'japan',\n",
       " 'kingdom of italy',\n",
       " 'kingdom of the netherlands',\n",
       " 'norway',\n",
       " 'poland',\n",
       " 'spain',\n",
       " 'sweden',\n",
       " 'switzerland',\n",
       " 'united kingdom',\n",
       " 'united states of america']"
      ]
     },
     "execution_count": 43,
     "metadata": {},
     "output_type": "execute_result"
    }
   ],
   "source": [
    "df_mini.columns.tolist()"
   ]
  },
  {
   "cell_type": "code",
   "execution_count": 45,
   "metadata": {},
   "outputs": [
    {
     "data": {
      "text/plain": [
       "array([72.9123023])"
      ]
     },
     "execution_count": 45,
     "metadata": {},
     "output_type": "execute_result"
    }
   ],
   "source": [
    "#From 1850 to 1930\n",
    "\n",
    "play = pd.DataFrame(columns=df_mini.columns)\n",
    "\n",
    "gender='male'\n",
    "byear=1930\n",
    "job='military personnel'\n",
    "location='japan'\n",
    "\n",
    "\n",
    "if gender == 'male':\n",
    "    play.loc[0, 'gender'] = 1\n",
    "else:\n",
    "    play.loc[0, 'gender'] = 0\n",
    "\n",
    "play.loc[0, location] = 1\n",
    "play.loc[0, job] = 1\n",
    "play.loc[0, 'birth year'] = byear\n",
    "play.fillna(0, inplace=True)\n",
    "play_by = play[['birth year']]\n",
    "play.drop(['birth year', 'death age'], axis=1, inplace=True)\n",
    "\n",
    "play_by = scale.transform(play_by)\n",
    "play_by = pr.transform(play_by)\n",
    "\n",
    "play = np.concatenate((play, play_by), axis=1)\n",
    "\n",
    "lr.predict(play)\n"
   ]
  },
  {
   "cell_type": "code",
   "execution_count": 32,
   "metadata": {},
   "outputs": [
    {
     "name": "stderr",
     "output_type": "stream",
     "text": [
      "c:\\Users\\matte\\anaconda3\\Lib\\site-packages\\seaborn\\_oldcore.py:1498: FutureWarning: is_categorical_dtype is deprecated and will be removed in a future version. Use isinstance(dtype, CategoricalDtype) instead\n",
      "  if pd.api.types.is_categorical_dtype(vector):\n"
     ]
    },
    {
     "data": {
      "text/plain": [
       "<Axes: xlabel='birth year'>"
      ]
     },
     "execution_count": 32,
     "metadata": {},
     "output_type": "execute_result"
    },
    {
     "data": {
      "image/png": "[encoded data removed]",
      "text/plain": [
       "<Figure size 640x480 with 1 Axes>"
      ]
     },
     "metadata": {},
     "output_type": "display_data"
    }
   ],
   "source": [
    "sns.boxplot(x=x_train['birth year'])"
   ]
  }
 ],
 "metadata": {
  "kernelspec": {
   "display_name": "base",
   "language": "python",
   "name": "python3"
  },
  "language_info": {
   "codemirror_mode": {
    "name": "ipython",
    "version": 3
   },
   "file_extension": ".py",
   "mimetype": "text/x-python",
   "name": "python",
   "nbconvert_exporter": "python",
   "pygments_lexer": "ipython3",
   "version": "3.11.5"
  }
 },
 "nbformat": 4,
 "nbformat_minor": 2
}
